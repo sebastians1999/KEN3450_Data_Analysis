{
 "cells": [
  {
   "cell_type": "markdown",
   "id": "7e3a9aff",
   "metadata": {},
   "source": [
    "(Placeholder for your group #)\n",
    "\n",
    "(Placeholder for your names)\n",
    "\n",
    "(Placeholder for your i-numbers)"
   ]
  },
  {
   "cell_type": "markdown",
   "id": "5d5ab070",
   "metadata": {},
   "source": [
    "**Use of genAI tools (e.g. chatGPT), websites (e.g. stackoverflow)**: *list websites where you found code (or other info) as well as include information on how you used genAI tools*"
   ]
  },
  {
   "cell_type": "markdown",
   "id": "2a108445",
   "metadata": {},
   "source": [
    "# Data Analysis, Clinic 1\n",
    "# FIETS: Fundamentele Innovatie En Technologie in Scholing\n",
    "## Met FIETS blijft het onderwijs vooruitgaan, zelfs tegen de wind in!\n",
    "\n",
    "---\n",
    "\n",
    "By completing and delivering the clinic tasks you will know how to :\n",
    "\n",
    "- Load data and handle data using pandas;\n",
    "- Navigate the documentation of Python packages by yourself;\n",
    "- Filter and tidy up **noisy** real-world datasets;\n",
    "- Aggregate your data in different (and hopefully helpful) ways;\n",
    "- Use EDA to learn more about your data\n",
    "- Create and interpret informative visualizations to explore the data set\n",
    "- Derive meaningful insights for the societal impact of datasets\n",
    "\n",
    "---\n",
    "**Important Dates.**\n",
    "\n",
    "- Clinic 1 release: Thu 30 Jan 2024\n",
    "- Clinic 1 due: Fri 07 Feb 2024 late night, wildcards available\n",
    "\n",
    "**Instructions for the deliverable:**\n",
    "\n",
    "* You are allowed to use any built-in Python library that comes with Anaconda. If you want to use an external library, you may do so, but must justify your choice.\n",
    "\n",
    "* Make sure that you include a proper amount/mix of comments, results and code. More specifically, be sure to provide a concise textual description of your thought process, the assumptions you made, the solution you implemented, and explanations for your answers. A notebook that only has code cells will not suffice. To avoid confusion: use short comments for longer code answers.\n",
    "\n",
    "* For questions containing the /Discuss:/ prefix, answer not with code, but with a textual explanation (in markdown).\n",
    "\n",
    "* Back up any hypotheses and claims with data, since this is an important aspect of the course.\n",
    "\n",
    "* Please write all your comments in English, and use meaningful variable names (as possible) in your code. \n",
    "\n",
    "* In the end, make sure that all cells are executed properly and everything you need to show is in your (execucted) notebook. We will not run your notebook for you! \n",
    "\n",
    "- In continuation to the previous point, interactive plots, such as those generated using the ‘plotly’ package, should be strictly avoided! Make sure to print results and/or dataframes that confirm you have properly addressed the task.\n",
    "\n",
    "* You are asked to deliver **only your executed notebook file, .ipnyb** and nothing else. If you deliver other files, we will not grade anything.\n",
    "\n",
    "* Honor code applies to these tasks. If you are not certain about an action, consult with Jerry.\n",
    "\n",
    "**A Note from Jerry on using Language Models (LMs)**\n",
    "\n",
    "If you try hard enough, you will likely get away with cheating (that does not only apply to LMs). Fortunately, my job is not to police, but rather to educate you. So, please consider the following:\n",
    "\n",
    "I assume that you are taking this course to learn something! LMs are not always right ([they often fail in silly ways](https://community.openai.com/t/why-9-11-is-larger-than-9-9-incredible/869824/4)). This course should prepare you to detect when they are wrong!\n",
    "\n",
    "I don't restrict the use of LMs because I see the value of being helped when coding (esp. in the context of pandas dataframes nightmare :)). Based on what we saw last year in your notebooks, it's pretty clear when you \"copy\" some code and then you struggle to interpret the results. This is the essence of this course and of the skills you should try build for yourself: Many people can run fancy models these days but not many people can interpret the results correctly. Try to be the latter ones.\n",
    "\n",
    "---"
   ]
  },
  {
   "cell_type": "markdown",
   "id": "f9b54879",
   "metadata": {},
   "source": [
    "## Context\n",
    "\n",
    "AI is booming! Newspapers, influencers and your relatives all agree that AI is important. But while almost everyone agrees that AI is the future, much is unclear about what that future esp. in critical sectors like education looks like...\n",
    "\n",
    "Freshly graduated from a top Dutch university in Limburg, you are hired by the Dutch government to advise on a large-scale “education innovation” initiative code-named \"FIETS\" (Flexibele Innovatie voor Efficiënte Toepassing in Scholing). With higher education facing severe budget cuts, the government is looking for creative solutions to \"do more with less.\" Convinced by the stunning progress in language modeling, officials believe LLMs could help battle growing teacher shortages and reduce costs by automating parts of the education process. Your job description: investigate which LMs might be best suited to plug the gaps without draining the budget!\n",
    "\n",
    "You are handed the results of three LMs on the [“Massive Multitask Language Understanding (MMLU)”](https://arxiv.org/abs/2009.03300) dataset  to compare. This famous dataset consists of 57 subjects with multiple-choice questions, covering diverse subjects like mathematics, computer science, history, and law. Most providers of state-of-the-art LMs use this dataset to showcase the versatility of their latest models. Unfortunately, the intern responsible for collecting the results, didn’t pay attention during DACS KEN3450: Data Analysis. As a result, the collected datasets are slightly corrupted. Jammer!\n",
    "\n",
    "The success of FIETS depends on your ability to make sense of the messy data and recommend the best model to keep the Dutch education system pedaling forward—despite uphill challenges like funding shortages and a skeptical academic community!\n",
    "\n",
    "### A very brief primer on Language Models\n",
    "We studied LLMs in the context of the NLP course but here is a short reminder. Language models (LMs) are sophisticated statistical models designed to understand and generate human-like text. At their core, LMs are trained to predict the most likely continuation of a given input text. For example, given the input \"The cat sat on the,\" an LM might predict \"mat\" as a likely continuation.\n",
    "LMs are trained on vast text samples from various sources, including books, websites, and social media. This extensive training allows them to capture patterns and relationships in language, enabling them to generate coherent and contextually appropriate text across a wide range of topics and styles.\n",
    "\n",
    "While LMs can produce text that appears to be written by intelligent humans, it's important to note that their capabilities can diverge from human intelligence in unexpected ways. They may sometimes generate factually incorrect information or struggle with complex reasoning tasks.\n",
    "\n",
    "Two key concepts in understanding LMs are:\n",
    "1. **Tokens**: LMs process text using \"tokens\" rather than individual characters. Tokens can be words, parts of words, or punctuation marks. For example, the sentence \"I love AI!\" might be tokenized as [\"I\", \"love\", \"AI\", \"!\"]. Tokenization is the first step in both training and using an LM.\n",
    "2. **Context**: The input text provided to an LM is called the \"context.\" This context informs the model's predictions or generations. A longer or more specific context often leads to more accurate and relevant outputs.\n",
    "\n",
    "[See: Wikipedia entry on language models](https://en.wikipedia.org/wiki/Large_language_model)\n",
    "\n",
    "###  Files for this assignment\n",
    "This assignment is divided into three tasks, each of which should bring you a step closer to providing a recommendation toward project the objectives of FIETS:\n",
    "\n",
    "- **Task 1**: Inspecting the results and getting your first model ranking\n",
    "- **Task 2**: Inspecting the underlying data used to generate the results for possible biases\n",
    "- **Task 3**: Learning about tokens and providing a final recommendation\n",
    "\n",
    "\n",
    "```\n",
    "📁 FIETS\n",
    "│\n",
    "├── 📄 clinic1.ipynb (the file you're currently reading!)\n",
    "│\n",
    "└── 📁 data\n",
    "    ├── 📁 task_1\n",
    "    ├── 📁 task_2\n",
    "    └── 📁 task_2.5\n",
    "```   \n",
    " "
   ]
  },
  {
   "cell_type": "code",
   "execution_count": 14,
   "id": "1c8fd700",
   "metadata": {},
   "outputs": [],
   "source": [
    "# some basic imports\n",
    "import os\n",
    "import pandas as pd\n",
    "import numpy as np\n",
    "import matplotlib.pyplot as plt\n",
    "import warnings\n",
    "from scipy.stats import ttest_ind"
   ]
  },
  {
   "cell_type": "markdown",
   "id": "bd2a7be4",
   "metadata": {},
   "source": [
    "## Task 1 (18 points): What's in an average anyway?\n",
    "\n",
    "The files needed to complete task 1 can be found in the folder \"`data/task_1/`:\n",
    "```\n",
    "task_1/\n",
    "│\n",
    "├── mmlu_data/\n",
    "│   └── test.csv\n",
    "│\n",
    "└── lm_scores/\n",
    "    ├── lm_X.csv\n",
    "    ├── lm_Y.csv\n",
    "    └── lm_Z.csv\n",
    "```\n",
    "\n",
    "We will start by loading, (manually) inspecting, and cleaning the data. Although it doesn't seem \"glamorous\" (nor is it particularly fun...) - manually inspecting data is extremely important! In fact, it's one of the few things most AI and Data Science researchers agree on :). Next, we will take a first pass on ordering our Olympic podium between three LMs."
   ]
  },
  {
   "cell_type": "markdown",
   "id": "16518de6",
   "metadata": {},
   "source": [
    "### 1.1 (1 pt)\n",
    " \n",
    "Load the subfiles contained in the `mmlu_data` and `lm_scores` folders into separate dataframes:\n",
    "- `df_test`\n",
    "- `df_x`\n",
    "- `df_y`\n",
    "- `df_z`\n",
    "\n",
    "for each, print their sizes."
   ]
  },
  {
   "cell_type": "code",
   "execution_count": 15,
   "id": "80eabdcb",
   "metadata": {},
   "outputs": [
    {
     "name": "stdout",
     "output_type": "stream",
     "text": [
      "df_test:  (14042, 8)\n",
      "df_x:  (13882, 2)\n",
      "df_y:  (13978, 2)\n",
      "df_z:  (13923, 2)\n"
     ]
    }
   ],
   "source": [
    "df_test = pd.read_csv('data/task_1/mmlu_data/test.csv')\n",
    "\n",
    "f = 'data/task_1/lm_scores/'\n",
    "df_x = pd.read_csv(os.path.join(f, 'lm_X.csv'))\n",
    "df_y = pd.read_csv(os.path.join(f, 'lm_Y.csv'))\n",
    "df_z = pd.read_csv(os.path.join(f, 'lm_Z.csv'))\n",
    "\n",
    "print('df_test: ', df_test.shape)\n",
    "print('df_x: ', df_x.shape)\n",
    "print('df_y: ', df_y.shape)\n",
    "print('df_z: ', df_z.shape)"
   ]
  },
  {
   "cell_type": "markdown",
   "id": "da14c5e2",
   "metadata": {},
   "source": [
    "### 1.2 (4 pt)\n",
    "Unfortunately, LMs don't always output the format we want. In the column `result`, the value should be one of A, B, C, or D. \n",
    "\n",
    "A. For each of the LM score dataframes, use a `value_counts()` operation and print the results. \n",
    "\n",
    "B. /Discuss:/ Inspect the results and describe the types of answer formats you see. Besides the \"expected\" case, you should be able to find at least four unexpected formats."
   ]
  },
  {
   "cell_type": "code",
   "execution_count": 16,
   "id": "eeebdb42",
   "metadata": {},
   "outputs": [
    {
     "name": "stdout",
     "output_type": "stream",
     "text": [
      "Value counts X:\n",
      "result\n",
      "A                                                                                                                 2733\n",
      "A                                                                                                                 1657\n",
      "B                                                                                                                 1412\n",
      "Answer: A                                                                                                         1398\n",
      "C                                                                                                                 1134\n",
      "                                                                                                                  ... \n",
      "judicial activism, so the answer is A                                                                                1\n",
      "creating insurmountable obstacles to the founding of factions, so the answer is A                                    1\n",
      "A congressperson who retires to take a position teaching political science at a university, so the answer is A       1\n",
      "David Hume, so the answer is D                                                                                       1\n",
      "Brahminic orthodoxy, so the answer is A                                                                              1\n",
      "Name: count, Length: 145, dtype: int64\n",
      "---------------------------------------------------------------------------------------------------------------------------------------------------\n",
      "Value counts Y:\n",
      "result\n",
      "D                                                                                                2894\n",
      "Answer: D                                                                                        1718\n",
      "C                                                                                                1701\n",
      "B                                                                                                1240\n",
      "D                                                                                                1145\n",
      "                                                                                                 ... \n",
      "Where the energy of interaction between the atoms is at its minimum value, so the answer is A       1\n",
      "leaves more viable offspring than others of its species., so the answer is D                        1\n",
      "A and C only, so the answer is D                                                                    1\n",
      "ADP + P → ATP, so the answer is D                                                                   1\n",
      "Monoclonal antibodies, so the answer is C                                                           1\n",
      "Name: count, Length: 141, dtype: int64\n",
      "---------------------------------------------------------------------------------------------------------------------------------------------------\n",
      "Value counts Y:\n",
      "result\n",
      "D                                                                                   2257\n",
      "C                                                                                   2191\n",
      "B                                                                                   2127\n",
      "A                                                                                   2060\n",
      "Answer: D                                                                            777\n",
      "                                                                                    ... \n",
      "omission of a universal suffrage clause, so the answer is D                            1\n",
      "declare war, so the answer is D                                                        1\n",
      "state and local governments, by means of federal funding, so the answer is B           1\n",
      "less clearly identified with consistent political ideologies, so the answer is B       1\n",
      "Rahit, so the answer is B                                                              1\n",
      "Name: count, Length: 560, dtype: int64\n"
     ]
    }
   ],
   "source": [
    "# A\n",
    "\n",
    "#print value counts for x\n",
    "print(\"Value counts X:\")\n",
    "print(df_x['result'].value_counts())\n",
    "print(\"---------------------------------------------------------------------------------------------------------------------------------------------------\")\n",
    "\n",
    "#print value counts for y\n",
    "print(\"Value counts Y:\")\n",
    "print(df_y['result'].value_counts())\n",
    "print(\"---------------------------------------------------------------------------------------------------------------------------------------------------\")\n",
    "\n",
    "#print value counts for z\n",
    "print(\"Value counts Y:\")\n",
    "print(df_z['result'].value_counts())\n",
    "\n",
    "\n",
    "\n",
    "\n",
    "\n"
   ]
  },
  {
   "cell_type": "code",
   "execution_count": 17,
   "id": "709b59db",
   "metadata": {},
   "outputs": [],
   "source": [
    "# B"
   ]
  },
  {
   "cell_type": "markdown",
   "id": "98377d82",
   "metadata": {},
   "source": [
    "### 1.3 (5 pt)\n",
    "Oh oh... That doesn't look great. Simply dropping all invalid answers seems overly wasteful, yet fixing all of these looks like a mess! Instead, let's focus for now on fixing just those answers of length < 10 characters that require only a single `str.replace()` operation. \n",
    "\n",
    "For example, if the answer looks like `--A--`, we could fix this by using the following simple function:\n",
    "\n",
    "```\n",
    "def clean_answer(s, pattern='-'):\n",
    "    return str(s).replace(pattern, '')\n",
    "\n",
    "dirty_answer = '--A--'\n",
    "clean_answer = clean_answer(dirty_answer)\n",
    "```\n",
    "\n",
    "A. Filter the three score dataframes to include only answers with less than 10 characters. Make a deep copy of the dataframes as you filter them.\n",
    "\n",
    "B. Modify the `clean_answer()` example function to clean the answers in the filtered data frames using the `apply()` functionality. Finally, make sure **all remaining answers are one of `A, B, C, or D`.**\n",
    "\n",
    "C. /Discuss:/ Compare the sizes of the original and filtered data frames. What do you see? Why might this be a problem?"
   ]
  },
  {
   "cell_type": "code",
   "execution_count": 18,
   "id": "5241d3d5",
   "metadata": {},
   "outputs": [
    {
     "name": "stdout",
     "output_type": "stream",
     "text": [
      "Value counts X:\n",
      "result\n",
      "A            2733\n",
      "A            1657\n",
      "B            1412\n",
      "Answer: A    1398\n",
      "C            1134\n",
      "D            1124\n",
      "B             793\n",
      "Answer: B     760\n",
      "C             622\n",
      "Answer: D     613\n",
      "D             596\n",
      "Answer: C     594\n",
      "Not Sure       73\n",
      "Name: count, dtype: int64\n",
      "---------------------------------------------------------------------------------------------------------------------------------------------------\n",
      "Value counts Y:\n",
      "result\n",
      "D            2894\n",
      "Answer: D    1718\n",
      "C            1701\n",
      "B            1240\n",
      "D            1145\n",
      "A            1008\n",
      "Answer: C     907\n",
      "Answer: B     726\n",
      "C             634\n",
      "Answer: A     597\n",
      "B             553\n",
      "A             428\n",
      "Not Sure       86\n",
      "Name: count, dtype: int64\n",
      "---------------------------------------------------------------------------------------------------------------------------------------------------\n",
      "Value counts Y:\n",
      "result\n",
      "D            2257\n",
      "C            2191\n",
      "B            2127\n",
      "A            2060\n",
      "Answer: D     777\n",
      "Answer: C     748\n",
      "Answer: B     712\n",
      "Answer: A     687\n",
      "C             316\n",
      "D             314\n",
      "B             285\n",
      "A             279\n",
      "Not Sure      125\n",
      "Name: count, dtype: int64\n"
     ]
    }
   ],
   "source": [
    "#A\n",
    "\n",
    "#Task: Filter the three score dataframes to include only answers with less than 10 characters. Make a deep copy of the dataframes as you filter them.\n",
    "\n",
    "\n",
    "#Create a deep copy of the dataframes\n",
    "df_x_copy = df_x.copy(deep=True)\n",
    "df_y_copy = df_y.copy(deep=True)\n",
    "df_z_copy = df_z.copy(deep=True)\n",
    "\n",
    "#Filter the dataframes to include only answers with less than 10 characters\n",
    "df_x_copy = df_x_copy[df_x_copy['result'].str.len() < 10]\n",
    "df_y_copy = df_y_copy[df_y_copy['result'].str.len() < 10]\n",
    "df_z_copy = df_z_copy[df_z_copy['result'].str.len() < 10]\n",
    "\n",
    "#print value counts for x\n",
    "print(\"Value counts X:\")\n",
    "print(df_x_copy['result'].value_counts())\n",
    "print(\"---------------------------------------------------------------------------------------------------------------------------------------------------\")\n",
    "\n",
    "#print value counts for y\n",
    "print(\"Value counts Y:\")\n",
    "print(df_y_copy['result'].value_counts())\n",
    "print(\"---------------------------------------------------------------------------------------------------------------------------------------------------\")\n",
    "\n",
    "#print value counts for z\n",
    "print(\"Value counts Y:\")\n",
    "print(df_z_copy['result'].value_counts())\n",
    "\n",
    "\n"
   ]
  },
  {
   "cell_type": "code",
   "execution_count": 19,
   "id": "b2b23f54",
   "metadata": {},
   "outputs": [
    {
     "name": "stdout",
     "output_type": "stream",
     "text": [
      "Value counts X:\n",
      "result\n",
      "A    5788\n",
      "B    2965\n",
      "C    2350\n",
      "D    2333\n",
      "Name: count, dtype: int64\n",
      "---------------------------------------------------------------------------------------------------------------------------------------------------\n",
      "Value counts Y:\n",
      "result\n",
      "D    5757\n",
      "C    3242\n",
      "B    2519\n",
      "A    2033\n",
      "Name: count, dtype: int64\n",
      "---------------------------------------------------------------------------------------------------------------------------------------------------\n",
      "Value counts Y:\n",
      "result\n",
      "D    3348\n",
      "C    3255\n",
      "B    3124\n",
      "A    3026\n",
      "Name: count, dtype: int64\n"
     ]
    }
   ],
   "source": [
    "#B\n",
    "def clean_answer(s, pattern='-'):\n",
    "    s = str(s).replace('Answer: ', '')\n",
    "    #get rid of whitespaces in string\n",
    "    s = s.strip()\n",
    "    return s\n",
    "\n",
    "#Task: Apply the function to the 'result' column of the three dataframes. \n",
    "\n",
    "df_x_copy['result'] = df_x_copy['result'].apply(clean_answer)\n",
    "df_y_copy['result'] = df_y_copy['result'].apply(clean_answer)\n",
    "df_z_copy['result'] = df_z_copy['result'].apply(clean_answer)\n",
    "\n",
    "#drop nan \n",
    "df_x_copy = df_x_copy.dropna()\n",
    "df_y_copy = df_y_copy.dropna()\n",
    "df_z_copy = df_z_copy.dropna()\n",
    "\n",
    "#drop 'Not Sure' values\n",
    "df_x_copy = df_x_copy[df_x_copy['result'] != 'Not Sure']\n",
    "df_y_copy = df_y_copy[df_y_copy['result'] != 'Not Sure']\n",
    "df_z_copy = df_z_copy[df_z_copy['result'] != 'Not Sure']\n",
    "\n",
    "\n",
    "#print value counts for x\n",
    "print(\"Value counts X:\")\n",
    "print(df_x_copy['result'].value_counts())\n",
    "print(\"---------------------------------------------------------------------------------------------------------------------------------------------------\")\n",
    "\n",
    "#print value counts for y\n",
    "print(\"Value counts Y:\")\n",
    "print(df_y_copy['result'].value_counts())\n",
    "print(\"---------------------------------------------------------------------------------------------------------------------------------------------------\")\n",
    "\n",
    "#print value counts for z\n",
    "print(\"Value counts Y:\")\n",
    "print(df_z_copy['result'].value_counts())\n",
    "\n",
    "\n",
    "\n",
    "\n"
   ]
  },
  {
   "cell_type": "code",
   "execution_count": 20,
   "id": "63954001",
   "metadata": {},
   "outputs": [
    {
     "name": "stdout",
     "output_type": "stream",
     "text": [
      "Size before cleaning:\n",
      "(13882, 2)\n",
      "(13978, 2)\n",
      "(13923, 2)\n",
      "Size after cleaning:\n",
      "(13436, 2)\n",
      "(13551, 2)\n",
      "(12753, 2)\n"
     ]
    }
   ],
   "source": [
    "# Size before cleaning\n",
    "print(\"Size before cleaning:\")\n",
    "print(df_x.shape)\n",
    "print(df_y.shape)\n",
    "print(df_z.shape)\n",
    "\n",
    "# Size after cleaning\n",
    "print(\"Size after cleaning:\")\n",
    "print(df_x_copy.shape)\n",
    "print(df_y_copy.shape)\n",
    "print(df_z_copy.shape)"
   ]
  },
  {
   "cell_type": "markdown",
   "id": "e33258d5",
   "metadata": {},
   "source": [
    "C. /Discuss:/\n"
   ]
  },
  {
   "cell_type": "markdown",
   "id": "4bda2920",
   "metadata": {},
   "source": [
    "### 1.4 (3 pt)\n",
    "\n",
    "Now that our answer columns are nicely formatted, let's take a look at model performance:\n",
    "\n",
    "A. Both the `MMLU` dataframes and the language model score data frames have the columns `question_id`. For each of the language model score data frames, use an inner join operation with the `df_test` dataframe on the `question_id` column.\n",
    "\n",
    "B. Add a new column to each of the resulting dataframes called `correct`, that checks if the model's answer in `result` is the same as the expected answer in the column `answer`. Then, print the average score of each model."
   ]
  },
  {
   "cell_type": "code",
   "execution_count": 21,
   "id": "5cfcb814",
   "metadata": {},
   "outputs": [],
   "source": [
    "# A\n",
    "\n",
    "df_x_copy = pd.merge(df_x_copy, df_test, on='question_id', how='inner')\n",
    "\n",
    "df_y_copy = pd.merge(df_y_copy, df_test, on='question_id', how='inner')\n",
    "\n",
    "df_z_copy = pd.merge(df_z_copy, df_test, on='question_id', how='inner')\n",
    "\n",
    "\n",
    "\n"
   ]
  },
  {
   "cell_type": "code",
   "execution_count": 22,
   "id": "4814bb7f",
   "metadata": {},
   "outputs": [
    {
     "name": "stdout",
     "output_type": "stream",
     "text": [
      "Percentage of correct answers for X:  0.7674903245013397\n",
      "Percentage of correct answers for Y:  0.7458490148328537\n",
      "Percentage of correct answers for Z:  0.663294911001333\n"
     ]
    }
   ],
   "source": [
    "# B\n",
    "\n",
    "#new column correct\n",
    "df_x_copy['correct'] = df_x_copy['result'] == df_x_copy['answer']\n",
    "df_y_copy['correct'] = df_y_copy['result'] == df_y_copy['answer']\n",
    "df_z_copy['correct'] = df_z_copy['result'] == df_z_copy['answer']\n",
    "\n",
    "df_x_copy.head()\n",
    "\n",
    "#get percentage of correct answers\n",
    "print(\"Percentage of correct answers for X: \", df_x_copy['correct'].mean())\n",
    "print(\"Percentage of correct answers for Y: \", df_y_copy['correct'].mean())\n",
    "print(\"Percentage of correct answers for Z: \", df_z_copy['correct'].mean())\n"
   ]
  },
  {
   "cell_type": "markdown",
   "id": "474d719d",
   "metadata": {},
   "source": [
    "### 1.5 (5 pt)\n",
    "\n",
    "Hmmm, something doesn't seem quite right. Let's investigate how \"balanced\" this dataset is:\n",
    "\n",
    "A. For each of the 57 subjects in the MMLU, compare the number of questions answered by each model. Print the subjects for which there is a more than 10% difference.\n",
    "\n",
    "B. Propose and implement a reasonable way to rebalance the results. (e.g., while throwing away 100% of the results perfectly rebalances the results, it is not reasonable).\n",
    "\n",
    "C. Finally, print the updated accuracy on the rebalanced data.\n",
    "\n",
    "**hint:**:\n",
    "- (A) For a given subject, let model X and model Y have answered 181 and 200 questions respectively. You can consider this a 10% difference from the perspective of X, i.e., (200 - 181) / 181 > 0.10"
   ]
  },
  {
   "cell_type": "code",
   "execution_count": 23,
   "id": "1634b29a",
   "metadata": {},
   "outputs": [
    {
     "name": "stdout",
     "output_type": "stream",
     "text": [
      "                          Answers X  Answers Y  Answers Z\n",
      "subject                                                  \n",
      "moral scenarios                 737        865        774\n",
      "logical fallacies               154        136        147\n",
      "formal logic                    109        123        113\n",
      "moral disputes                  329        304        250\n",
      "college computer science         97         98         84\n"
     ]
    }
   ],
   "source": [
    "#A\n",
    "\n",
    "#for each subject get the number of answered questions\n",
    "\n",
    "df = pd.concat([\n",
    "    df_x_copy['subject'].value_counts(),\n",
    "    df_y_copy['subject'].value_counts(),\n",
    "    df_z_copy['subject'].value_counts()\n",
    "], axis=1, keys=['Answers X', 'Answers Y', 'Answers Z'])\n",
    "\n",
    "df.head()\n",
    "\n",
    "# for each row, create a list of subjects where |(Y-X)|/X > 0.1\n",
    "df_XY = df[(abs(df['Answers Y'] - df['Answers X']) / df['Answers X']) > 0.1]\n",
    "\n",
    "# for each row, create a list of subjects where |(Z-X)|/X > 0.1\n",
    "df_XZ = df[(abs(df['Answers Z'] - df['Answers X']) / df['Answers X']) > 0.1]\n",
    "\n",
    "\n",
    "# for each row, create a list of subjects where |(Z-Y)|/Y > 0.1\n",
    "df_YZ = df[(abs(df['Answers Z'] - df['Answers Y']) / df['Answers Y']) > 0.1]\t\n",
    "\n",
    "#merge them to one without duplicates\n",
    "df_XYZ = pd.concat([df_XY, df_XZ, df_YZ]).drop_duplicates()\n",
    "\n",
    "#print the result\n",
    "print(df_XYZ.head())\n",
    "\n"
   ]
  },
  {
   "cell_type": "code",
   "execution_count": 32,
   "id": "a7cc11b7",
   "metadata": {},
   "outputs": [],
   "source": [
    "#B\n",
    "\n",
    "def stratified_bootstrap_score(df, n_bootstrap=1000):\n",
    "\n",
    "    # Get unique subjects (strata)\n",
    "    subjects = df['subject'].unique()\n",
    "    bootstrap_scores = []\n",
    "    \n",
    "    # Perform bootstrap iterations\n",
    "    for _ in range(n_bootstrap):\n",
    "        subject_scores = []\n",
    "        # Process each subject separately\n",
    "        for subject in subjects:\n",
    "            # Select rows for the current subject\n",
    "            df_subject = df[df['subject'] == subject]\n",
    "            # Sample with replacement from the subject data\n",
    "            sample = df_subject.sample(n=len(df_subject), replace=True)\n",
    "            # Calculate mean accuracy for the subject and store it\n",
    "            subject_scores.append(sample['correct'].mean())\n",
    "        # Compute average score across all subjects for this iteration\n",
    "        bootstrap_scores.append(np.mean(subject_scores))\n",
    "    \n",
    "    # Return overall mean score and its standard deviation (as standard error)\n",
    "    return np.mean(bootstrap_scores), np.std(bootstrap_scores)\n",
    "\n",
    "\n"
   ]
  },
  {
   "cell_type": "code",
   "execution_count": 33,
   "id": "e558c3f8",
   "metadata": {},
   "outputs": [
    {
     "name": "stdout",
     "output_type": "stream",
     "text": [
      "Bootstrapped scores:\n",
      "Model X: 0.767 ± 0.004\n",
      "Model Y: 0.740 ± 0.004\n",
      "Model Z: 0.662 ± 0.005\n"
     ]
    }
   ],
   "source": [
    "#C\n",
    "# Example usage:\n",
    "# df_x_copy, df_y_copy, df_z_copy should be DataFrames with 'subject' and 'correct' columns.\n",
    "mean_x, se_x = stratified_bootstrap_score(df_x_copy)\n",
    "mean_y, se_y = stratified_bootstrap_score(df_y_copy)\n",
    "mean_z, se_z = stratified_bootstrap_score(df_z_copy)\n",
    "\n",
    "print(\"Bootstrapped scores:\")\n",
    "print(f\"Model X: {mean_x:.3f} ± {se_x:.3f}\")\n",
    "print(f\"Model Y: {mean_y:.3f} ± {se_y:.3f}\")\n",
    "print(f\"Model Z: {mean_z:.3f} ± {se_z:.3f}\")"
   ]
  },
  {
   "cell_type": "code",
   "execution_count": 12,
   "id": "8d2bfdd3",
   "metadata": {},
   "outputs": [
    {
     "name": "stdout",
     "output_type": "stream",
     "text": [
      "Old scores:\n",
      "Percentage of correct answers for X:  0.7674903245013397\n",
      "Percentage of correct answers for Y:  0.7458490148328537\n",
      "Percentage of correct answers for Z:  0.663294911001333\n"
     ]
    }
   ],
   "source": [
    "print(\"Old scores:\")\n",
    "print(\"Percentage of correct answers for X: \", df_x_copy['correct'].mean())\n",
    "print(\"Percentage of correct answers for Y: \", df_y_copy['correct'].mean())\n",
    "print(\"Percentage of correct answers for Z: \", df_z_copy['correct'].mean())"
   ]
  },
  {
   "cell_type": "markdown",
   "id": "1ae0547c",
   "metadata": {},
   "source": [
    "## Task 2 (26 points): What do you mean A > D > B > C...?\n",
    "\n",
    "Nice work! Having successfully inspected, cleaned, and rebalanced the provided data, you head over to director of the government's FIETS project operating under the code name Geronimo. He is happy with your work so far, but worried that the sloppy intern might have done more undetected damage. To be sure, he orders a new set of evaluations of all models on both MMLU and another dataset.\n",
    "\n",
    "After cleaning up and rebalancing, you are left with the concatenated score files in the second folder `task_2`:\n",
    "```\n",
    "task_2/\n",
    "│\n",
    "└── lm_scores_mmlu.csv\n",
    "│\n",
    "└── lm_scores_other.csv\n",
    "```\n",
    "\n",
    "Each has a new column called `model_name`, which is one of `X, Y` or `Z`.\n",
    "\n",
    "\n",
    "\n",
    "_NOTE: **only** use data from `task_2` and `task_2_5` for this assignment! The values in `lm_scores_mmlu.csv` will NOT be the same as the dataframes you finished in task 1. This is due to \"randomness\" or \"temperature\" in language model inference. This can slightly shift around generative results. (Conveniently: it also ensures any mistakes made in Task 1 don't propogate further ;) )_"
   ]
  },
  {
   "cell_type": "code",
   "execution_count": 40,
   "id": "2067ebe2",
   "metadata": {},
   "outputs": [],
   "source": [
    "# PROVIDED CODE\n",
    "df_mmlu = pd.read_csv('data/task_2/lm_scores_mmlu.csv')\n",
    "df_other = pd.read_csv('data/task_2/lm_scores_other.csv')"
   ]
  },
  {
   "cell_type": "markdown",
   "id": "d97ed869",
   "metadata": {},
   "source": [
    "### 2.1 (4 pt)\n",
    "\n",
    "Let's explore the new results:\n",
    "\n",
    "A. Compute the mean accuracy and standard errors of each model on both datasets and print the results.\n",
    "\n",
    "B. Then, show your results in a bar plot using standard errors with a 95% confidence interval around the mean. Make sure the plot is easy to read and well annotated.\n",
    "\n",
    "C. /Discuss:/ the plot you created: (i) can you say that one of the models is the best? (ii) is there anything that seems odd?"
   ]
  },
  {
   "cell_type": "code",
   "execution_count": 49,
   "id": "b69b5615",
   "metadata": {},
   "outputs": [
    {
     "name": "stdout",
     "output_type": "stream",
     "text": [
      "Acc. + standared error MMLU\n",
      "  model_name  accuracy  standard_error\n",
      "0          X  0.743588        0.004038\n",
      "1          Y  0.761542        0.003941\n",
      "2          Z  0.655951        0.004393\n",
      "\n",
      "\n",
      "Acc. + standared error Other\n",
      "  model_name  accuracy  standard_error\n",
      "0          X  0.787976        0.006668\n",
      "1          Y  0.720936        0.007317\n",
      "2          Z  0.671721        0.007660\n"
     ]
    }
   ],
   "source": [
    "#A\n",
    "print(\"Acc. + standared error MMLU\")\n",
    "model_stats1 = df_mmlu.groupby(\"model_name\")[\"correct\"].agg(\n",
    "    accuracy=lambda x: np.mean(x),\n",
    "    standard_error=lambda x: np.std(x, ddof=1) / np.sqrt(len(x))\n",
    ").reset_index()\n",
    "\n",
    "print(model_stats1)\n",
    "print(\"\\n\")\n",
    "\n",
    "print(\"Acc. + standared error Other\")\n",
    "model_stats2 = df_other.groupby(\"model_name\")[\"correct\"].agg(\n",
    "    accuracy=lambda x: np.mean(x),\n",
    "    standard_error=lambda x: np.std(x, ddof=1) / np.sqrt(len(x))\n",
    ").reset_index()\n",
    "\n",
    "print(model_stats2)\n",
    "\n",
    "\n",
    "\n"
   ]
  },
  {
   "cell_type": "code",
   "execution_count": 50,
   "id": "c4a5bffc",
   "metadata": {},
   "outputs": [
    {
     "data": {
      "image/png": "[encoded data removed]",
      "text/plain": [
       "<Figure size 800x600 with 1 Axes>"
      ]
     },
     "metadata": {},
     "output_type": "display_data"
    },
    {
     "data": {
      "image/png": "[encoded data removed]",
      "text/plain": [
       "<Figure size 800x600 with 1 Axes>"
      ]
     },
     "metadata": {},
     "output_type": "display_data"
    }
   ],
   "source": [
    "#B\n",
    "\n",
    "import matplotlib.pyplot as plt\n",
    "\n",
    "def plot_model_accuracy(model_stats, headline):\n",
    "    # Calculate the confidence interval\n",
    "    model_stats[\"ci\"] = model_stats[\"standard_error\"] * 1.96\n",
    "\n",
    "    plt.figure(figsize=(8, 6))\n",
    "\n",
    "    # Plot bars\n",
    "    bars = plt.bar(\n",
    "        model_stats[\"model_name\"], model_stats[\"accuracy\"],\n",
    "        color='skyblue', edgecolor='black', alpha=0.75, label=\"Accuracy\"\n",
    "    )\n",
    "\n",
    "    # Add error bars as separate lines for better visibility\n",
    "    for i, (model, acc, ci) in enumerate(zip(model_stats[\"model_name\"], model_stats[\"accuracy\"], model_stats[\"ci\"])):\n",
    "        plt.errorbar(model, acc, yerr=ci, fmt='o', color='red', capsize=10, capthick=2, label=\"95% CI\" if i == 0 else \"\")\n",
    "\n",
    "    # Labels and title\n",
    "    plt.xlabel(\"Model Name\", fontsize=12)\n",
    "    plt.ylabel(\"Accuracy\", fontsize=12)\n",
    "    plt.title(headline, fontsize=14)\n",
    "    plt.xticks(fontsize=10)\n",
    "    plt.yticks(fontsize=10)\n",
    "\n",
    "    # Annotate values even lower inside the bars\n",
    "    for bar, row in zip(bars, model_stats.itertuples()):\n",
    "        plt.text(\n",
    "            bar.get_x() + bar.get_width() / 2, row.accuracy - 0.06,\n",
    "            f\"{row.accuracy:.3%}\", ha='center', fontsize=10,\n",
    "            fontweight='bold', color='black'\n",
    "        )\n",
    "\n",
    "    # Legend and grid\n",
    "    plt.legend()\n",
    "    plt.grid(axis='y', linestyle='--', alpha=0.6)\n",
    "\n",
    "    # Show plot\n",
    "    plt.show()\n",
    "\n",
    "plot_model_accuracy(model_stats1, \"Model Accuracy for MMLU\")\n",
    "\n",
    "plot_model_accuracy(model_stats2, \"Model Accuracy for Other\")\n",
    "\n",
    "#Comment Konrad: Maybe merge to one\n",
    "\n"
   ]
  },
  {
   "cell_type": "markdown",
   "id": "42dcfbe9",
   "metadata": {},
   "source": [
    "#C"
   ]
  },
  {
   "cell_type": "markdown",
   "id": "5587c824",
   "metadata": {},
   "source": [
    "### 2.2 (5 pt)\n",
    "\n",
    "Geronimo has assured you that both datasets contain questions of similar difficulty, so, what could be going on here?\n",
    "\n",
    "A. What is the distribution of correct answers (A, B, C, D) for each dataset? Create a bar chart to visualize this.\n",
    "\n",
    "B. Perform a chi-square test at $\\alpha = 0.05$, of independence to determine if there's a significant difference in the distribution of correct answers between the two datasets. What do you conclude?\n",
    "\n",
    "**hints**:\n",
    "- for (A), keep in mind that df_mmlu and df_other contain the results of all models, i.e., the `question_id` column is duplicated.\n",
    "- for (A), take care to clearly annotate the bar chart, e.g., title, y-label, legend.\n",
    "- for (B), clearly state the null hypothesis and alternative hypothesis\n",
    "- use the `chi2_contingency` function from `scipy.stats`\n",
    "- format your results from answer (A) as a 2D array"
   ]
  },
  {
   "cell_type": "code",
   "execution_count": 54,
   "id": "74904507",
   "metadata": {},
   "outputs": [
    {
     "data": {
      "image/png": "[encoded data removed]",
      "text/plain": [
       "<Figure size 800x500 with 1 Axes>"
      ]
     },
     "metadata": {},
     "output_type": "display_data"
    },
    {
     "data": {
      "image/png": "[encoded data removed]",
      "text/plain": [
       "<Figure size 800x500 with 1 Axes>"
      ]
     },
     "metadata": {},
     "output_type": "display_data"
    }
   ],
   "source": [
    "#A \n",
    "\n",
    "# Count the occurrences of each answer choice (A, B, C, D) in both datasets\n",
    "answer_distribution_mmlu = df_mmlu['result'].value_counts().sort_index()\n",
    "answer_distribution_other = df_other['result'].value_counts().sort_index()\n",
    "\n",
    "# Create a bar chart for MMLU dataset\n",
    "plt.figure(figsize=(8, 5))\n",
    "plt.bar(answer_distribution_mmlu.index, answer_distribution_mmlu, color='blue', alpha=0.7)\n",
    "plt.title('Distribution of Correct Answers in MMLU Dataset')\n",
    "plt.xlabel('Answer Choice')\n",
    "plt.ylabel('Count')\n",
    "plt.grid(axis='y', linestyle='--', alpha=0.7)\n",
    "plt.show()\n",
    "\n",
    "# Create a bar chart for Other dataset\n",
    "plt.figure(figsize=(8, 5))\n",
    "plt.bar(answer_distribution_other.index, answer_distribution_other, color='green', alpha=0.7)\n",
    "plt.title('Distribution of Correct Answers in Other Dataset')\n",
    "plt.xlabel('Answer Choice')\n",
    "plt.ylabel('Count')\n",
    "plt.grid(axis='y', linestyle='--', alpha=0.7)\n",
    "plt.show()\n",
    "\n",
    "#Possibly false"
   ]
  },
  {
   "cell_type": "code",
   "execution_count": 57,
   "id": "0c461f94",
   "metadata": {},
   "outputs": [
    {
     "name": "stdout",
     "output_type": "stream",
     "text": [
      "=== Observed Frequencies ===\n",
      "Choice\tMMLU\tOther\n",
      "A\t7507\t3492\n",
      "B\t7800\t2787\n",
      "C\t8661\t2465\n",
      "D\t11120\t2533\n",
      "\n",
      "=== Chi-Square Test Results ===\n",
      "Chi2 Statistic: 627.8939\n",
      "p-value: 9.04e-136\n",
      "Degrees of Freedom: 3\n",
      "\n",
      "=== Expected Frequencies ===\n",
      "Choice A: MMLU = 8323.7984, Other = 2675.2016\n",
      "Choice B: MMLU = 8012.0060, Other = 2574.9940\n",
      "Choice C: MMLU = 8419.9092, Other = 2706.0908\n",
      "Choice D: MMLU = 10332.2865, Other = 3320.7135\n",
      "\n",
      "Reject the null hypothesis.\n"
     ]
    }
   ],
   "source": [
    "#B\n",
    "\n",
    "from scipy.stats import chi2_contingency\n",
    "\n",
    "# Null Hypothesis (H0): The distribution of correct answers (A, B, C, D) is the same between the MMLU and Other datasets.\n",
    "# Alternative Hypothesis (H1): The distribution of correct answers (A, B, C, D) is different between the MMLU and Other datasets.\n",
    "\n",
    "\n",
    "\n",
    "# Create the observed frequency table\n",
    "observed = [\n",
    "    [answer_distribution_mmlu.get(choice, 0), answer_distribution_other.get(choice, 0)]\n",
    "    for choice in sorted(set(answer_distribution_mmlu.index).union(answer_distribution_other.index))\n",
    "]\n",
    "\n",
    "# Print the observed frequency table\n",
    "print(\"=== Observed Frequencies ===\")\n",
    "choices = sorted(set(answer_distribution_mmlu.index).union(answer_distribution_other.index))\n",
    "print(\"Choice\\tMMLU\\tOther\")\n",
    "for choice, row in zip(choices, observed):\n",
    "    print(f\"{choice}\\t{row[0]}\\t{row[1]}\")\n",
    "\n",
    "# Perform the chi-square test\n",
    "chi2_stat, p_value, dof, expected = chi2_contingency(observed)\n",
    "\n",
    "# Output clear results\n",
    "print(\"\\n=== Chi-Square Test Results ===\")\n",
    "print(f\"Chi2 Statistic: {chi2_stat:.4f}\")\n",
    "print(f\"p-value: {p_value:.4g}\")\n",
    "print(f\"Degrees of Freedom: {dof}\")\n",
    "\n",
    "print(\"\\n=== Expected Frequencies ===\")\n",
    "for i, choice in enumerate(choices):\n",
    "    print(f\"Choice {choice}: MMLU = {expected[i][0]:.4f}, Other = {expected[i][1]:.4f}\")\n",
    "\n",
    "# Determine significance\n",
    "alpha = 0.05\n",
    "if p_value < alpha:\n",
    "    print(\"\\nReject the null hypothesis.\")\n",
    "else:\n",
    "    print(\"\\nFail to reject the null hypothesis.\")\n",
    "\n",
    "#Comment: Print Hypothesis and check data set"
   ]
  },
  {
   "cell_type": "markdown",
   "id": "c50f875f",
   "metadata": {},
   "source": [
    "### 2.3 (7 pt)\n",
    "\n",
    "Let's dive in deeper:\n",
    "\n",
    "A. What is language model X's mean accuracy conditioned on the four answer options for each dataset?\n",
    "\n",
    "B. Compare LM X's performance when the correct answer is \"A\" between the two datasets. Use a T-test with CI = 0.95. What do you conclude?\n",
    "\n",
    "C. Compare LM X's performance when the correct answer is \"A\" vs. \"C or D\" for each dataset. Use a T-test with CI = 0.95. What do you conclude?"
   ]
  },
  {
   "cell_type": "code",
   "execution_count": 59,
   "id": "f2b265e3",
   "metadata": {},
   "outputs": [
    {
     "name": "stdout",
     "output_type": "stream",
     "text": [
      "               MMLU Mean Accuracy  Other Mean Accuracy\n",
      "Answer Choice                                         \n",
      "A                        0.367927             0.594564\n",
      "B                        0.884543             0.917431\n",
      "C                        1.000000             1.000000\n",
      "D                        1.000000             1.000000\n"
     ]
    }
   ],
   "source": [
    "# Filter data for language model X\n",
    "df_mmlu_x = df_mmlu[df_mmlu['model_name'] == 'X']\n",
    "df_other_x = df_other[df_other['model_name'] == 'X']\n",
    "\n",
    "# Compute mean accuracy for each answer choice\n",
    "accuracy_mmlu = df_mmlu_x.groupby('result')['correct'].mean()\n",
    "accuracy_other = df_other_x.groupby('result')['correct'].mean()\n",
    "\n",
    "# Combine the results into a DataFrame for clearer display\n",
    "accuracy_df = pd.DataFrame({\n",
    "    \"MMLU Mean Accuracy\": accuracy_mmlu,\n",
    "    \"Other Mean Accuracy\": accuracy_other\n",
    "}).fillna(0)\n",
    "\n",
    "accuracy_df.index.name = \"Answer Choice\"\n",
    "accuracy_df = accuracy_df.sort_index()\n",
    "\n",
    "# Display the formatted results\n",
    "print(accuracy_df)\n",
    "\n",
    "#Comment possible false"
   ]
  },
  {
   "cell_type": "code",
   "execution_count": 62,
   "id": "1e31fdd8",
   "metadata": {},
   "outputs": [
    {
     "name": "stdout",
     "output_type": "stream",
     "text": [
      "=== Welch's T-test for Correct Answer 'A' ===\n",
      "T-statistic: -0.2116\n",
      "P-value:     0.8324\n",
      "Reject Null Hypothesis (alpha=0.05): False\n",
      "\n",
      "MMLU Data (Answer 'A'):\n",
      "  Mean Accuracy      : 0.9727\n",
      "  95% Confidence Int : (0.9647, 0.9806)\n",
      "\n",
      "Other Data (Answer 'A'):\n",
      "  Mean Accuracy      : 0.9740\n",
      "  95% Confidence Int : (0.9645, 0.9835)\n"
     ]
    }
   ],
   "source": [
    "from scipy.stats import ttest_ind\n",
    "\n",
    "# Filter data for cases where the correct answer is \"A\" in both datasets\n",
    "df_mmlu_x_A = df_mmlu_x[df_mmlu_x['answer'] == 'A']['correct']\n",
    "df_other_x_A = df_other_x[df_other_x['answer'] == 'A']['correct']\n",
    "\n",
    "# Perform Welch's t-test (independent t-test with unequal variances)\n",
    "t_stat, p_value = ttest_ind(df_mmlu_x_A, df_other_x_A, equal_var=False)\n",
    "\n",
    "# Compute means and standard deviations\n",
    "mean_mmlu_A = df_mmlu_x_A.mean()\n",
    "mean_other_A = df_other_x_A.mean()\n",
    "\n",
    "std_mmlu_A = df_mmlu_x_A.std()\n",
    "std_other_A = df_other_x_A.std()\n",
    "\n",
    "n_mmlu_A = len(df_mmlu_x_A)\n",
    "n_other_A = len(df_other_x_A)\n",
    "\n",
    "# Calculate 95% confidence intervals for each dataset\n",
    "ci_mmlu_A = (\n",
    "    mean_mmlu_A - 1.96 * (std_mmlu_A / (n_mmlu_A ** 0.5)),\n",
    "    mean_mmlu_A + 1.96 * (std_mmlu_A / (n_mmlu_A ** 0.5))\n",
    ")\n",
    "ci_other_A = (\n",
    "    mean_other_A - 1.96 * (std_other_A / (n_other_A ** 0.5)),\n",
    "    mean_other_A + 1.96 * (std_other_A / (n_other_A ** 0.5))\n",
    ")\n",
    "\n",
    "# Determine if we reject the null hypothesis at significance level alpha=0.05\n",
    "alpha = 0.05\n",
    "reject_null = p_value < alpha\n",
    "\n",
    "# Print results in a clear and formatted manner\n",
    "print(\"=== Welch's T-test for Correct Answer 'A' ===\")\n",
    "print(f\"T-statistic: {t_stat:.4f}\")\n",
    "print(f\"P-value:     {p_value:.4f}\")\n",
    "print(f\"Reject Null Hypothesis (alpha={alpha}): {reject_null}\\n\")\n",
    "\n",
    "print(\"MMLU Data (Answer 'A'):\")\n",
    "print(f\"  Mean Accuracy      : {mean_mmlu_A:.4f}\")\n",
    "print(f\"  95% Confidence Int : ({ci_mmlu_A[0]:.4f}, {ci_mmlu_A[1]:.4f})\\n\")\n",
    "\n",
    "print(\"Other Data (Answer 'A'):\")\n",
    "print(f\"  Mean Accuracy      : {mean_other_A:.4f}\")\n",
    "print(f\"  95% Confidence Int : ({ci_other_A[0]:.4f}, {ci_other_A[1]:.4f})\")"
   ]
  },
  {
   "cell_type": "code",
   "execution_count": 63,
   "id": "8f0ecae0",
   "metadata": {},
   "outputs": [
    {
     "name": "stdout",
     "output_type": "stream",
     "text": [
      "=== Welch's T-test: 'A' vs. 'C or D' ===\n",
      "\n",
      "MMLU Data:\n",
      "  T-statistic         : 44.0588\n",
      "  P-value             : 0.0000\n",
      "  Reject Null (alpha=0.05): True\n",
      "  Mean Accuracy (C or D): 0.6690\n",
      "  95% CI (C or D)     : (0.6581, 0.6799)\n",
      "\n",
      "Other Data:\n",
      "  T-statistic         : 25.1395\n",
      "  P-value             : 0.0000\n",
      "  Reject Null (alpha=0.05): True\n",
      "  Mean Accuracy (C or D): 0.6466\n",
      "  95% CI (C or D)     : (0.6230, 0.6703)\n"
     ]
    }
   ],
   "source": [
    "#C\n",
    "\n",
    "from scipy.stats import ttest_ind\n",
    "\n",
    "# Filter data for cases where the correct answer is \"A\" and \"C or D\" in both datasets\n",
    "df_mmlu_x_A = df_mmlu_x[df_mmlu_x['answer'] == 'A']['correct']\n",
    "df_mmlu_x_C_D = df_mmlu_x[df_mmlu_x['answer'].isin(['C', 'D'])]['correct']\n",
    "\n",
    "df_other_x_A = df_other_x[df_other_x['answer'] == 'A']['correct']\n",
    "df_other_x_C_D = df_other_x[df_other_x['answer'].isin(['C', 'D'])]['correct']\n",
    "\n",
    "# Perform Welch's t-tests for each dataset (comparing answer \"A\" vs. \"C or D\")\n",
    "t_stat_mmlu, p_value_mmlu = ttest_ind(df_mmlu_x_A, df_mmlu_x_C_D, equal_var=False)\n",
    "t_stat_other, p_value_other = ttest_ind(df_other_x_A, df_other_x_C_D, equal_var=False)\n",
    "\n",
    "# Set significance level and determine rejection of the null hypothesis\n",
    "alpha = 0.05\n",
    "reject_mmlu = p_value_mmlu < alpha\n",
    "reject_other = p_value_other < alpha\n",
    "\n",
    "# Compute mean and 95% confidence intervals for the \"C or D\" group within each dataset\n",
    "\n",
    "# MMLU dataset\n",
    "mean_mmlu_C_D = df_mmlu_x_C_D.mean()\n",
    "std_mmlu_C_D = df_mmlu_x_C_D.std()\n",
    "n_mmlu_C_D = len(df_mmlu_x_C_D)\n",
    "ci_mmlu_C_D = (\n",
    "    mean_mmlu_C_D - 1.96 * (std_mmlu_C_D / (n_mmlu_C_D ** 0.5)),\n",
    "    mean_mmlu_C_D + 1.96 * (std_mmlu_C_D / (n_mmlu_C_D ** 0.5))\n",
    ")\n",
    "\n",
    "# Other dataset\n",
    "mean_other_C_D = df_other_x_C_D.mean()\n",
    "std_other_C_D = df_other_x_C_D.std()\n",
    "n_other_C_D = len(df_other_x_C_D)\n",
    "ci_other_C_D = (\n",
    "    mean_other_C_D - 1.96 * (std_other_C_D / (n_other_C_D ** 0.5)),\n",
    "    mean_other_C_D + 1.96 * (std_other_C_D / (n_other_C_D ** 0.5))\n",
    ")\n",
    "\n",
    "# Print results in a clear and formatted manner\n",
    "print(\"=== Welch's T-test: 'A' vs. 'C or D' ===\\n\")\n",
    "\n",
    "print(\"MMLU Data:\")\n",
    "print(f\"  T-statistic         : {t_stat_mmlu:.4f}\")\n",
    "print(f\"  P-value             : {p_value_mmlu:.4f}\")\n",
    "print(f\"  Reject Null (alpha={alpha}): {reject_mmlu}\")\n",
    "print(f\"  Mean Accuracy (C or D): {mean_mmlu_C_D:.4f}\")\n",
    "print(f\"  95% CI (C or D)     : ({ci_mmlu_C_D[0]:.4f}, {ci_mmlu_C_D[1]:.4f})\\n\")\n",
    "\n",
    "print(\"Other Data:\")\n",
    "print(f\"  T-statistic         : {t_stat_other:.4f}\")\n",
    "print(f\"  P-value             : {p_value_other:.4f}\")\n",
    "print(f\"  Reject Null (alpha={alpha}): {reject_other}\")\n",
    "print(f\"  Mean Accuracy (C or D): {mean_other_C_D:.4f}\")\n",
    "print(f\"  95% CI (C or D)     : ({ci_other_C_D[0]:.4f}, {ci_other_C_D[1]:.4f})\")"
   ]
  },
  {
   "cell_type": "markdown",
   "id": "2e1d7754",
   "metadata": {},
   "source": [
    "### 2.4 (2 pt)\n",
    "\n",
    "What an intriguing finding! \n",
    "\n",
    "A. Print the mean accuracies conditioned on the correct answer for all LMs for each dataset.\n",
    "\n",
    "B. /Discuss:/ What do you observe?"
   ]
  },
  {
   "cell_type": "code",
   "execution_count": 64,
   "id": "77801937",
   "metadata": {},
   "outputs": [
    {
     "name": "stdout",
     "output_type": "stream",
     "text": [
      "MMLU Dataset:\n",
      "answer             A         B         C         D\n",
      "model_name                                        \n",
      "X           0.972688  0.799185  0.707905  0.633592\n",
      "Y           0.623836  0.688073  0.733470  0.904252\n",
      "Z           0.643079  0.641182  0.669115  0.661139\n",
      "\n",
      "Other Dataset:\n",
      "answer             A         B         C         D\n",
      "model_name                                        \n",
      "X           0.974026  0.806452  0.676407  0.603744\n",
      "Y           0.625232  0.663978  0.762987  0.920437\n",
      "Z           0.680891  0.667563  0.662338  0.677067\n"
     ]
    }
   ],
   "source": [
    "#A\n",
    "\n",
    "# Compute mean accuracy for all models conditioned on each answer choice\n",
    "accuracy_mmlu_all = df_mmlu.groupby(['model_name', 'answer'])['correct'].mean().unstack()\n",
    "accuracy_other_all = df_other.groupby(['model_name', 'answer'])['correct'].mean().unstack()\n",
    "\n",
    "# Display the results\n",
    "print(\"MMLU Dataset:\")\n",
    "print(accuracy_mmlu_all)\n",
    "print(\"\\nOther Dataset:\")\n",
    "print(accuracy_other_all)\n",
    "\n",
    "\n"
   ]
  },
  {
   "cell_type": "markdown",
   "id": "e812af06",
   "metadata": {},
   "source": [
    "B. /Discuss:/"
   ]
  },
  {
   "cell_type": "markdown",
   "id": "31947726",
   "metadata": {},
   "source": [
    "### 2.5 (2 pt)\n",
    "\n",
    "Concerned with your findings so far, you quickly consult with Geronimo. After thinking it over, Geronimo concludes that more tests are needed. He orders a second round of MMLU results. However, Geronimo thinks of the following twist: while keeping questions fixed, he randomly permutes the position of the correct answer. The new results can be found in the folder `data/task_2_5/`:\n",
    "```\n",
    "task_2_5/\n",
    "│\n",
    "└── lm_scores_mmlu_shuffle.csv\n",
    "```\n",
    "\n",
    "/Discuss:/ Why would Geronimo do this?"
   ]
  },
  {
   "cell_type": "markdown",
   "id": "ca1ffc90",
   "metadata": {},
   "source": [
    "B. /Discuss:/"
   ]
  },
  {
   "cell_type": "markdown",
   "id": "bb158adf",
   "metadata": {},
   "source": [
    "### 2.6 (4 pt)\n",
    "\n",
    "Increasingly sceptical of the language models' performance, you read up on proper testing practices. You stumble upon the concept of [test-rested stability](https://en.wikipedia.org/wiki/Repeatability), which roughtly states that:\n",
    "\n",
    "\"_Measurements taken by a single person or instrument on the same item, under the same conditions, and in a short period of time, should have the same results._\"\n",
    "\n",
    "In our case, we would assume an LM would have the same performance on a given question regardless of the correct answer position. One way of testing this is by using the following metric:\n",
    "\n",
    "$$\\text{test-retest metric} = \\frac{1}{N}\\sum_{i=1}^N \\frac{1}{M}\\sum_{j=1}^M c^i_0 c_j^i,$$\n",
    "\n",
    "where $c^i_0 \\in \\{0, 1\\}$ indicates whether the model answers the $i^{\\text{th}}$ question correctly (1 if correct, 0 if incorrect). $c_j^i$ indicates whether the model answers the $i^{\\text{th}}$ question correctly in the $j^{\\text{th}}$ shuffled version of the answer label content. Finally, $M$ is the total number of shuffles and $N$ is the dataset size.\n",
    "\n",
    "Task: compute the test-retest metric for each language model using the original `lm_scores_mmlu.csv` file and the new `lm_scores_mmlu_shuffle.csv` file. Using a bar plot, visualize your results by comparing the accuracy of the original `lm_scores_mmlu.csv` and the test-retest scores.\n",
    "\n",
    "**hints**\n",
    "- what is $M$ in our case?\n",
    "\n",
    "(bonus: no points, but so much sweet, sweet knowledge - check out [the following article](https://arxiv.org/pdf/2406.19470v1))"
   ]
  },
  {
   "cell_type": "code",
   "execution_count": 76,
   "id": "46ce6153",
   "metadata": {},
   "outputs": [
    {
     "name": "stdout",
     "output_type": "stream",
     "text": [
      "  Model  Original Accuracy  Test-Retest Score\n",
      "0     X           0.743588           0.588406\n",
      "1     Y           0.761542           0.571648\n",
      "2     Z           0.655951           0.441604\n"
     ]
    },
    {
     "data": {
      "text/plain": [
       "<Figure size 1000x500 with 0 Axes>"
      ]
     },
     "metadata": {},
     "output_type": "display_data"
    },
    {
     "data": {
      "image/png": "[encoded data removed]",
      "text/plain": [
       "<Figure size 1000x500 with 1 Axes>"
      ]
     },
     "metadata": {},
     "output_type": "display_data"
    }
   ],
   "source": [
    "import pandas as pd\n",
    "import matplotlib.pyplot as plt\n",
    "\n",
    "\n",
    "df_mmlu = pd.read_csv(\"data/task_2/lm_scores_mmlu.csv\")\n",
    "df_mmlu_shuffle = pd.read_csv(\"data/task_2_5/lm_scores_mmlu_shuffle.csv\")\n",
    "\n",
    "# Step 1: Identify Unique Models\n",
    "models = df_mmlu[\"model_name\"].unique()\n",
    "\n",
    "# Step 2: Compute Original Accuracy Per Model\n",
    "original_accuracy = df_mmlu.groupby(\"model_name\")[\"correct\"].mean()\n",
    "\n",
    "# Step 3: Compute Test-Retest Metric Per Model\n",
    "test_retest_scores = {}\n",
    "\n",
    "for model in models:\n",
    "    df_orig_model = df_mmlu[df_mmlu[\"model_name\"] == model]\n",
    "    df_shuf_model = df_mmlu_shuffle[df_mmlu_shuffle[\"model_name\"] == model]\n",
    "\n",
    "    # Merge on 'question_id'\n",
    "    merged = df_orig_model.merge(\n",
    "        df_shuf_model,\n",
    "        on=\"question_id\",\n",
    "        suffixes=(\"_orig\", \"_shuf\")\n",
    "    )\n",
    "    \n",
    "    # Number of unique questions (N)\n",
    "    N = merged[\"question_id\"].nunique()\n",
    "    # Number of shuffled versions per question (M)\n",
    "    M = len(df_shuf_model) / N\n",
    "\n",
    "    # Compute test-retest metric\n",
    "    test_retest_metric = (merged[\"correct_orig\"] * merged[\"correct_shuf\"]).sum() / (N * M)\n",
    "    test_retest_scores[model] = test_retest_metric\n",
    "\n",
    "# Step 4: Create Results DataFrame\n",
    "df_results = pd.DataFrame({\n",
    "    \"Model\": models,\n",
    "    \"Original Accuracy\": original_accuracy.values,\n",
    "    \"Test-Retest Score\": [test_retest_scores[model] for model in models]\n",
    "})\n",
    "\n",
    "df_results.sort_values(\"Model\", inplace=True)\n",
    "df_results.reset_index(drop=True, inplace=True)\n",
    "\n",
    "print(df_results)\n",
    "\n",
    "# Step 5: Plot the Results as a Grouped Bar Chart\n",
    "plt.figure(figsize=(10, 5))\n",
    "df_results.set_index(\"Model\").plot(kind=\"bar\", figsize=(10, 5))\n",
    "plt.title(\"Comparison of Original Accuracy and Test-Retest Score per Model\")\n",
    "plt.xlabel(\"Model\")\n",
    "plt.ylabel(\"Score / Accuracy\")\n",
    "plt.xticks(rotation=45)\n",
    "plt.grid(axis=\"y\", linestyle=\"--\", alpha=0.7)\n",
    "plt.legend(title=\"Metrics\")\n",
    "plt.tight_layout()\n",
    "plt.show()\n"
   ]
  },
  {
   "cell_type": "markdown",
   "id": "62d52d93",
   "metadata": {},
   "source": [
    "### 2.7 (2 pt)\n",
    "\n",
    "A. Using the unshuffled data: For each LM, print the distribution of the answers they give as well as the accuracy conditioned on the answer they give.\n",
    "\n",
    "B. /Discuss:/ Describe what you observe\n",
    "\n",
    "[bonus: not scored, but again _that sweet, sweet knowledge_] Could you think of a plausible explanation?"
   ]
  },
  {
   "cell_type": "code",
   "execution_count": 77,
   "id": "579c30cf",
   "metadata": {},
   "outputs": [
    {
     "name": "stdout",
     "output_type": "stream",
     "text": [
      "Answer Distribution per Model:\n",
      "result             A         B         C         D\n",
      "model_name                                        \n",
      "X           0.364142  0.227343  0.205968  0.202548\n",
      "Y           0.091655  0.192886  0.257780  0.457678\n",
      "Z           0.186047  0.246666  0.276761  0.290527\n",
      "\n",
      "Accuracy per Answer per Model:\n",
      "result             A         B         C         D\n",
      "model_name                                        \n",
      "X           0.367927  0.884543  1.000000  1.000000\n",
      "Y           0.937500  0.897606  0.827861  0.631608\n",
      "Z           0.476103  0.654073  0.703429  0.727487\n"
     ]
    }
   ],
   "source": [
    "#A\n",
    "\n",
    "#Using the unshuffled data: For each LM, print the distribution of the answers they give as well as the accuracy conditioned on the answer they give.\n",
    "\n",
    "# Compute the distribution of answers and accuracy for each model\n",
    "answer_distribution = df_mmlu.groupby(\"model_name\")[\"result\"].value_counts(normalize=True)\n",
    "accuracy_per_answer = df_mmlu.groupby([\"model_name\", \"result\"])[\"correct\"].mean()\n",
    "\n",
    "# Display the results\n",
    "print(\"Answer Distribution per Model:\")\n",
    "print(answer_distribution.unstack().fillna(0))\n",
    "print(\"\\nAccuracy per Answer per Model:\")\n",
    "print(accuracy_per_answer.unstack().fillna(0))\n"
   ]
  },
  {
   "cell_type": "markdown",
   "id": "e9b4c2e8",
   "metadata": {},
   "source": [
    "B. /Discuss:/"
   ]
  },
  {
   "cell_type": "markdown",
   "id": "2d45a77b",
   "metadata": {},
   "source": [
    "## Task 3 (16 points): What do Questions and Answers look like for a Language Model?\n",
    "\n",
    "While you feel pretty good about the tests you conducted so far, something still bothers you: what if the language models don't see the data like you do? Suddenly, you receive a phone call from a wise AI sage based in Maastricht named Yodata:\n",
    "\n",
    "```\n",
    "\"Hmmm, correct you are, jonge padawan, to question how the wereld is seen by large language models! Simple 'text,' it is not, nee nee nee! Characters and words, the way of gewone humans, this is not, heh heh heh.\n",
    "\n",
    "'Tokens,' they use, ja! Mysterious and powerful, these tokens are. Expand our vocabulary, they do, beyond the simple 'a to Z.' Chunky blocks of text, they become, yes! 'Hello world,' a simple phrase it may seem. But to a language model, '[24912, 2375]' it might appear, hmm? Verwarrend, it is!\n",
    "\n",
    "Wise, it would be, to explore these MMLU data points through the eyes of a language model, you think? Yes, yes! Much to learn, there is. The ways of the tokens, understand you must, if truly comprehend the great LMs, you wish to.\n",
    "\n",
    "Meditate on this, you should. The force of natural language processing, strong it is. But geduld, you must have, my jonge padawan. For only through great study and contemplation, will the mysteries of the tokens reveal themselves to you, they will. Ja, hmmm!\"\n",
    "```\n",
    "\n",
    "Admittingly, Yodata at times speaks in riddles... However, he was explaining a crucial aspect of modern LMs called [Tokenization](https://learn.microsoft.com/en-us/dotnet/ai/conceptual/understanding-tokens):\n",
    "\n",
    "\n",
    "“Tokens are words, character sets, or combinations of words and punctuation that are used by [language models (LMs)] to decompose text into. Tokenization is the first step in training”\n",
    "\n",
    "Instead of characters, LMs process natural language using “tokens”. While this is useful for a number of reasons, it does at times introduce some “unintuitive” behavior…"
   ]
  },
  {
   "cell_type": "code",
   "execution_count": 78,
   "id": "001c4c53",
   "metadata": {},
   "outputs": [
    {
     "name": "stdout",
     "output_type": "stream",
     "text": [
      "humans see: \"hello world\" --> language models see: [24912, 2375]\n"
     ]
    }
   ],
   "source": [
    "# PROVIDED CODE\n",
    "\n",
    "try:\n",
    "    import tiktoken\n",
    "except Exception as e:\n",
    "    print('installing tiktoken package')\n",
    "    \n",
    "    ! pip install tiktoken\n",
    "    \n",
    "    import tiktoken\n",
    "\n",
    "def tokenize_text(s):\n",
    "    enc = tiktoken.encoding_for_model('gpt-4o')\n",
    "    tokens = enc.encode(str(s))\n",
    "    return tokens\n",
    "\n",
    "example_string = 'hello world'\n",
    "print(f'humans see: \"{example_string}\" --> language models see: {tokenize_text(example_string)}')"
   ]
  },
  {
   "cell_type": "markdown",
   "id": "0ab56227",
   "metadata": {},
   "source": [
    "### 3.1 (5 pt)\n",
    "\n",
    "Use the provided code in the cell above to \"see the world through the eyes of a language model\":\n",
    "\n",
    "A. Tokenize the questions of the original MMLU data provided in task 1: `task_1/mmlu_data/test.csv` and plot the token distribution (the frequency of each token).\n",
    "\n",
    "B. Same as (A), but now for the answers in columns (columns \"A\", \"B\", \"C\", and \"D\").\n",
    "\n",
    "C. Isolate the tokens for the strings \"A\", \"B\", \"C\", and \"D\", then, for their occurances in both questions and answers, print their relative distribution to each other.\n",
    "\n",
    "**hint**\n",
    "- There are a _lot_ of tokens, consider using a cutoff point and log scale\n",
    "- For (c), they should sum to 1"
   ]
  },
  {
   "cell_type": "code",
   "execution_count": 106,
   "id": "a00f69cf",
   "metadata": {
    "scrolled": true
   },
   "outputs": [
    {
     "data": {
      "image/png": "[encoded data removed]",
      "text/plain": [
       "<Figure size 1200x600 with 1 Axes>"
      ]
     },
     "metadata": {},
     "output_type": "display_data"
    }
   ],
   "source": [
    "#A\n",
    "\n",
    "from collections import Counter\n",
    "# Load the MMLU data from CSV (adjust the path if necessary)\n",
    "df = pd.read_csv(\"data/task_1/mmlu_data/test.csv\")\n",
    "\n",
    "# Extract the questions (assuming the questions are in the \"question\" column)\n",
    "questions = df[\"question\"].dropna().tolist()\n",
    "\n",
    "# Tokenize each question and accumulate all tokens\n",
    "all_tokens = []\n",
    "for question in questions:\n",
    "    all_tokens.extend(tokenize_text(question))\n",
    "\n",
    "# Count the frequency of each token\n",
    "token_counts = Counter(all_tokens)\n",
    "\n",
    "# For visualization, select the top 50 most common tokens\n",
    "top_tokens = token_counts.most_common(50)\n",
    "tokens, counts = zip(*top_tokens)\n",
    "\n",
    "# Plot the token frequency distribution\n",
    "plt.figure(figsize=(12, 6))\n",
    "plt.bar([str(token) for token in tokens], counts)\n",
    "\n",
    "# Set the y-axis to log scale\n",
    "plt.yscale('log')\n",
    "\n",
    "# Customize the y-axis ticks:\n",
    "# This locator places ticks at every integer multiple in each decade (e.g., 1, 2, 3, ..., 9, 10, 20, ..., etc.)\n",
    "ax = plt.gca()\n",
    "ax.yaxis.set_major_locator(ticker.LogLocator(base=10, subs=np.arange(1, 10)))\n",
    "ax.yaxis.set_major_formatter(ticker.ScalarFormatter())\n",
    "\n",
    "plt.xlabel(\"Token ID\")\n",
    "plt.ylabel(\"Frequency\")\n",
    "plt.title(\"Top 50 Token Frequencies in Questions\")\n",
    "plt.xticks(rotation=90)\n",
    "plt.tight_layout()\n",
    "plt.show()\n",
    "\n",
    "\n"
   ]
  },
  {
   "cell_type": "code",
   "execution_count": 108,
   "id": "7f4ce783",
   "metadata": {},
   "outputs": [
    {
     "data": {
      "image/png": "[encoded data removed]",
      "text/plain": [
       "<Figure size 1200x600 with 1 Axes>"
      ]
     },
     "metadata": {},
     "output_type": "display_data"
    }
   ],
   "source": [
    "#B\n",
    "\n",
    "import pandas as pd\n",
    "import matplotlib.pyplot as plt\n",
    "from collections import Counter\n",
    "import numpy as np\n",
    "import matplotlib.ticker as ticker\n",
    "\n",
    "# Load the MMLU data from CSV (adjust the path if necessary)\n",
    "df = pd.read_csv(\"data/task_1/mmlu_data/test.csv\")\n",
    "\n",
    "# The answer options are assumed to be in columns \"A\", \"B\", \"C\", and \"D\".\n",
    "answer_columns = [\"A\", \"B\", \"C\", \"D\"]\n",
    "\n",
    "# Initialize a list to store tokens for all answer options.\n",
    "all_answer_tokens = []\n",
    "\n",
    "# Loop through each answer column and tokenize each answer.\n",
    "for col in answer_columns:\n",
    "    answers = df[col].dropna().tolist()\n",
    "    for answer in answers:\n",
    "        all_answer_tokens.extend(tokenize_text(answer))\n",
    "\n",
    "# Count the frequency of each token.\n",
    "token_counts = Counter(all_answer_tokens)\n",
    "\n",
    "# For visualization, select the top 50 most common tokens.\n",
    "top_tokens = token_counts.most_common(50)\n",
    "tokens, counts = zip(*top_tokens)\n",
    "\n",
    "# Create the bar plot for the token frequency distribution.\n",
    "plt.figure(figsize=(12, 6))\n",
    "plt.bar([str(token) for token in tokens], counts)\n",
    "\n",
    "# Set the y-axis to a logarithmic scale.\n",
    "plt.yscale('log')\n",
    "\n",
    "# Customize the y-axis ticks:\n",
    "# The following will create ticks at every integer multiple between powers of 10 (e.g., 1, 2, ... 9, 10, 20, ...)\n",
    "ax = plt.gca()\n",
    "ax.yaxis.set_major_locator(ticker.LogLocator(base=10, subs=np.arange(1, 10)))\n",
    "ax.yaxis.set_major_formatter(ticker.ScalarFormatter())\n",
    "\n",
    "plt.xlabel(\"Token ID\")\n",
    "plt.ylabel(\"Frequency\")\n",
    "plt.title(\"Top 50 Token Frequencies in Answer Options\")\n",
    "plt.xticks(rotation=90)\n",
    "plt.tight_layout()\n",
    "plt.show()\n"
   ]
  },
  {
   "cell_type": "code",
   "execution_count": 109,
   "id": "8015e92e",
   "metadata": {},
   "outputs": [
    {
     "name": "stdout",
     "output_type": "stream",
     "text": [
      "Relative distribution of tokens for 'A', 'B', 'C', and 'D':\n",
      "  A: 0.7917 (raw count: 3314)\n",
      "  B: 0.0602 (raw count: 252)\n",
      "  C: 0.1015 (raw count: 425)\n",
      "  D: 0.0466 (raw count: 195)\n"
     ]
    }
   ],
   "source": [
    "#C\n",
    "df = pd.read_csv(\"data/task_1/mmlu_data/test.csv\")\n",
    "\n",
    "# Initialize a list to store tokens from both questions and answers\n",
    "all_tokens = []\n",
    "\n",
    "# Tokenize the questions (assuming they are in the \"question\" column)\n",
    "questions = df[\"question\"].dropna().tolist()\n",
    "for question in questions:\n",
    "    all_tokens.extend(tokenize_text(question))\n",
    "\n",
    "# Tokenize the answer options (columns \"A\", \"B\", \"C\", and \"D\")\n",
    "answer_columns = [\"A\", \"B\", \"C\", \"D\"]\n",
    "for col in answer_columns:\n",
    "    answers = df[col].dropna().tolist()\n",
    "    for answer in answers:\n",
    "        all_tokens.extend(tokenize_text(answer))\n",
    "\n",
    "# Count the frequency of each token in the combined list\n",
    "combined_counter = Counter(all_tokens)\n",
    "\n",
    "# For each of the strings \"A\", \"B\", \"C\", and \"D\", find its token representation.\n",
    "# (We assume that tokenizing a single letter returns a list with one token.)\n",
    "letters = [\"A\", \"B\", \"C\", \"D\"]\n",
    "letter_tokens = {letter: tokenize_text(letter)[0] for letter in letters}\n",
    "\n",
    "# Extract the raw counts for each letter token from the combined counter.\n",
    "letter_counts = {letter: combined_counter[letter_tokens[letter]] for letter in letters}\n",
    "\n",
    "# Compute the total count for these letter tokens.\n",
    "total_letter_count = sum(letter_counts.values())\n",
    "\n",
    "print(\"Relative distribution of tokens for 'A', 'B', 'C', and 'D':\")\n",
    "for letter in letters:\n",
    "    relative_frequency = letter_counts[letter] / total_letter_count if total_letter_count else 0\n",
    "    print(f\"  {letter}: {relative_frequency:.4f} (raw count: {letter_counts[letter]})\")\n"
   ]
  },
  {
   "cell_type": "markdown",
   "id": "2a9d0055",
   "metadata": {},
   "source": [
    "### 3.2 (3 pt)\n",
    "\n",
    "What if the number of \"A\", \"B\", \"C\", and \"D\" tokens in the question and answer pairs could influence a language model's decisions?\n",
    "\n",
    "A. For each question-answer pair, compute: \n",
    "1. the number of \"A\", \"B\", \"C\", and \"D\" tokens that occur in the combined question and answers; \n",
    "2. an the total number of tokens.\n",
    "3. then, group by the \"correct\" answer and compute the mean frequency of A, B, C, and D tokens and the total number of tokens. \n",
    "4. finally, print your results\n",
    "\n",
    "B. /Discuss:/ What do you think of the hypothesis that the frequency of A, B, C, and D tokens could influence answers?\n"
   ]
  },
  {
   "cell_type": "code",
   "execution_count": 111,
   "id": "cf09aaf6",
   "metadata": {},
   "outputs": [
    {
     "name": "stdout",
     "output_type": "stream",
     "text": [
      "Mean Token Counts Grouped by Correct Answer:\n",
      "         count_A   count_B   count_C   count_D  total_tokens\n",
      "answer                                                      \n",
      "A       0.157045  0.007138  0.012725  0.004345     92.798262\n",
      "B       0.167244  0.010976  0.010976  0.004910     88.601675\n",
      "C       0.158012  0.009771  0.016192  0.005304     92.427415\n",
      "D       0.165784  0.005032  0.017214  0.005032     91.831568\n"
     ]
    }
   ],
   "source": [
    "#A\n",
    "\n",
    "import pandas as pd\n",
    "from collections import Counter\n",
    "\n",
    "# Provided tokenization code using tiktoken\n",
    "try:\n",
    "    import tiktoken\n",
    "except Exception as e:\n",
    "    print(\"Installing tiktoken package...\")\n",
    "    !pip install tiktoken\n",
    "    import tiktoken\n",
    "\n",
    "def tokenize_text(s):\n",
    "    enc = tiktoken.encoding_for_model('gpt-4o')\n",
    "    return enc.encode(str(s))\n",
    "\n",
    "# Load the CSV file containing the MMLU data\n",
    "df = pd.read_csv(\"data/task_1/mmlu_data/test.csv\")\n",
    "\n",
    "# Define the letters we're interested in and get their token representation\n",
    "letters = [\"A\", \"B\", \"C\", \"D\"]\n",
    "letter_tokens = {letter: tokenize_text(letter)[0] for letter in letters}\n",
    "\n",
    "# For each row, compute:\n",
    "#   - the number of tokens corresponding to \"A\", \"B\", \"C\", and \"D\"\n",
    "#   - the total number of tokens in the combined text (question + answers)\n",
    "def compute_counts(row):\n",
    "    # Combine the question and all four answer options into one string.\n",
    "    combined_text = f\"{row['question']} {row['A']} {row['B']} {row['C']} {row['D']}\"\n",
    "    tokens = tokenize_text(combined_text)\n",
    "    token_counter = Counter(tokens)\n",
    "    \n",
    "    # Count occurrences for each letter token.\n",
    "    counts = {f\"count_{letter}\": token_counter[letter_tokens[letter]] for letter in letters}\n",
    "    counts[\"total_tokens\"] = len(tokens)\n",
    "    return pd.Series(counts)\n",
    "\n",
    "# Apply the counting function to every row and add the new columns to the DataFrame.\n",
    "counts_df = df.apply(compute_counts, axis=1)\n",
    "df = pd.concat([df, counts_df], axis=1)\n",
    "\n",
    "# Now, group by the \"correct\" answer and compute the mean counts and mean total tokens.\n",
    "grouped_results = df.groupby(\"answer\")[[\"count_A\", \"count_B\", \"count_C\", \"count_D\", \"total_tokens\"]].mean()\n",
    "\n",
    "# Print the results.\n",
    "print(\"Mean Token Counts Grouped by Correct Answer:\")\n",
    "print(grouped_results)"
   ]
  },
  {
   "cell_type": "markdown",
   "id": "020511d4",
   "metadata": {},
   "source": [
    "B. /Discuss:/"
   ]
  },
  {
   "cell_type": "markdown",
   "id": "c2b42b74",
   "metadata": {},
   "source": [
    "### 3.3 (4 pt)\n",
    "\n",
    "Three of the most important considerations when deciding between language models are:\n",
    "\n",
    "Quality\n",
    "Costs\n",
    "Speed\n",
    "\n",
    "So far, much of your analysis has focused on quality. However, the government has indicated that they are quite concerned about both the total costs and speed as well. Specifically, it has been brought to their attention that a new `turbo` model has been launched! \n",
    "\n",
    "This model is both cheaper and faster than the models you evaluated so far. However, there is a catch: the context length* is much smaller than that of the other LMS. Namely, it can only process **300** tokens during inference. Meanwhile, the other models can process up to 100K tokens! \n",
    "\n",
    "*_The “context length” refers to the number of tokens that can be given to an LM as input._\n",
    "\n",
    "A. Are there subjects where using the cheaper model might be problematic? I.e., where part of the question and answer(s) might not fit completely in the context?\n",
    "\n",
    "B. /Discuss:/ Can you think of a strategy that would balance the needs of the government?\n",
    "\n",
    "**hint**:\n",
    "- An LM needs to have both the question and the different answer options in its context"
   ]
  },
  {
   "cell_type": "code",
   "execution_count": 29,
   "id": "f365f2b6",
   "metadata": {},
   "outputs": [],
   "source": [
    "#A"
   ]
  },
  {
   "cell_type": "markdown",
   "id": "4231fdc6",
   "metadata": {},
   "source": [
    "B. /Discuss:/"
   ]
  },
  {
   "cell_type": "markdown",
   "id": "44558c5d",
   "metadata": {},
   "source": [
    "### 3.4 (4 pt)\n",
    "\n",
    "/Discuss:/ The time has come to give your final recommendation on the use of LMs in education to the government! Taking into account everything you analyzed in all the preceding tasks (1, 2, and 3), please write a short recommendation consisting of 4 bullet points discussing your concerns."
   ]
  },
  {
   "cell_type": "markdown",
   "id": "61c2e634",
   "metadata": {},
   "source": [
    "B. /Discuss:/\n",
    "\n",
    "1.\n",
    "\n",
    "2.\n",
    "\n",
    "3.\n",
    "\n",
    "4."
   ]
  }
 ],
 "metadata": {
  "kernelspec": {
   "display_name": "Python 3",
   "language": "python",
   "name": "python3"
  },
  "language_info": {
   "codemirror_mode": {
    "name": "ipython",
    "version": 3
   },
   "file_extension": ".py",
   "mimetype": "text/x-python",
   "name": "python",
   "nbconvert_exporter": "python",
   "pygments_lexer": "ipython3",
   "version": "3.11.9"
  }
 },
 "nbformat": 4,
 "nbformat_minor": 5
}
