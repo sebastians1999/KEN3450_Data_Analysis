{
 "cells": [
  {
   "cell_type": "markdown",
   "id": "7e3a9aff",
   "metadata": {},
   "source": [
    "(Placeholder for your group #)\n",
    "\n",
    "(Placeholder for your names)\n",
    "\n",
    "(Placeholder for your i-numbers)"
   ]
  },
  {
   "cell_type": "markdown",
   "id": "5d5ab070",
   "metadata": {},
   "source": [
    "**Use of genAI tools (e.g. chatGPT), websites (e.g. stackoverflow)**: *list websites where you found code (or other info) as well as include information on how you used genAI tools*"
   ]
  },
  {
   "cell_type": "markdown",
   "id": "2a108445",
   "metadata": {},
   "source": [
    "# Data Analysis, Clinic 1\n",
    "# FIETS: Fundamentele Innovatie En Technologie in Scholing\n",
    "## Met FIETS blijft het onderwijs vooruitgaan, zelfs tegen de wind in!\n",
    "\n",
    "---\n",
    "\n",
    "By completing and delivering the clinic tasks you will know how to :\n",
    "\n",
    "- Load data and handle data using pandas;\n",
    "- Navigate the documentation of Python packages by yourself;\n",
    "- Filter and tidy up **noisy** real-world datasets;\n",
    "- Aggregate your data in different (and hopefully helpful) ways;\n",
    "- Use EDA to learn more about your data\n",
    "- Create and interpret informative visualizations to explore the data set\n",
    "- Derive meaningful insights for the societal impact of datasets\n",
    "\n",
    "---\n",
    "**Important Dates.**\n",
    "\n",
    "- Clinic 1 release: Thu 30 Jan 2024\n",
    "- Clinic 1 due: Fri 07 Feb 2024 late night, wildcards available\n",
    "\n",
    "**Instructions for the deliverable:**\n",
    "\n",
    "* You are allowed to use any built-in Python library that comes with Anaconda. If you want to use an external library, you may do so, but must justify your choice.\n",
    "\n",
    "* Make sure that you include a proper amount/mix of comments, results and code. More specifically, be sure to provide a concise textual description of your thought process, the assumptions you made, the solution you implemented, and explanations for your answers. A notebook that only has code cells will not suffice. To avoid confusion: use short comments for longer code answers.\n",
    "\n",
    "* For questions containing the /Discuss:/ prefix, answer not with code, but with a textual explanation (in markdown).\n",
    "\n",
    "* Back up any hypotheses and claims with data, since this is an important aspect of the course.\n",
    "\n",
    "* Please write all your comments in English, and use meaningful variable names (as possible) in your code. \n",
    "\n",
    "* In the end, make sure that all cells are executed properly and everything you need to show is in your (execucted) notebook. We will not run your notebook for you! \n",
    "\n",
    "- In continuation to the previous point, interactive plots, such as those generated using the ‘plotly’ package, should be strictly avoided! Make sure to print results and/or dataframes that confirm you have properly addressed the task.\n",
    "\n",
    "* You are asked to deliver **only your executed notebook file, .ipnyb** and nothing else. If you deliver other files, we will not grade anything.\n",
    "\n",
    "* Honor code applies to these tasks. If you are not certain about an action, consult with Jerry.\n",
    "\n",
    "**A Note from Jerry on using Language Models (LMs)**\n",
    "\n",
    "If you try hard enough, you will likely get away with cheating (that does not only apply to LMs). Fortunately, my job is not to police, but rather to educate you. So, please consider the following:\n",
    "\n",
    "I assume that you are taking this course to learn something! LMs are not always right ([they often fail in silly ways](https://community.openai.com/t/why-9-11-is-larger-than-9-9-incredible/869824/4)). This course should prepare you to detect when they are wrong!\n",
    "\n",
    "I don't restrict the use of LMs because I see the value of being helped when coding (esp. in the context of pandas dataframes nightmare :)). Based on what we saw last year in your notebooks, it's pretty clear when you \"copy\" some code and then you struggle to interpret the results. This is the essence of this course and of the skills you should try build for yourself: Many people can run fancy models these days but not many people can interpret the results correctly. Try to be the latter ones.\n",
    "\n",
    "---"
   ]
  },
  {
   "cell_type": "markdown",
   "id": "f9b54879",
   "metadata": {},
   "source": [
    "## Context\n",
    "\n",
    "AI is booming! Newspapers, influencers and your relatives all agree that AI is important. But while almost everyone agrees that AI is the future, much is unclear about what that future esp. in critical sectors like education looks like...\n",
    "\n",
    "Freshly graduated from a top Dutch university in Limburg, you are hired by the Dutch government to advise on a large-scale “education innovation” initiative code-named \"FIETS\" (Flexibele Innovatie voor Efficiënte Toepassing in Scholing). With higher education facing severe budget cuts, the government is looking for creative solutions to \"do more with less.\" Convinced by the stunning progress in language modeling, officials believe LLMs could help battle growing teacher shortages and reduce costs by automating parts of the education process. Your job description: investigate which LMs might be best suited to plug the gaps without draining the budget!\n",
    "\n",
    "You are handed the results of three LMs on the [“Massive Multitask Language Understanding (MMLU)”](https://arxiv.org/abs/2009.03300) dataset  to compare. This famous dataset consists of 57 subjects with multiple-choice questions, covering diverse subjects like mathematics, computer science, history, and law. Most providers of state-of-the-art LMs use this dataset to showcase the versatility of their latest models. Unfortunately, the intern responsible for collecting the results, didn’t pay attention during DACS KEN3450: Data Analysis. As a result, the collected datasets are slightly corrupted. Jammer!\n",
    "\n",
    "The success of FIETS depends on your ability to make sense of the messy data and recommend the best model to keep the Dutch education system pedaling forward—despite uphill challenges like funding shortages and a skeptical academic community!\n",
    "\n",
    "### A very brief primer on Language Models\n",
    "We studied LLMs in the context of the NLP course but here is a short reminder. Language models (LMs) are sophisticated statistical models designed to understand and generate human-like text. At their core, LMs are trained to predict the most likely continuation of a given input text. For example, given the input \"The cat sat on the,\" an LM might predict \"mat\" as a likely continuation.\n",
    "LMs are trained on vast text samples from various sources, including books, websites, and social media. This extensive training allows them to capture patterns and relationships in language, enabling them to generate coherent and contextually appropriate text across a wide range of topics and styles.\n",
    "\n",
    "While LMs can produce text that appears to be written by intelligent humans, it's important to note that their capabilities can diverge from human intelligence in unexpected ways. They may sometimes generate factually incorrect information or struggle with complex reasoning tasks.\n",
    "\n",
    "Two key concepts in understanding LMs are:\n",
    "1. **Tokens**: LMs process text using \"tokens\" rather than individual characters. Tokens can be words, parts of words, or punctuation marks. For example, the sentence \"I love AI!\" might be tokenized as [\"I\", \"love\", \"AI\", \"!\"]. Tokenization is the first step in both training and using an LM.\n",
    "2. **Context**: The input text provided to an LM is called the \"context.\" This context informs the model's predictions or generations. A longer or more specific context often leads to more accurate and relevant outputs.\n",
    "\n",
    "[See: Wikipedia entry on language models](https://en.wikipedia.org/wiki/Large_language_model)\n",
    "\n",
    "###  Files for this assignment\n",
    "This assignment is divided into three tasks, each of which should bring you a step closer to providing a recommendation toward project the objectives of FIETS:\n",
    "\n",
    "- **Task 1**: Inspecting the results and getting your first model ranking\n",
    "- **Task 2**: Inspecting the underlying data used to generate the results for possible biases\n",
    "- **Task 3**: Learning about tokens and providing a final recommendation\n",
    "\n",
    "\n",
    "```\n",
    "📁 FIETS\n",
    "│\n",
    "├── 📄 clinic1.ipynb (the file you're currently reading!)\n",
    "│\n",
    "└── 📁 data\n",
    "    ├── 📁 task_1\n",
    "    ├── 📁 task_2\n",
    "    └── 📁 task_2.5\n",
    "```   \n",
    " "
   ]
  },
  {
   "cell_type": "code",
   "execution_count": 1,
   "id": "1c8fd700",
   "metadata": {},
   "outputs": [],
   "source": [
    "# some basic imports\n",
    "import os\n",
    "import pandas as pd\n",
    "import numpy as np\n",
    "import matplotlib.pyplot as plt\n",
    "import warnings\n",
    "from scipy.stats import ttest_ind"
   ]
  },
  {
   "cell_type": "markdown",
   "id": "bd2a7be4",
   "metadata": {},
   "source": [
    "## Task 1 (18 points): What's in an average anyway?\n",
    "\n",
    "The files needed to complete task 1 can be found in the folder \"`data/task_1/`:\n",
    "```\n",
    "task_1/\n",
    "│\n",
    "├── mmlu_data/\n",
    "│   └── test.csv\n",
    "│\n",
    "└── lm_scores/\n",
    "    ├── lm_X.csv\n",
    "    ├── lm_Y.csv\n",
    "    └── lm_Z.csv\n",
    "```\n",
    "\n",
    "We will start by loading, (manually) inspecting, and cleaning the data. Although it doesn't seem \"glamorous\" (nor is it particularly fun...) - manually inspecting data is extremely important! In fact, it's one of the few things most AI and Data Science researchers agree on :). Next, we will take a first pass on ordering our Olympic podium between three LMs."
   ]
  },
  {
   "cell_type": "markdown",
   "id": "16518de6",
   "metadata": {},
   "source": [
    "### 1.1 (1 pt)\n",
    " \n",
    "Load the subfiles contained in the `mmlu_data` and `lm_scores` folders into separate dataframes:\n",
    "- `df_test`\n",
    "- `df_x`\n",
    "- `df_y`\n",
    "- `df_z`\n",
    "\n",
    "for each, print their sizes."
   ]
  },
  {
   "cell_type": "code",
   "execution_count": 2,
   "id": "80eabdcb",
   "metadata": {},
   "outputs": [
    {
     "name": "stdout",
     "output_type": "stream",
     "text": [
      "df_test:  (14042, 8)\n",
      "df_x:  (13882, 2)\n",
      "df_y:  (13978, 2)\n",
      "df_z:  (13923, 2)\n"
     ]
    }
   ],
   "source": [
    "df_test = pd.read_csv('data/task_1/mmlu_data/test.csv')\n",
    "\n",
    "f = 'data/task_1/lm_scores/'\n",
    "df_x = pd.read_csv(os.path.join(f, 'lm_X.csv'))\n",
    "df_y = pd.read_csv(os.path.join(f, 'lm_Y.csv'))\n",
    "df_z = pd.read_csv(os.path.join(f, 'lm_Z.csv'))\n",
    "\n",
    "print('df_test: ', df_test.shape)\n",
    "print('df_x: ', df_x.shape)\n",
    "print('df_y: ', df_y.shape)\n",
    "print('df_z: ', df_z.shape)"
   ]
  },
  {
   "cell_type": "markdown",
   "id": "da14c5e2",
   "metadata": {},
   "source": [
    "### 1.2 (4 pt)\n",
    "Unfortunately, LMs don't always output the format we want. In the column `result`, the value should be one of A, B, C, or D. \n",
    "\n",
    "A. For each of the LM score dataframes, use a `value_counts()` operation and print the results. \n",
    "\n",
    "B. /Discuss:/ Inspect the results and describe the types of answer formats you see. Besides the \"expected\" case, you should be able to find at least four unexpected formats."
   ]
  },
  {
   "cell_type": "code",
   "execution_count": 3,
   "id": "eeebdb42",
   "metadata": {},
   "outputs": [
    {
     "name": "stdout",
     "output_type": "stream",
     "text": [
      "Value counts X:\n",
      "result\n",
      "A                                                                                                                 2733\n",
      "A                                                                                                                 1657\n",
      "B                                                                                                                 1412\n",
      "Answer: A                                                                                                         1398\n",
      "C                                                                                                                 1134\n",
      "                                                                                                                  ... \n",
      "judicial activism, so the answer is A                                                                                1\n",
      "creating insurmountable obstacles to the founding of factions, so the answer is A                                    1\n",
      "A congressperson who retires to take a position teaching political science at a university, so the answer is A       1\n",
      "David Hume, so the answer is D                                                                                       1\n",
      "Brahminic orthodoxy, so the answer is A                                                                              1\n",
      "Name: count, Length: 145, dtype: int64\n",
      "---------------------------------------------------------------------------------------------------------------------------------------------------\n",
      "Value counts Y:\n",
      "result\n",
      "D                                                                                                2894\n",
      "Answer: D                                                                                        1718\n",
      "C                                                                                                1701\n",
      "B                                                                                                1240\n",
      "D                                                                                                1145\n",
      "                                                                                                 ... \n",
      "Where the energy of interaction between the atoms is at its minimum value, so the answer is A       1\n",
      "leaves more viable offspring than others of its species., so the answer is D                        1\n",
      "A and C only, so the answer is D                                                                    1\n",
      "ADP + P → ATP, so the answer is D                                                                   1\n",
      "Monoclonal antibodies, so the answer is C                                                           1\n",
      "Name: count, Length: 141, dtype: int64\n",
      "---------------------------------------------------------------------------------------------------------------------------------------------------\n",
      "Value counts Y:\n",
      "result\n",
      "D                                                                                   2257\n",
      "C                                                                                   2191\n",
      "B                                                                                   2127\n",
      "A                                                                                   2060\n",
      "Answer: D                                                                            777\n",
      "                                                                                    ... \n",
      "omission of a universal suffrage clause, so the answer is D                            1\n",
      "declare war, so the answer is D                                                        1\n",
      "state and local governments, by means of federal funding, so the answer is B           1\n",
      "less clearly identified with consistent political ideologies, so the answer is B       1\n",
      "Rahit, so the answer is B                                                              1\n",
      "Name: count, Length: 560, dtype: int64\n"
     ]
    }
   ],
   "source": [
    "# A\n",
    "\n",
    "#print value counts for x\n",
    "print(\"Value counts X:\")\n",
    "print(df_x['result'].value_counts())\n",
    "print(\"---------------------------------------------------------------------------------------------------------------------------------------------------\")\n",
    "\n",
    "#print value counts for y\n",
    "print(\"Value counts Y:\")\n",
    "print(df_y['result'].value_counts())\n",
    "print(\"---------------------------------------------------------------------------------------------------------------------------------------------------\")\n",
    "\n",
    "#print value counts for z\n",
    "print(\"Value counts Y:\")\n",
    "print(df_z['result'].value_counts())\n",
    "\n",
    "\n",
    "\n",
    "\n",
    "\n"
   ]
  },
  {
   "cell_type": "code",
   "execution_count": 17,
   "id": "709b59db",
   "metadata": {},
   "outputs": [],
   "source": [
    "# B"
    "**Discussion**\n",
    "\n",
   ]
  },
  {
   "cell_type": "markdown",
   "id": "98377d82",
   "metadata": {},
   "source": [
    "### 1.3 (5 pt)\n",
    "Oh oh... That doesn't look great. Simply dropping all invalid answers seems overly wasteful, yet fixing all of these looks like a mess! Instead, let's focus for now on fixing just those answers of length < 10 characters that require only a single `str.replace()` operation. \n",
    "\n",
    "For example, if the answer looks like `--A--`, we could fix this by using the following simple function:\n",
    "\n",
    "```\n",
    "def clean_answer(s, pattern='-'):\n",
    "    return str(s).replace(pattern, '')\n",
    "\n",
    "dirty_answer = '--A--'\n",
    "clean_answer = clean_answer(dirty_answer)\n",
    "```\n",
    "\n",
    "A. Filter the three score dataframes to include only answers with less than 10 characters. Make a deep copy of the dataframes as you filter them.\n",
    "\n",
    "B. Modify the `clean_answer()` example function to clean the answers in the filtered data frames using the `apply()` functionality. Finally, make sure **all remaining answers are one of `A, B, C, or D`.**\n",
    "\n",
    "C. /Discuss:/ Compare the sizes of the original and filtered data frames. What do you see? Why might this be a problem?"
   ]
  },
  {
   "cell_type": "code",
   "execution_count": 18,
   "id": "5241d3d5",
   "metadata": {},
   "outputs": [
    {
     "name": "stdout",
     "output_type": "stream",
     "text": [
      "Value counts X:\n",
      "result\n",
      "A            2733\n",
      "A            1657\n",
      "B            1412\n",
      "Answer: A    1398\n",
      "C            1134\n",
      "D            1124\n",
      "B             793\n",
      "Answer: B     760\n",
      "C             622\n",
      "Answer: D     613\n",
      "D             596\n",
      "Answer: C     594\n",
      "Not Sure       73\n",
      "Name: count, dtype: int64\n",
      "Unique value count: 13\n",
      "---------------------------------------------------------------------------------------------------------------------------------------------------\n",
      "Value counts Y:\n",
      "result\n",
      "D            2894\n",
      "Answer: D    1718\n",
      "C            1701\n",
      "B            1240\n",
      "D            1145\n",
      "A            1008\n",
      "Answer: C     907\n",
      "Answer: B     726\n",
      "C             634\n",
      "Answer: A     597\n",
      "B             553\n",
      "A             428\n",
      "Not Sure       86\n",
      "Name: count, dtype: int64\n",
      "Unique value count: 13\n",
      "---------------------------------------------------------------------------------------------------------------------------------------------------\n",
      "Value counts Y:\n",
      "result\n",
      "D            2257\n",
      "C            2191\n",
      "B            2127\n",
      "A            2060\n",
      "Answer: D     777\n",
      "Answer: C     748\n",
      "Answer: B     712\n",
      "Answer: A     687\n",
      "C             316\n",
      "D             314\n",
      "B             285\n",
      "A             279\n",
      "Not Sure      125\n",
      "Name: count, dtype: int64\n",
      "Unique value count: 13\n",
      "---------------------------------------------------------------------------------------------------------------------------------------------------\n"
     ]
    }
   ],
   "source": [
    "#A\n",
    "\n",
    "#Task: Filter the three score dataframes to include only answers with less than 10 characters. Make a deep copy of the dataframes as you filter them.\n",
    "#Create a deep copy of the dataframes\n",
    "df_x_copy = df_x.copy(deep=True)\n",
    "df_y_copy = df_y.copy(deep=True)\n",
    "df_z_copy = df_z.copy(deep=True)\n",
    "\n",
    "#Filter the dataframes to include only answers with less than 10 characters\n",
    "df_x_copy = df_x_copy[df_x_copy['result'].str.len() < 10]\n",
    "df_y_copy = df_y_copy[df_y_copy['result'].str.len() < 10]\n",
    "df_z_copy = df_z_copy[df_z_copy['result'].str.len() < 10]\n",
    "\n",
    "#value counts for x\n",
    "print(\"Value counts X:\")\n",
    "print(df_x_copy['result'].value_counts())\n",
    "print(\"Unique value count:\",len(df_x_copy['result'].value_counts()))\n",
    "print(\"---------------------------------------------------------------------------------------------------------------------------------------------------\")\n",
    "\n",
    "#print value counts for y\n",
    "print(\"Value counts Y:\")\n",
    "print(df_y_copy['result'].value_counts())\n",
    "print(\"---------------------------------------------------------------------------------------------------------------------------------------------------\")\n",
    "\n",
    "#print value counts for z\n",
    "print(\"Value counts Y:\")\n",
    "print(df_z_copy['result'].value_counts())\n",
    "print(\"---------------------------------------------------------------------------------------------------------------------------------------------------\")\n"
   ]
   "cell_type": "code",
   "execution_count": 5,
    "\n",
    "\n"
   ]
  },
  {
   "cell_type": "code",
   "execution_count": 6,
   "id": "b2b23f54",
   "metadata": {},
   "outputs": [
    {
     "name": "stdout",
     "output_type": "stream",
     "text": [
      "Value counts X:\n",
      "result\n",
      "A    5788\n",
      "B    2965\n",
      "C    2350\n",
      "D    2333\n",
      "Name: count, dtype: int64\n",
      "---------------------------------------------------------------------------------------------------------------------------------------------------\n",
      "Value counts Y:\n",
      "result\n",
      "D    5757\n",
      "C    3242\n",
      "B    2519\n",
      "A    2033\n",
      "Name: count, dtype: int64\n",
      "---------------------------------------------------------------------------------------------------------------------------------------------------\n",
      "Value counts Y:\n",
      "result\n",
      "D    3348\n",
      "C    3255\n",
      "B    3124\n",
      "A    3026\n",
      "Name: count, dtype: int64\n"
     ]
    }
   ],
   "source": [
    "#B\n",
    "def clean_answer(s, pattern='-'):\n",
    "    s = str(s).replace('Answer: ', '')\n",
    "    #get rid of whitespaces in string\n",
    "    s = s.strip()\n",
    "    return s\n",
    "\n",
    "#Task: Apply the function to the 'result' column of the three dataframes. \n",
    "\n",
    "df_x_copy['result'] = df_x_copy['result'].apply(clean_answer)\n",
    "df_y_copy['result'] = df_y_copy['result'].apply(clean_answer)\n",
    "df_z_copy['result'] = df_z_copy['result'].apply(clean_answer)\n",
    "\n",
    "#drop nan \n",
    "df_x_copy = df_x_copy.dropna()\n",
    "df_y_copy = df_y_copy.dropna()\n",
    "df_z_copy = df_z_copy.dropna()\n",
    "\n",
    "#drop 'Not Sure' values\n",
    "df_x_copy = df_x_copy[df_x_copy['result'] != 'Not Sure']\n",
    "df_y_copy = df_y_copy[df_y_copy['result'] != 'Not Sure']\n",
    "df_z_copy = df_z_copy[df_z_copy['result'] != 'Not Sure']\n",
    "\n",
    "\n",
    "#print value counts for x\n",
    "print(\"Value counts X:\")\n",
    "print(df_x_copy['result'].value_counts())\n",
    "print(\"---------------------------------------------------------------------------------------------------------------------------------------------------\")\n",
    "\n",
    "#print value counts for y\n",
    "print(\"Value counts Y:\")\n",
    "print(df_y_copy['result'].value_counts())\n",
    "print(\"---------------------------------------------------------------------------------------------------------------------------------------------------\")\n",
    "\n",
    "#print value counts for z\n",
    "print(\"Value counts Y:\")\n",
    "print(df_z_copy['result'].value_counts())\n",
    "\n",
    "\n",
    "\n",
    "\n"
   ]
  },
  {
   "cell_type": "code",
   "execution_count": 7,
   "id": "63954001",
   "metadata": {},
   "outputs": [
    {
     "name": "stdout",
     "output_type": "stream",
     "text": [
      "Size before cleaning:\n",
      "(13882, 2)\n",
      "(13978, 2)\n",
      "(13923, 2)\n",
      "Size after cleaning and filtering:\n",
      "(13436, 2)\n",
      "(13551, 2)\n",
      "df_x_dff: 446\n",
      "df_y_dff: 427\n",
      "df_z_diff: 1170\n"
     ]
    }
   ],
   "source": [
    "# Size before cleaning\n",
    "print(\"Size before cleaning:\")\n",
    "print(df_x.shape)\n",
    "print(df_y.shape)\n",
    "print(df_z.shape)\n",
    "\n",
    "# Size after cleaning\n",
    "print(df_x_copy.shape)\n",
    "print(df_y_copy.shape)\n",
    "print(df_z_copy.shape)"
    "\n",
    "# Difference in size\n",
    "print(\"Difference in row reduction after data cleaning and filtering:\")\n",
    "print(\"df_x_dff:\", df_x.shape[0] - df_x_copy.shape[0])\n",
    "print(\"df_y_dff:\", df_y.shape[0] - df_y_copy.shape[0])\n",
    "print(\"df_z_diff:\", df_z.shape[0] - df_z_copy.shape[0])"
   ]
  },
  {
   "cell_type": "markdown",
   "metadata": {},
   "source": [
    "C. /Discuss:/\n"
    "\n",
    "- (13,882 rows, 2 columns)\n",
    "- (13,978 rows, 2 columns)\n",
    "- (13,923 rows, 2 columns)\n",
    "\n",
    "**Sizes of the new dataframes after filtering for answers with < 10 characters:**\n",
   ]
  },
  {
   "cell_type": "markdown",
   "id": "4bda2920",
   "metadata": {},
   "source": [
    "### 1.4 (3 pt)\n",
    "\n",
    "Now that our answer columns are nicely formatted, let's take a look at model performance:\n",
    "\n",
    "A. Both the `MMLU` dataframes and the language model score data frames have the columns `question_id`. For each of the language model score data frames, use an inner join operation with the `df_test` dataframe on the `question_id` column.\n",
    "\n",
    "B. Add a new column to each of the resulting dataframes called `correct`, that checks if the model's answer in `result` is the same as the expected answer in the column `answer`. Then, print the average score of each model."
   ]
  },
  {
   "cell_type": "code",
   "execution_count": 8,
   "id": "5cfcb814",
   "metadata": {},
   "outputs": [],
   "source": [
    "# A\n",
    "\n",
    "df_x_copy = pd.merge(df_x_copy, df_test, on='question_id', how='inner')\n",
    "\n",
    "df_y_copy = pd.merge(df_y_copy, df_test, on='question_id', how='inner')\n",
    "\n",
    "df_z_copy = pd.merge(df_z_copy, df_test, on='question_id', how='inner')\n",
    "\n",
    "\n",
    "\n"
   ]
  },
  {
   "cell_type": "code",
   "execution_count": 9,
   "id": "4814bb7f",
   "metadata": {},
   "outputs": [
    {
     "name": "stdout",
     "output_type": "stream",
     "text": [
      "Percentage of correct answers for X:  0.7674903245013397\n",
      "Percentage of correct answers for Y:  0.7458490148328537\n",
      "Percentage of correct answers for Z:  0.663294911001333\n"
     ]
    }
   ],
   "source": [
    "# B\n",
    "\n",
    "#new column correct\n",
    "df_x_copy['correct'] = df_x_copy['result'] == df_x_copy['answer']\n",
    "df_y_copy['correct'] = df_y_copy['result'] == df_y_copy['answer']\n",
    "df_z_copy['correct'] = df_z_copy['result'] == df_z_copy['answer']\n",
    "\n",
    "df_x_copy.head()\n",
    "\n",
    "\n",
    "\n",
    "#get percentage of correct answers\n",
    "print(\"Percentage of correct answers for X: \", df_x_copy['correct'].mean())\n",
    "print(\"Percentage of correct answers for Y: \", df_y_copy['correct'].mean())\n",
    "print(\"Percentage of correct answers for Z: \", df_z_copy['correct'].mean())\n"
   ]
  },
  {
   "cell_type": "markdown",
   "id": "474d719d",
   "metadata": {},
   "source": [
    "### 1.5 (5 pt)\n",
    "\n",
    "Hmmm, something doesn't seem quite right. Let's investigate how \"balanced\" this dataset is:\n",
    "\n",
    "A. For each of the 57 subjects in the MMLU, compare the number of questions answered by each model. Print the subjects for which there is a more than 10% difference.\n",
    "\n",
    "B. Propose and implement a reasonable way to rebalance the results. (e.g., while throwing away 100% of the results perfectly rebalances the results, it is not reasonable).\n",
    "\n",
    "C. Finally, print the updated accuracy on the rebalanced data.\n",
    "\n",
    "**hint:**:\n",
    "- (A) For a given subject, let model X and model Y have answered 181 and 200 questions respectively. You can consider this a 10% difference from the perspective of X, i.e., (200 - 181) / 181 > 0.10"
   ]
  },
  {
   "cell_type": "code",
   "execution_count": 10,
   "id": "1634b29a",
   "metadata": {},
   "outputs": [
    {
      "moral scenarios                 737        865        774\n",
      "logical fallacies               154        136        147\n",
     "data": {
      "text/html": [
       "<div>\n",
    }
   ],
   "source": [
    "#A\n",
    "\n",
    "#for each subject get the number of answered questions\n",
    "\n",
    "df = pd.concat([\n",
    "    df_x_copy['subject'].value_counts(),\n",
    "    df_y_copy['subject'].value_counts(),\n",
    "    df_z_copy['subject'].value_counts()\n",
    "], axis=1, keys=['Answers X', 'Answers Y', 'Answers Z'])\n",
    "\n",
    "df.head()\n",
    "\n",
    "# for each row, create a list of subjects where |(Y-X)|/X > 0.1\n",
   "cell_type": "code",
   "execution_count": 15,
   "id": "7b8bc27a",
   "metadata": {},
   "outputs": [
    {
     "name": "stdout",
    "df_XY = df[(abs(df['Answers Y'] - df['Answers X']) / df['Answers X']) > 0.1]\n",
    "\n",
    "# for each row, create a list of subjects where |(Z-X)|/X > 0.1\n",
    "df_XZ = df[(abs(df['Answers Z'] - df['Answers X']) / df['Answers X']) > 0.1]\n",
    "\n",
    "\n",
    "# for each row, create a list of subjects where |(Z-Y)|/Y > 0.1\n",
    "df_YZ = df[(abs(df['Answers Z'] - df['Answers Y']) / df['Answers Y']) > 0.1]\t\n",
    "\n",
    "#merge them to one without duplicates\n",
    "df_XYZ = pd.concat([df_XY, df_XZ, df_YZ]).drop_duplicates()\n",
    "\n",
    "#print the result\n",
   ]
  },
  {
   "cell_type": "code",
   "id": "a7cc11b7",
   "metadata": {},
   "outputs": [],
   "source": [
    "#B\n",
    "\n",
    "def stratified_bootstrap_score(df, n_bootstrap=1000):\n",
    "\n",
    "    # Get unique subjects (strata)\n",
    "    subjects = df['subject'].unique()\n",
    "    bootstrap_scores = []\n",
    "    \n",
    "    # Perform bootstrap iterations\n",
    "    for _ in range(n_bootstrap):\n",
    "        subject_scores = []\n",
    "        # Process each subject separately\n",
    "        for subject in subjects:\n",
    "            # Select rows for the current subject\n",
    "            df_subject = df[df['subject'] == subject]\n",
    "            # Sample with replacement from the subject data\n",
    "            sample = df_subject.sample(n=len(df_subject), replace=True)\n",
    "            # Calculate mean accuracy for the subject and store it\n",
    "            subject_scores.append(sample['correct'].mean())\n",
    "        # Compute average score across all subjects for this iteration\n",
    "        bootstrap_scores.append(np.mean(subject_scores))\n",
    "    \n",
    "    # Return overall mean score and its standard deviation (as standard error)\n",
    "    return np.mean(bootstrap_scores), np.std(bootstrap_scores)\n",
    "\n",
    "\n"
   ]
  },
  {
   "cell_type": "code",
   "execution_count": 12,
   "id": "e558c3f8",
   "metadata": {},
   "outputs": [
    {
     "name": "stdout",
     "output_type": "stream",
     "text": [
      "Bootstrapped scores:\n",
      "Model X: 0.767 ± 0.004\n",
      "Model Y: 0.741 ± 0.005\n",
      "Model Z: 0.662 ± 0.005\n"
     ]
    }
   ],
   "source": [
    "#C\n",
    "# Example usage:\n",
    "# df_x_copy, df_y_copy, df_z_copy should be DataFrames with 'subject' and 'correct' columns.\n",
    "mean_x, se_x = stratified_bootstrap_score(df_x_copy)\n",
    "mean_y, se_y = stratified_bootstrap_score(df_y_copy)\n",
    "mean_z, se_z = stratified_bootstrap_score(df_z_copy)\n",
    "\n",
    "print(\"Bootstrapped scores:\")\n",
    "print(f\"Model X: {mean_x:.3f} ± {se_x:.3f}\")\n",
    "print(f\"Model Y: {mean_y:.3f} ± {se_y:.3f}\")\n",
    "print(f\"Model Z: {mean_z:.3f} ± {se_z:.3f}\")"
   ]
  },
  {
   "cell_type": "code",
   "id": "8d2bfdd3",
   "metadata": {},
   "outputs": [
    {
     "name": "stdout",
     "output_type": "stream",
     "text": [
      "Old scores:\n",
      "Percentage of correct answers for X:  0.7674903245013397\n",
      "Percentage of correct answers for Y:  0.7458490148328537\n",
      "Percentage of correct answers for Z:  0.663294911001333\n"
     ]
    }
   ],
   "source": [
    "print(\"Old scores:\")\n",
    "print(\"Percentage of correct answers for X: \", df_x_copy['correct'].mean())\n",
    "print(\"Percentage of correct answers for Y: \", df_y_copy['correct'].mean())\n",
    "print(\"Percentage of correct answers for Z: \", df_z_copy['correct'].mean())"
   ]
  },
  {
   "cell_type": "markdown",
   "id": "1ae0547c",
   "metadata": {},
   "source": [
    "## Task 2 (26 points): What do you mean A > D > B > C...?\n",
    "\n",
    "Nice work! Having successfully inspected, cleaned, and rebalanced the provided data, you head over to director of the government's FIETS project operating under the code name Geronimo. He is happy with your work so far, but worried that the sloppy intern might have done more undetected damage. To be sure, he orders a new set of evaluations of all models on both MMLU and another dataset.\n",
    "\n",
    "After cleaning up and rebalancing, you are left with the concatenated score files in the second folder `task_2`:\n",
    "```\n",
    "task_2/\n",
    "│\n",
    "└── lm_scores_mmlu.csv\n",
    "│\n",
    "└── lm_scores_other.csv\n",
    "```\n",
    "\n",
    "Each has a new column called `model_name`, which is one of `X, Y` or `Z`.\n",
    "\n",
    "\n",
    "\n",
    "_NOTE: **only** use data from `task_2` and `task_2_5` for this assignment! The values in `lm_scores_mmlu.csv` will NOT be the same as the dataframes you finished in task 1. This is due to \"randomness\" or \"temperature\" in language model inference. This can slightly shift around generative results. (Conveniently: it also ensures any mistakes made in Task 1 don't propogate further ;) )_"
   ]
  },
  {
   "cell_type": "code",
   "execution_count": 14,
   "execution_count": 40,
   "id": "2067ebe2",
   "metadata": {},
   "outputs": [],
   "source": [
    "# PROVIDED CODE\n",
    "df_mmlu = pd.read_csv('data/task_2/lm_scores_mmlu.csv')\n",
    "df_other = pd.read_csv('data/task_2/lm_scores_other.csv')"
   ]
  },
  {
   "cell_type": "markdown",
   "id": "d97ed869",
   "metadata": {},
   "source": [
    "### 2.1 (4 pt)\n",
    "\n",
    "Let's explore the new results:\n",
    "\n",
    "A. Compute the mean accuracy and standard errors of each model on both datasets and print the results.\n",
    "\n",
    "B. Then, show your results in a bar plot using standard errors with a 95% confidence interval around the mean. Make sure the plot is easy to read and well annotated.\n",
    "\n",
    "C. /Discuss:/ the plot you created: (i) can you say that one of the models is the best? (ii) is there anything that seems odd?"
   ]
  },
  {
   "cell_type": "code",
   "execution_count": 15,
   "id": "b69b5615",
   "metadata": {},
   "outputs": [
    {
     "name": "stdout",
     "output_type": "stream",
     "text": [
      "Acc. + standared error MMLU\n",
      "  model_name  accuracy  standard_error\n",
      "0          X  0.743588        0.004038\n",
      "1          Y  0.761542        0.003941\n",
      "2          Z  0.655951        0.004393\n",
      "\n",
      "\n",
      "Acc. + standared error Other\n",
      "  model_name  accuracy  standard_error\n",
      "0          X  0.787976        0.006668\n",
      "1          Y  0.720936        0.007317\n",
      "2          Z  0.671721        0.007660\n"
     ]
    }
   ],
   "source": [
    "#A\n",
    "print(\"Acc. + standared error MMLU\")\n",
    "model_stats1 = df_mmlu.groupby(\"model_name\")[\"correct\"].agg(\n",
    "    accuracy=lambda x: np.mean(x),\n",
    "    standard_error=lambda x: np.std(x, ddof=1) / np.sqrt(len(x))\n",
    ").reset_index()\n",
    "\n",
    "print(model_stats1)\n",
    "print(\"\\n\")\n",
    "\n",
    "print(\"Acc. + standared error Other\")\n",
    "model_stats2 = df_other.groupby(\"model_name\")[\"correct\"].agg(\n",
    "    accuracy=lambda x: np.mean(x),\n",
    "    standard_error=lambda x: np.std(x, ddof=1) / np.sqrt(len(x))\n",
    ").reset_index()\n",
    "\n",
    "print(model_stats2)\n",
    "\n",
    "\n",
    "\n"
   ]
  },
  {
   "cell_type": "code",
   "execution_count": 16,
   "id": "c4a5bffc",
   "metadata": {},
   "outputs": [
    {
     "data": {
      "image/png": "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",
      "text/plain": [
       "<Figure size 800x600 with 1 Axes>"
      ]
     },
     "metadata": {},
     "output_type": "display_data"
    },
    {
     "data": {
      "image/png": "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",
      "text/plain": [
       "<Figure size 800x600 with 1 Axes>"
      ]
     },
     "metadata": {},
     "output_type": "display_data"
    }
   ],
   "source": [
    "#B\n",
    "\n",
    "import matplotlib.pyplot as plt\n",
    "\n",
    "def plot_model_accuracy(model_stats, headline):\n",
    "    # Calculate the confidence interval\n",
    "    model_stats[\"ci\"] = model_stats[\"standard_error\"] * 1.96\n",
    "\n",
    "    plt.figure(figsize=(8, 6))\n",
    "\n",
    "    # Plot bars\n",
    "    bars = plt.bar(\n",
    "        model_stats[\"model_name\"], model_stats[\"accuracy\"],\n",
    "        color='skyblue', edgecolor='black', alpha=0.75, label=\"Accuracy\"\n",
    "    )\n",
    "\n",
    "    # Add error bars as separate lines for better visibility\n",
    "    for i, (model, acc, ci) in enumerate(zip(model_stats[\"model_name\"], model_stats[\"accuracy\"], model_stats[\"ci\"])):\n",
    "        plt.errorbar(model, acc, yerr=ci, fmt='o', color='red', capsize=10, capthick=2, label=\"95% CI\" if i == 0 else \"\")\n",
    "\n",
    "    # Labels and title\n",
    "    plt.xlabel(\"Model Name\", fontsize=12)\n",
    "    plt.ylabel(\"Accuracy\", fontsize=12)\n",
    "    plt.title(headline, fontsize=14)\n",
    "    plt.xticks(fontsize=10)\n",
    "    plt.yticks(fontsize=10)\n",
    "\n",
    "    # Annotate values even lower inside the bars\n",
    "    for bar, row in zip(bars, model_stats.itertuples()):\n",
    "        plt.text(\n",
    "            bar.get_x() + bar.get_width() / 2, row.accuracy - 0.06,\n",
    "            f\"{row.accuracy:.3%}\", ha='center', fontsize=10,\n",
    "            fontweight='bold', color='black'\n",
    "        )\n",
    "\n",
    "    # Legend and grid\n",
    "    plt.legend()\n",
    "    plt.grid(axis='y', linestyle='--', alpha=0.6)\n",
    "\n",
    "    # Show plot\n",
    "    plt.show()\n",
    "\n",
    "plot_model_accuracy(model_stats1, \"Model Accuracy for MMLU\")\n",
    "\n",
    "plot_model_accuracy(model_stats2, \"Model Accuracy for Other\")\n",
    "\n",
    "#Comment Konrad: Maybe merge to one\n",
    "\n"
   ]
  },
  {
   "cell_type": "markdown",
   "id": "42dcfbe9",
   "metadata": {},
   "source": [
    "#C"
   ]
  },
  {
   "cell_type": "markdown",
   "id": "5587c824",
   "metadata": {},
   "source": [
    "### 2.2 (5 pt)\n",
    "\n",
    "Geronimo has assured you that both datasets contain questions of similar difficulty, so, what could be going on here?\n",
    "\n",
    "A. What is the distribution of correct answers (A, B, C, D) for each dataset? Create a bar chart to visualize this.\n",
    "\n",
    "B. Perform a chi-square test at $\\alpha = 0.05$, of independence to determine if there's a significant difference in the distribution of correct answers between the two datasets. What do you conclude?\n",
    "\n",
    "**hints**:\n",
    "- for (A), keep in mind that df_mmlu and df_other contain the results of all models, i.e., the `question_id` column is duplicated.\n",
    "- for (A), take care to clearly annotate the bar chart, e.g., title, y-label, legend.\n",
    "- for (B), clearly state the null hypothesis and alternative hypothesis\n",
    "- use the `chi2_contingency` function from `scipy.stats`\n",
    "- format your results from answer (A) as a 2D array"
   ]
  },
  {
   "cell_type": "code",
   "execution_count": 17,
   "id": "74904507",
   "metadata": {},
   "outputs": [
    {
     "name": "stdout",
     "output_type": "stream",
     "text": [
      "2D Array of correct answer counts (rows: MMLU, Other; columns: A, B, C, D):\n",
      "[[4259 2659 2409 2369]\n",
      " [1766  981  625  387]]\n"
     ]
    },
    {
     "data": {
      "image/png": "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",
      "text/plain": [
       "<Figure size 1000x600 with 1 Axes>"
      ]
     },
     "metadata": {},
     "output_type": "display_data"
    }
   ],
   "source": [
    "#A \n",
    "\n",
    "import seaborn as sns\n",
    "\n",
    "# Step 1: Remove duplicate questions (if each question_id should be counted only once)\n",
    "unique_mmlu = df_mmlu.drop_duplicates('question_id')\n",
    "unique_other = df_other.drop_duplicates('question_id')\n",
    "\n",
    "# Define the answer choices in order\n",
    "answer_choices = ['A', 'B', 'C', 'D']\n",
    "\n",
    "# Step 2: Count the occurrences of each answer for each dataset.\n",
    "# Using reindex ensures that all answer choices are present even if some have zero count.\n",
    "counts_mmlu = unique_mmlu['result'].value_counts().reindex(answer_choices, fill_value=0).sort_index()\n",
    "counts_other = unique_other['result'].value_counts().reindex(answer_choices, fill_value=0).sort_index()\n",
    "\n",
    "# Step 3: Format the counts as a 2D array.\n",
    "# Row 0 corresponds to MMLU and Row 1 corresponds to Other.\n",
    "result_array = np.array([counts_mmlu.values, counts_other.values])\n",
    "print(\"2D Array of correct answer counts (rows: MMLU, Other; columns: A, B, C, D):\")\n",
    "print(result_array)\n",
    "\n",
    "# Step 4: Prepare a DataFrame in long format for Seaborn plotting.\n",
    "data = {\n",
    "    'Answer': answer_choices * 2,  # Each dataset contributes the same set of answers\n",
    "    'Count': np.concatenate([counts_mmlu.values, counts_other.values]),\n",
    "    'Dataset': ['MMLU'] * len(answer_choices) + ['Other'] * len(answer_choices)\n",
    "}\n",
    "df_plot = pd.DataFrame(data)\n",
    "\n",
    "# Step 5: Create a side-by-side bar chart with Seaborn.\n",
    "plt.figure(figsize=(10, 6))\n",
    "custom_palette = {'MMLU': '#b5179e', 'Other': '#560bad'}\n",
    "sns.barplot(x='Answer', y='Count', hue='Dataset', data=df_plot, palette=custom_palette)\n",
    "\n",
    "plt.title('Distribution of Correct Answers by Dataset')\n",
    "plt.xlabel('Answer Choice')\n",
    "plt.ylabel('Count')\n",
    "plt.grid(axis='y', linestyle='--', alpha=0.7)\n",
    "plt.tight_layout()\n",
    "plt.show()\n"
   ]
  },
  {
   "cell_type": "code",
   "execution_count": 18,
   "id": "0c461f94",
   "metadata": {},
   "outputs": [
    {
     "name": "stdout",
     "output_type": "stream",
     "text": [
      "Chi-square Statistic: 276.2083160074473\n",
      "Degrees of Freedom: 3\n",
      "p-value: 1.400388644681e-59\n",
      "Reject the null hypothesis: There is a significant difference in the distribution of correct answers between the two datasets.\n"
     ]
    }
   ],
   "source": [
    "from scipy.stats import chi2_contingency\n",
    "\n",
    "# Perform the chi-square test of independence on the result_array.\n",
    "chi2, p_value, dof, expected = chi2_contingency(result_array)\n",
    "\n",
    "print(\"Chi-square Statistic:\", chi2)\n",
    "print(\"Degrees of Freedom:\", dof)\n",
    "print(\"p-value:\", p_value)\n",
    "\n",
    "# Interpretation at α = 0.05\n",
    "if p_value < 0.05:\n",
    "    print(\"Reject the null hypothesis: There is a significant difference in the distribution of correct answers between the two datasets.\")\n",
    "else:\n",
    "    print(\"Fail to reject the null hypothesis: There is no significant difference in the distribution of correct answers between the two datasets.\")\n"
   ]
  },
  {
   "cell_type": "markdown",
   "id": "c50f875f",
   "metadata": {},
   "source": [
    "### 2.3 (7 pt)\n",
    "\n",
    "Let's dive in deeper:\n",
    "\n",
    "A. What is language model X's mean accuracy conditioned on the four answer options for each dataset?\n",
    "\n",
    "B. Compare LM X's performance when the correct answer is \"A\" between the two datasets. Use a T-test with CI = 0.95. What do you conclude?\n",
    "\n",
    "C. Compare LM X's performance when the correct answer is \"A\" vs. \"C or D\" for each dataset. Use a T-test with CI = 0.95. What do you conclude?"
   ]
  },
  {
   "cell_type": "code",
   "execution_count": 19,
   "id": "f2b265e3",
   "metadata": {},
   "outputs": [
    {
     "name": "stdout",
     "output_type": "stream",
     "text": [
      "               MMLU Mean Accuracy  Other Mean Accuracy\n",
      "Answer Choice                                         \n",
      "A                        0.367927             0.594564\n",
      "B                        0.884543             0.917431\n",
      "C                        1.000000             1.000000\n",
      "D                        1.000000             1.000000\n"
     ]
    }
   ],
   "source": [
    "# Filter data for language model X\n",
    "df_mmlu_x = df_mmlu[df_mmlu['model_name'] == 'X']\n",
    "df_other_x = df_other[df_other['model_name'] == 'X']\n",
    "\n",
    "# Compute mean accuracy for each answer choice\n",
    "accuracy_mmlu = df_mmlu_x.groupby('result')['correct'].mean()\n",
    "accuracy_other = df_other_x.groupby('result')['correct'].mean()\n",
    "\n",
    "accuracy_df = pd.DataFrame({\n",
    "    \"MMLU Mean Accuracy\": accuracy_mmlu,\n",
    "    \"Other Mean Accuracy\": accuracy_other\n",
    "}).fillna(0)\n",
    "\n",
    "accuracy_df.index.name = \"Answer Choice\"\n",
    "accuracy_df = accuracy_df.sort_index()\n",
    "\n",
    "# Display the formatted results\n",
    "print(accuracy_df)"
    "\n",
    "#Comment possible false"
   ]
  },
  {
   "cell_type": "code",
   "execution_count": 20,
   "id": "1e31fdd8",
   "metadata": {},
   "outputs": [
    {
     "name": "stdout",
     "output_type": "stream",
     "text": [
      "=== Welch's T-test for Correct Answer 'A' ===\n",
      "T-statistic: -0.2116\n",
      "P-value:     0.8324\n",
      "Reject Null Hypothesis (alpha=0.05): False\n",
      "\n",
      "MMLU Data (Answer 'A'):\n",
      "  Mean Accuracy      : 0.9727\n",
      "  95% Confidence Int : (0.9647, 0.9806)\n",
      "\n",
      "Other Data (Answer 'A'):\n",
      "  Mean Accuracy      : 0.9740\n",
      "  95% Confidence Int : (0.9645, 0.9835)\n"
     ]
    }
   ],
   "source": [
    "from scipy.stats import ttest_ind\n",
    "\n",
    "# Filter data for cases where the correct answer is \"A\" in both datasets\n",
    "df_mmlu_x_A = df_mmlu_x[df_mmlu_x['answer'] == 'A']['correct']\n",
    "df_other_x_A = df_other_x[df_other_x['answer'] == 'A']['correct']\n",
    "\n",
    "# Perform Welch's t-test (independent t-test with unequal variances)\n",
    "t_stat, p_value = ttest_ind(df_mmlu_x_A, df_other_x_A, equal_var=False)\n",
    "\n",
    "# Compute means and standard deviations\n",
    "mean_mmlu_A = df_mmlu_x_A.mean()\n",
    "mean_other_A = df_other_x_A.mean()\n",
    "\n",
    "std_mmlu_A = df_mmlu_x_A.std()\n",
    "std_other_A = df_other_x_A.std()\n",
    "\n",
    "n_mmlu_A = len(df_mmlu_x_A)\n",
    "n_other_A = len(df_other_x_A)\n",
    "\n",
    "# Calculate 95% confidence intervals for each dataset\n",
    "ci_mmlu_A = (\n",
    "    mean_mmlu_A - 1.96 * (std_mmlu_A / (n_mmlu_A ** 0.5)),\n",
    "    mean_mmlu_A + 1.96 * (std_mmlu_A / (n_mmlu_A ** 0.5))\n",
    ")\n",
    "ci_other_A = (\n",
    "    mean_other_A - 1.96 * (std_other_A / (n_other_A ** 0.5)),\n",
    "    mean_other_A + 1.96 * (std_other_A / (n_other_A ** 0.5))\n",
    ")\n",
    "\n",
    "# Determine if we reject the null hypothesis at significance level alpha=0.05\n",
    "alpha = 0.05\n",
    "reject_null = p_value < alpha\n",
    "\n",
    "# Print results in a clear and formatted manner\n",
    "print(\"=== Welch's T-test for Correct Answer 'A' ===\")\n",
    "print(f\"T-statistic: {t_stat:.4f}\")\n",
    "print(f\"P-value:     {p_value:.4f}\")\n",
    "print(f\"Reject Null Hypothesis (alpha={alpha}): {reject_null}\\n\")\n",
    "\n",
    "print(\"MMLU Data (Answer 'A'):\")\n",
    "print(f\"  Mean Accuracy      : {mean_mmlu_A:.4f}\")\n",
    "print(f\"  95% Confidence Int : ({ci_mmlu_A[0]:.4f}, {ci_mmlu_A[1]:.4f})\\n\")\n",
    "\n",
    "print(\"Other Data (Answer 'A'):\")\n",
    "print(f\"  Mean Accuracy      : {mean_other_A:.4f}\")\n",
    "print(f\"  95% Confidence Int : ({ci_other_A[0]:.4f}, {ci_other_A[1]:.4f})\")"
   ]
  },
  {
   "cell_type": "code",
   "execution_count": 21,
   "id": "8f0ecae0",
   "metadata": {},
   "outputs": [
    {
     "name": "stdout",
     "output_type": "stream",
     "text": [
      "=== Welch's T-test: 'A' vs. 'C or D' ===\n",
      "\n",
      "MMLU Data:\n",
      "  T-statistic         : 44.0588\n",
      "  P-value             : 0.0000\n",
      "  Reject Null (alpha=0.05): True\n",
      "  Mean Accuracy (C or D): 0.6690\n",
      "  95% CI (C or D)     : (0.6581, 0.6799)\n",
      "\n",
      "Other Data:\n",
      "  T-statistic         : 25.1395\n",
      "  P-value             : 0.0000\n",
      "  Reject Null (alpha=0.05): True\n",
      "  Mean Accuracy (C or D): 0.6466\n",
      "  95% CI (C or D)     : (0.6230, 0.6703)\n"
     ]
    }
   ],
   "source": [
    "#C\n",
    "\n",
    "from scipy.stats import ttest_ind\n",
    "\n",
    "# Filter data for cases where the correct answer is \"A\" and \"C or D\" in both datasets\n",
    "df_mmlu_x_A = df_mmlu_x[df_mmlu_x['answer'] == 'A']['correct']\n",
    "df_mmlu_x_C_D = df_mmlu_x[df_mmlu_x['answer'].isin(['C', 'D'])]['correct']\n",
    "\n",
    "df_other_x_A = df_other_x[df_other_x['answer'] == 'A']['correct']\n",
    "df_other_x_C_D = df_other_x[df_other_x['answer'].isin(['C', 'D'])]['correct']\n",
    "\n",
    "# Perform Welch's t-tests for each dataset (comparing answer \"A\" vs. \"C or D\")\n",
    "t_stat_mmlu, p_value_mmlu = ttest_ind(df_mmlu_x_A, df_mmlu_x_C_D, equal_var=False)\n",
    "t_stat_other, p_value_other = ttest_ind(df_other_x_A, df_other_x_C_D, equal_var=False)\n",
    "\n",
    "# Set significance level and determine rejection of the null hypothesis\n",
    "alpha = 0.05\n",
    "reject_mmlu = p_value_mmlu < alpha\n",
    "reject_other = p_value_other < alpha\n",
    "\n",
    "# Compute mean and 95% confidence intervals for the \"C or D\" group within each dataset\n",
    "\n",
    "# MMLU dataset\n",
    "mean_mmlu_C_D = df_mmlu_x_C_D.mean()\n",
    "std_mmlu_C_D = df_mmlu_x_C_D.std()\n",
    "n_mmlu_C_D = len(df_mmlu_x_C_D)\n",
    "ci_mmlu_C_D = (\n",
    "    mean_mmlu_C_D - 1.96 * (std_mmlu_C_D / (n_mmlu_C_D ** 0.5)),\n",
    "    mean_mmlu_C_D + 1.96 * (std_mmlu_C_D / (n_mmlu_C_D ** 0.5))\n",
    ")\n",
    "\n",
    "# Other dataset\n",
    "mean_other_C_D = df_other_x_C_D.mean()\n",
    "std_other_C_D = df_other_x_C_D.std()\n",
    "n_other_C_D = len(df_other_x_C_D)\n",
    "ci_other_C_D = (\n",
    "    mean_other_C_D - 1.96 * (std_other_C_D / (n_other_C_D ** 0.5)),\n",
    "    mean_other_C_D + 1.96 * (std_other_C_D / (n_other_C_D ** 0.5))\n",
    ")\n",
    "\n",
    "# Print results in a clear and formatted manner\n",
    "print(\"=== Welch's T-test: 'A' vs. 'C or D' ===\\n\")\n",
    "\n",
    "print(\"MMLU Data:\")\n",
    "print(f\"  T-statistic         : {t_stat_mmlu:.4f}\")\n",
    "print(f\"  P-value             : {p_value_mmlu:.4f}\")\n",
    "print(f\"  Reject Null (alpha={alpha}): {reject_mmlu}\")\n",
    "print(f\"  Mean Accuracy (C or D): {mean_mmlu_C_D:.4f}\")\n",
    "print(f\"  95% CI (C or D)     : ({ci_mmlu_C_D[0]:.4f}, {ci_mmlu_C_D[1]:.4f})\\n\")\n",
    "\n",
    "print(\"Other Data:\")\n",
    "print(f\"  T-statistic         : {t_stat_other:.4f}\")\n",
    "print(f\"  P-value             : {p_value_other:.4f}\")\n",
    "print(f\"  Reject Null (alpha={alpha}): {reject_other}\")\n",
    "print(f\"  Mean Accuracy (C or D): {mean_other_C_D:.4f}\")\n",
    "print(f\"  95% CI (C or D)     : ({ci_other_C_D[0]:.4f}, {ci_other_C_D[1]:.4f})\")"
   ]
  },
  {
   "cell_type": "markdown",
   "id": "2e1d7754",
   "metadata": {},
   "source": [
    "### 2.4 (2 pt)\n",
    "\n",
    "What an intriguing finding! \n",
    "\n",
    "A. Print the mean accuracies conditioned on the correct answer for all LMs for each dataset.\n",
    "\n",
    "B. /Discuss:/ What do you observe?"
   ]
  },
  {
   "cell_type": "code",
   "execution_count": 22,
   "id": "77801937",
   "metadata": {},
   "outputs": [
    {
     "name": "stdout",
     "output_type": "stream",
     "text": [
      "MMLU Dataset:\n",
      "answer             A         B         C         D\n",
      "model_name                                        \n",
      "X           0.972688  0.799185  0.707905  0.633592\n",
      "Y           0.623836  0.688073  0.733470  0.904252\n",
      "Z           0.643079  0.641182  0.669115  0.661139\n",
      "\n",
      "Other Dataset:\n",
      "answer             A         B         C         D\n",
      "model_name                                        \n",
      "X           0.974026  0.806452  0.676407  0.603744\n",
      "Y           0.625232  0.663978  0.762987  0.920437\n",
      "Z           0.680891  0.667563  0.662338  0.677067\n"
     ]
    }
   ],
   "source": [
    "#A\n",
    "\n",
    "# Compute mean accuracy for all models conditioned on each answer choice\n",
    "accuracy_mmlu_all = df_mmlu.groupby(['model_name', 'answer'])['correct'].mean().unstack()\n",
    "accuracy_other_all = df_other.groupby(['model_name', 'answer'])['correct'].mean().unstack()\n",
    "\n",
    "# Display the results\n",
    "print(\"MMLU Dataset:\")\n",
    "print(accuracy_mmlu_all)\n",
    "print(\"\\nOther Dataset:\")\n",
    "print(accuracy_other_all)\n",
    "\n",
    "\n"
   ]
  },
  {
   "cell_type": "markdown",
   "id": "e812af06",
   "metadata": {},
   "source": [
    "B. /Discuss:/"
   ]
  },
  {
   "cell_type": "markdown",
   "id": "31947726",
   "metadata": {},
   "source": [
    "### 2.5 (2 pt)\n",
    "\n",
    "Concerned with your findings so far, you quickly consult with Geronimo. After thinking it over, Geronimo concludes that more tests are needed. He orders a second round of MMLU results. However, Geronimo thinks of the following twist: while keeping questions fixed, he randomly permutes the position of the correct answer. The new results can be found in the folder `data/task_2_5/`:\n",
    "```\n",
    "task_2_5/\n",
    "│\n",
    "└── lm_scores_mmlu_shuffle.csv\n",
    "```\n",
    "\n",
    "/Discuss:/ Why would Geronimo do this?"
   ]
  },
  {
   "cell_type": "markdown",
   "id": "ca1ffc90",
   "metadata": {},
   "source": [
    "B. /Discuss:/"
   ]
  },
  {
   "cell_type": "markdown",
   "id": "bb158adf",
   "metadata": {},
   "source": [
    "### 2.6 (4 pt)\n",
    "\n",
    "Increasingly sceptical of the language models' performance, you read up on proper testing practices. You stumble upon the concept of [test-rested stability](https://en.wikipedia.org/wiki/Repeatability), which roughtly states that:\n",
    "\n",
    "\"_Measurements taken by a single person or instrument on the same item, under the same conditions, and in a short period of time, should have the same results._\"\n",
    "\n",
    "In our case, we would assume an LM would have the same performance on a given question regardless of the correct answer position. One way of testing this is by using the following metric:\n",
    "\n",
    "$$\\text{test-retest metric} = \\frac{1}{N}\\sum_{i=1}^N \\frac{1}{M}\\sum_{j=1}^M c^i_0 c_j^i,$$\n",
    "\n",
    "where $c^i_0 \\in \\{0, 1\\}$ indicates whether the model answers the $i^{\\text{th}}$ question correctly (1 if correct, 0 if incorrect). $c_j^i$ indicates whether the model answers the $i^{\\text{th}}$ question correctly in the $j^{\\text{th}}$ shuffled version of the answer label content. Finally, $M$ is the total number of shuffles and $N$ is the dataset size.\n",
    "\n",
    "Task: compute the test-retest metric for each language model using the original `lm_scores_mmlu.csv` file and the new `lm_scores_mmlu_shuffle.csv` file. Using a bar plot, visualize your results by comparing the accuracy of the original `lm_scores_mmlu.csv` and the test-retest scores.\n",
    "\n",
    "**hints**\n",
    "- what is $M$ in our case?\n",
    "\n",
    "(bonus: no points, but so much sweet, sweet knowledge - check out [the following article](https://arxiv.org/pdf/2406.19470v1))"
   ]
  },
  {
   "cell_type": "code",
   "execution_count": 23,
   "id": "46ce6153",
   "metadata": {},
   "outputs": [
    {
     "name": "stdout",
     "output_type": "stream",
     "text": [
      "Model: X, N: 11696, M: 1.0\n",
      "Model: Y, N: 11696, M: 1.0\n",
      "Model: Z, N: 11696, M: 1.0\n",
      "  Model  Original Accuracy  Test-Retest Score\n",
      "0     X           0.743588           0.588406\n",
      "1     Y           0.761542           0.571648\n",
      "2     Z           0.655951           0.441604\n"
     ]
    },
    {
     "data": {
      "text/plain": [
       "<Figure size 1000x500 with 0 Axes>"
      ]
     },
     "metadata": {},
     "output_type": "display_data"
    },
    {
     "data": {
      "image/png": "iVBORw0KGgoAAAANSUhEUgAAA90AAAHqCAYAAAAZLi26AAAAOXRFWHRTb2Z0d2FyZQBNYXRwbG90bGliIHZlcnNpb24zLjkuMCwgaHR0cHM6Ly9tYXRwbG90bGliLm9yZy80BEi2AAAACXBIWXMAAA9hAAAPYQGoP6dpAACFDUlEQVR4nOzdd3hUdfbH8c+dSaUkoaQACQQCEpCmNOmoIKKooCK2haAiotgQXdldKYKCiogFRFGKiIIgIguCYhBRYEU6KJ3QpCWU0FNm7u8PfrnJkAlkYoZJ4P16Hh7NmVvOmZn7Tc6thmmapgAAAAAAQKGz+ToBAAAAAACuVDTdAAAAAAB4CU03AAAAAABeQtMNAAAAAICX0HQDAAAAAOAlNN0AAAAAAHgJTTcAAAAAAF5C0w0AAAAAgJfQdAMAAAAA4CU03QCuCoZhaPDgwb5O42+bMmWK4uPj5e/vr7CwsMu23oSEBMXGxhZo3sGDB8swjMJN6AKLFy+WYRhavHixV9eDy6tt27Zq27atr9MArip/Z7uLjY1VQkJCoeYDXAlouoGrxI4dO9S7d29Vq1ZNQUFBCgkJUYsWLfTuu+/q7Nmzvk4P+bB582YlJCQoLi5O48eP18cff3zJeZYuXaouXbooMjJSgYGBio2NVe/evbVnz57LkHHRNnbsWBmGoaZNm/o6FRRQ1g6dS/0rrMb9u+++82jn3a5du1zysNlsKlu2rDp27Kjly5cXKIczZ85o8ODBXt/B5GmtTqdTn332mZo2baqyZcuqdOnSuuaaa9S9e3f973//816iV6ic351hw4a5neahhx6SYRgqVarUZc4OgKf8fJ0AAO+bN2+eunbtqsDAQHXv3l116tRRenq6fv31V7344ov6448/8tXAFWdnz56Vn1/xHvIWL14sp9Opd999V9WrV7/k9O+//76effZZVatWTU8//bQqVKigTZs26ZNPPtH06dP13XffqXnz5vla9/jx4+V0OguU93/+8x+9/PLLBZrXm6ZOnarY2FitWLFC27dvz9d7iqLl7rvvdvncTp06pT59+qhLly66++67rXhkZGShrO+7777TmDFjPD5r5oEHHtBtt90mh8OhrVu3auzYsbrxxhv1+++/q27duh4t68yZMxoyZIgkefUsAE9rfeaZZzRmzBjdddddeuihh+Tn56ctW7Zo/vz5qlatmm644Qav5XolCwoK0pdffqn//Oc/LvHTp0/r22+/VVBQkI8yA+CJ4v0XKIBLSkpK0v33368qVapo0aJFqlChgvXaU089pe3bt2vevHk+zNB7nE6n0tPTFRQUdEX8YXL48GFJytdp5UuXLtVzzz2nli1basGCBSpRooT1Wp8+fdSiRQvde++9+uOPP1SmTJk8l3P69GmVLFlS/v7+Bc7bz8+vyO3wSEpK0rJlyzRr1iz17t1bU6dO1aBBg3ydlltZnwFyq1evnurVq2f9nJKSoj59+qhevXp6+OGHfZiZq+uvv94ln1atWqljx4768MMPNXbsWB9mVjgOHTqksWPHqlevXrl24I4ePVrJycmXLZfMzEw5nU4FBARctnUWVH627dtuu02zZs3SunXrVL9+fSv+7bffKj09XbfeeqsWLVrk7VQB/E2cXg5c4d58802dOnVKn376qUvDnaV69ep69tlnrZ8zMzM1dOhQxcXFWacj/+tf/1JaWprLfLGxserUqZMWL16sRo0aKTg4WHXr1rVOeZw1a5bq1q2roKAgNWzYUGvWrHGZPyEhQaVKldLOnTvVoUMHlSxZUhUrVtSrr74q0zRdph05cqSaN2+ucuXKKTg4WA0bNtTMmTNz1WIYhvr27aupU6fq2muvVWBgoBYsWGC9lvOIzcmTJ/Xcc88pNjZWgYGBioiIUPv27bV69WqXZc6YMUMNGzZUcHCwypcvr4cfflh//fWX21r++usvde7cWaVKlVJ4eLj69+8vh8ORxyfjauzYsVbOFStW1FNPPaXjx4+7vN9ZTWF4ePglr1EfOnSoDMPQ5MmTXRpuSYqLi9Obb76pAwcO6KOPPspVx44dO3TbbbepdOnSeuihh6zXLrym+8iRI/rHP/6hkJAQhYWFqUePHlq3bp0Mw9CkSZOs6dxd0531Wc2ePVt16tRRYGCgrr32WuvzyrJ79249+eSTqlmzpoKDg1WuXDl17dpVu3btusQ7enFTp05VmTJldPvtt+vee+/V1KlT3U53/PhxPf/889b3JDo6Wt27d1dKSoo1zblz5zR48GBdc801CgoKUoUKFXT33Xdrx44dkvK+3jzr9NGc79XFPoNffvlFXbt2VeXKlRUYGKiYmBg9//zzbi8P2bx5s+677z6Fh4crODhYNWvW1L///W9J0k8//STDMPTNN9/kmu+LL76QYRgXPfX56NGj6t+/v+rWratSpUopJCREHTt21Lp161ymy6r7q6++0muvvabo6GgFBQXp5ptv1vbt23Mt9+OPP1ZcXJyCg4PVpEkT/fLLL3nm4KnNmzfr3nvvVdmyZRUUFKRGjRppzpw5LtNkZGRoyJAhqlGjhoKCglSuXDm1bNlSCxculHT+sxkzZowkuZwyXhCtWrWSJOs7kuX48eN67rnnFBMTo8DAQFWvXl1vvPGGdZbJrl27FB4eLkkaMmSIlUPOscAXtSYlJck0TbVo0SLXa4ZhKCIiIledl9quDh8+rEcffVSRkZEKCgpS/fr1NXnyZJflZG1DI0eO1OjRo63fW3/++We+3wt3ci73nXfeUZUqVRQcHKw2bdpo48aNuabPz3omTZokwzD0888/68knn1RERISio6MvmUuzZs1UtWpVffHFFy7xqVOn6tZbb1XZsmXdznep3ylZ8rvdpaWladCgQapevbo1/rz00ku5/jYA4F7ROvQAoND997//VbVq1fJ9GvFjjz2myZMn695779ULL7yg3377TcOHD9emTZty/ZG+fft2Pfjgg+rdu7cefvhhjRw5UnfccYfGjRunf/3rX3ryySclScOHD9d9992nLVu2yGbL3tfncDh066236oYbbtCbb76pBQsWaNCgQcrMzNSrr75qTffuu+/qzjvv1EMPPaT09HRNmzZNXbt21dy5c3X77be75LRo0SJ99dVX6tu3r8qXL5/nzb+eeOIJzZw5U3379lXt2rV15MgR/frrr9q0aZOuv/56Sef/SOrZs6caN26s4cOH69ChQ3r33Xe1dOlSrVmzxuWIs8PhUIcOHdS0aVONHDlSP/74o95++23FxcWpT58+F33PBw8erCFDhqhdu3bq06ePtmzZog8//FC///67li5dKn9/f40ePVqfffaZvvnmG3344YcqVaqUyxG+nM6cOaPExES1atVKVatWdTtNt27d9Pjjj2vu3Lkup35nZmaqQ4cOatmypUaOHJmrYc/idDp1xx13aMWKFerTp4/i4+P17bffqkePHhetNadff/1Vs2bN0pNPPqnSpUvrvffe0z333KM9e/aoXLlykqTff/9dy5Yt0/3336/o6Gjt2rVLH374odq2bas///wzz/wuZerUqbr77rsVEBCgBx54wHq/GzdubE1z6tQptWrVSps2bdIjjzyi66+/XikpKZozZ4727dun8uXLy+FwqFOnTkpMTNT999+vZ599VidPntTChQu1ceNGxcXFeZxbXp/BjBkzdObMGfXp00flypXTihUr9P7772vfvn2aMWOGNf/69evVqlUr+fv76/HHH1dsbKx27Nih//73v3rttdfUtm1bxcTEaOrUqerSpUuu9yUuLk7NmjXLM7+dO3dq9uzZ6tq1q6pWrapDhw7po48+Ups2bfTnn3+qYsWKLtOPGDFCNptN/fv3V2pqqt5880099NBD+u2336xpPv30U/Xu3VvNmzfXc889p507d+rOO+9U2bJlFRMT4/F7mNMff/yhFi1aqFKlSnr55ZdVsmRJffXVV+rcubO+/vpr6z0YPHiwhg8frscee0xNmjTRiRMntHLlSq1evVrt27dX7969tX//fi1cuFBTpkz5Wzll7TTKeZbJmTNn1KZNG/3111/q3bu3KleurGXLlmnAgAE6cOCARo8erfDwcH344Ye5TqHPGgt8VWuVKlUknf+Odu3a9aLbZX62q7Nnz6pt27bavn27+vbtq6pVq2rGjBlKSEjQ8ePHXXYUS9LEiRN17tw5Pf744woMDFTZsmXz/V5czGeffaaTJ0/qqaee0rlz5/Tuu+/qpptu0oYNG6xLFjxdz5NPPqnw8HANHDhQp0+fvmQO0vnLEz7//HONGDFChmEoJSVFP/zwg6ZMmZJrR6WUv98pUv63O6fTqTvvvFO//vqrHn/8cdWqVUsbNmzQO++8o61bt2r27Nn5qgO4qpkArlipqammJPOuu+7K1/Rr1641JZmPPfaYS7x///6mJHPRokVWrEqVKqYkc9myZVbs+++/NyWZwcHB5u7du634Rx99ZEoyf/rpJyvWo0cPU5L59NNPWzGn02nefvvtZkBAgJmcnGzFz5w545JPenq6WadOHfOmm25yiUsybTab+ccff+SqTZI5aNAg6+fQ0FDzqaeeyvO9SE9PNyMiIsw6deqYZ8+eteJz5841JZkDBw7MVcurr77qsozrrrvObNiwYZ7rME3TPHz4sBkQEGDecsstpsPhsOIffPCBKcmcMGGCFRs0aJApyeW9cSfrc3z22WcvOl29evXMsmXL5qrj5ZdfzjVtjx49zCpVqlg/f/3116Ykc/To0VbM4XCYN910kynJnDhxYq68c5JkBgQEmNu3b7di69atMyWZ77//vhW78LM3TdNcvny5Kcn87LPPrNhPP/2U6zuWl5UrV5qSzIULF5qmef57Fx0dnev9GjhwoCnJnDVrVq5lOJ1O0zRNc8KECaYkc9SoUXlOk1duSUlJud6ri30G7t6L4cOHm4ZhuGxvrVu3NkuXLu0Sy5mPaZrmgAEDzMDAQPP48eNW7PDhw6afn5/LduLOuXPnXL6rWbUEBga6bANZddeqVctMS0uz4u+++64pydywYYNpmtnbWoMGDVym+/jjj01JZps2bS6aT07Jycm5tvWbb77ZrFu3rnnu3Dkr5nQ6zebNm5s1atSwYvXr1zdvv/32iy7/qaeeyvVdvpisz3jIkCFmcnKyefDgQfOXX34xGzdubEoyZ8yYYU07dOhQs2TJkubWrVtdlvHyyy+bdrvd3LNnT541FoVau3fvbkoyy5QpY3bp0sUcOXKkuWnTplzT5We7Gj16tCnJ/Pzzz63X0tPTzWbNmpmlSpUyT5w4YZpm9vsbEhJiHj582GVZ+X0v3MlabnBwsLlv3z4r/ttvv5mSzOeff97j9UycONGUZLZs2dLMzMy86Ppz5vDWW2+ZGzduNCWZv/zyi2mapjlmzBizVKlS5unTp80ePXqYJUuWtObL7+8UT7a7KVOmmDabzVp/lnHjxpmSzKVLl1qxKlWqmD169LhkfcDVhtPLgSvYiRMnJEmlS5fO1/TfffedJKlfv34u8RdeeEGScl37Xbt2bZcjYll3gb7ppptUuXLlXPGdO3fmWmffvn2t/8865Tg9PV0//vijFQ8ODrb+/9ixY0pNTVWrVq1ynQouSW3atFHt2rUvUen566J/++037d+/3+3rK1eu1OHDh/Xkk0+6XA9+++23Kz4+3u118E888YTLz61atXJbc04//vij0tPT9dxzz7mcBdCrVy+FhIQU6Hr7kydPSrr05166dGnrO5LTpY7MS9KCBQvk7++vXr16WTGbzaannnoq33m2a9fO5UhwvXr1FBIS4vKe5fzsMzIydOTIEVWvXl1hYWFuP//8mDp1qiIjI3XjjTdKOv+969atm6ZNm+ZyOcDXX3+t+vXruz0ilnWq7ddff63y5cvr6aefznOagnD3GeR8L06fPq2UlBQ1b95cpmlal28kJydryZIleuSRR1y2wQvz6d69u9LS0lwu05g+fboyMzMveS10YGCg9V11OBw6cuSISpUqpZo1a7r9THr27OlyfW3WqdVZn3PWtvbEE0+4TJeQkKDQ0NCL5nIpR48e1aJFi3Tffffp5MmTSklJUUpKio4cOaIOHTpo27Zt1uUiYWFh+uOPP7Rt27a/tU53Bg0apPDwcEVFRVlHed9++23de++91jQzZsxQq1atVKZMGSvPlJQUtWvXTg6HQ0uWLCnStU6cOFEffPCBqlatqm+++Ub9+/dXrVq1dPPNN7tckpOf7eq7775TVFSUHnjgAes1f39/PfPMMzp16pR+/vlnl/nuuece67R7T9+Li+ncubMqVapk/dykSRM1bdrU+l1ZkPX06tVLdrv9kuvO6dprr1W9evX05ZdfSjp/Gchdd93l9oyC/P5O8WS7mzFjhmrVqqX4+HiX7+ZNN90k6fwlKwAujqYbuIKFhIRIym7CLmX37t2y2Wy57uIcFRWlsLAw7d692yV+4R/1Wb+oLzwdNCt+7Ngxl7jNZlO1atVcYtdcc40kuVyzO3fuXN1www0KCgpS2bJlrVMsU1NTc9WQ1+nUF3rzzTe1ceNGxcTEqEmTJho8eLBLs5dVa82aNXPNGx8fn+u9CAoKcvmjTzp/6uiFNV8or/UEBASoWrVqudaTH1nN9qU+95MnT+ZqzP38/PJ1neHu3btVoUKFXH/0eXIH8Au/P1Lu9+zs2bMaOHCgdY1r+fLlFR4eruPHj7v9/C/F4XBo2rRpuvHGG5WUlKTt27dr+/btatq0qQ4dOqTExERr2h07dqhOnToXXd6OHTtUs2bNQr1RXF6fwZ49e5SQkKCyZcta9w1o06aNJFnvRdZ3+FJ5x8fHq3Hjxi7Xsk+dOlU33HDDJT9Dp9Opd955RzVq1HD5TNavX+/2M7nwc846pTrrc876jteoUcNlOn9//1zjg6e2b98u0zT1yiuvKDw83OVf1j0Ssm5Q+Oqrr+r48eO65pprVLduXb344otav359vtaTnJysgwcPWv9OnTrl8vrjjz+uhQsX6r///a91Hf6F93vYtm2bFixYkCvPdu3aueTp61rzkrXTbdWqVUpJSdG3336rjh07atGiRbr//vut6fKzXe3evVs1atRwaRolqVatWtbrOV047nvyXlzMhd9J6fzvqKzfTwVZT35/R13owQcf1IwZM7R9+3YtW7ZMDz74oNvp8vs7xZPtbtu2bfrjjz9y1Zj1+zo/7yVwteOabuAKFhISoooVK7q98cvF5PcIXV576/OKmxfcIC0/fvnlF915551q3bq1xo4dqwoVKsjf318TJ07MdWMZyfVo4MXcd999atWqlb755hv98MMPeuutt/TGG29o1qxZ6tixo8d5enrkwpuqV68uPz+/i/4RnZaWpi1btqhRo0Yu8ZxHMb0tP9+Tp59+WhMnTtRzzz2nZs2aKTQ0VIZh6P777y/QI8wWLVqkAwcOaNq0aZo2bVqu16dOnapbbrnF4+VeTF7bU1432XP3GTgcDrVv315Hjx7VP//5T8XHx6tkyZL666+/lJCQUKD3onv37nr22We1b98+paWl6X//+58++OCDS873+uuv65VXXtEjjzyioUOHqmzZsrLZbHruuefc5lGY44GnsvLp37+/OnTo4HaarJ0MrVu31o4dO/Ttt9/qhx9+0CeffKJ33nlH48aN02OPPXbR9TRu3NilERw0aJDLzc1q1KhhNc+dOnWS3W7Xyy+/rBtvvNHaBp1Op9q3b6+XXnrJ7TqyGhxf15of5cqV05133qk777xTbdu21c8//6zdu3db134XtgvHfU/ei7+jIOvJ7++oCz3wwAMaMGCAevXqpXLlyhX6OHUxTqdTdevW1ahRo9y+/nfvuwBcDWi6gStcp06d9PHHH2v58uUXvTmSdP5mOE6nU9u2bbOOKEjnHwdz/PjxQv+Dyel0aufOnS5/TG7dulWSrBugff311woKCtL333+vwMBAa7qJEyf+7fVXqFBBTz75pJ588kkdPnxY119/vV577TV17NjRqnXLli3WKXRZtmzZUmjvRc715Dy6kJ6erqSkJOsPdU+ULFlSN954oxYtWpTnH7pfffWV0tLS1KlTpwLn/dNPP+nMmTMuR7vd3ZX675g5c6Z69Oiht99+24qdO3fO7V1482Pq1KmKiIiw7syc06xZs/TNN99o3LhxCg4OVlxc3CV3WMXFxem3335TRkZGno9Vyzqye2HOnpzFsGHDBm3dulWTJ09W9+7drXjW3aazZH2H8rOj7f7771e/fv305Zdf6uzZs/L391e3bt0uOd/MmTN144036tNPP3WJHz9+XOXLl89POS6yvp/btm1z2dYyMjKUlJTk8pgkT2W9H/7+/vnalsqWLauePXuqZ8+eOnXqlFq3bq3BgwdbjWheO1CmTp3qchf5Sx2h//e//63x48frP//5j3UjrLi4OJ06deqSeeaVw+Wq1VONGjXSzz//rAMHDqhKlSr52q6qVKmi9evXy+l0uuyA2rx5s/X6xXj6XuTF3en3W7dutX4/FdZ68qNy5cpq0aKFFi9erD59+uR5dk1+f6d4st3FxcVp3bp1uvnmmwvtewFcbTi9HLjCvfTSSypZsqQee+wxHTp0KNfrO3bs0Lvvvivp/PNApfPPVc0pa+/2hXcKLww5j6yZpqkPPvhA/v7+uvnmmyWdP0pmGIbLUcFdu3b9rbulOhyOXKfBRkREqGLFitbjTxo1aqSIiAiNGzfO5ZEo8+fP16ZNmwrtvWjXrp0CAgL03nvvuRz5+/TTT5Wamlrg9fznP/+RaZpKSEjI9UippKQkvfTSS6pQoYJ69+5doOV36NBBGRkZGj9+vBVzOp1um9m/w2635zoi+v777+f7UWw5nT17VrNmzVKnTp1077335vrXt29fnTx50nrUzz333KN169a5fbRWVk733HOPUlJS3B4hzpqmSpUqstvtua7J9eT5zFlHi3O+F6ZpWttulvDwcLVu3VoTJkzQnj173OaTpXz58urYsaM+//xz6/FD+Wma3X0mM2bMyNc1su40atRI4eHhGjdunNLT0634pEmTCrxzJUtERITatm2rjz76SAcOHMj1es7nRx85csTltVKlSql69eou23/WM5UvzKtFixZq166d9e9STXdYWJh69+6t77//XmvXrpV0/uyb5cuX6/vvv881/fHjx5WZmSlJ1k6uC3O4XLW6c/DgQesxXTmlp6crMTHR5bKl/GxXt912mw4ePKjp06dbr2VmZur9999XqVKlrMsq8uLJe3Exs2fPdvler1ixQr/99pt1NlRhrSe/hg0bpkGDBrm9h0SW/P5O8WS7u++++/TXX3+5jPdZzp49m++7sANXM450A1e4uLg4ffHFF+rWrZtq1aql7t27q06dOkpPT9eyZcusx7BIUv369dWjRw99/PHHOn78uNq0aaMVK1Zo8uTJ6ty5s3XjqcISFBSkBQsWqEePHmratKnmz5+vefPm6V//+pd1ffTtt9+uUaNG6dZbb9WDDz6ow4cPa8yYMapevXqBr0E8efKkoqOjde+996p+/foqVaqUfvzxR/3+++/WEVV/f3+98cYb6tmzp9q0aaMHHnjAemRYbGysnn/++UJ5D8LDwzVgwAANGTJEt956q+68805t2bJFY8eOVePGjS95U6u8tG7dWiNHjlS/fv1Ur149JSQkqEKFCtq8ebPGjx8vp9Op7777zuWRRZ7o3LmzmjRpohdeeEHbt29XfHy85syZo6NHj0oqvKNknTp10pQpUxQaGqratWtr+fLl+vHHH61Hinlizpw5OnnypO688063r99www0KDw/X1KlT1a1bN7344ouaOXOmunbtqkceeUQNGzbU0aNHNWfOHI0bN07169dX9+7d9dlnn6lfv35asWKFWrVqpdOnT+vHH3/Uk08+qbvuukuhoaHq2rWr3n//fRmGobi4OM2dO9ej6yDj4+MVFxen/v3766+//lJISIi+/vprt/cMeO+999SyZUtdf/31evzxx1W1alXt2rVL8+bNsxq8LN27d7du5jV06NB85dKpUye9+uqr6tmzp5o3b64NGzZo6tSpBb7+2t/fX8OGDVPv3r110003qVu3bkpKStLEiRP/9jXdkjRmzBi1bNlSdevWVa9evVStWjUdOnRIy5cv1759+6zni9euXVtt27ZVw4YNVbZsWa1cudJ6rGCWhg0bSpKeeeYZdejQQXa73eV6ZU88++yzGj16tEaMGKFp06bpxRdf1Jw5c9SpUyclJCSoYcOGOn36tDZs2KCZM2dq165dKl++vIKDg1W7dm1Nnz5d11xzjcqWLas6deqoTp06Pqt13759atKkiW666SbdfPPNioqK0uHDh/Xll19q3bp1eu6556wdOvnZrh5//HF99NFHSkhI0KpVqxQbG6uZM2dq6dKlGj16dL5uDprf9+JiqlevrpYtW6pPnz5KS0vT6NGjVa5cOZdLAApjPfnVpk2bS+5wyO/vFE+2u3/84x/66quv9MQTT+inn35SixYt5HA4tHnzZn311Vf6/vvvc12qBOACl/dm6QB8ZevWrWavXr3M2NhYMyAgwCxdurTZokUL8/3333d51ElGRoY5ZMgQs2rVqqa/v78ZExNjDhgwwGUa0zz/WBB3j5yRlOtRXDkffZIl6zEnO3bsMG+55RazRIkSZmRkpDlo0KBcjyP69NNPzRo1apiBgYFmfHy8OXHixDwfQ5XXY8CU4xE7aWlp5osvvmjWr1/fLF26tFmyZEmzfv365tixY3PNN336dPO6664zAwMDzbJly5oPPfSQyyNkctZyIXc55uWDDz4w4+PjTX9/fzMyMtLs06ePeezYMbfLu9Qjw3JasmSJedddd5nly5c3/f39zcqVK5u9evUyd+3alWvavOrIei3nI8NM8/yjix588EGzdOnSZmhoqJmQkGAuXbrUlGROmzYtV9455fVZXfi4mWPHjpk9e/Y0y5cvb5YqVcrs0KGDuXnz5lzT5eeRYXfccYcZFBRknj59Os9pEhISTH9/fzMlJcU0TdM8cuSI2bdvX7NSpUpmQECAGR0dbfbo0cN63TTPP8rr3//+t7XNREVFmffee6+5Y8cOl/fqnnvuMUuUKGGWKVPG7N27t/UYoAsfGZbXZ/Dnn3+a7dq1M0uVKmWWL1/e7NWrl/WYtZzLME3T3Lhxo9mlSxczLCzMDAoKMmvWrGm+8soruZaZlpZmlilTxgwNDXV5NN7FnDt3znzhhRfMChUqmMHBwWaLFi3M5cuXm23atHF5zFDWZ5LzsVim6f5RaaZpmmPHjjWrVq1qBgYGmo0aNTKXLFmSa5mXktfjtHbs2GF2797djIqKMv39/c1KlSqZnTp1MmfOnGlNM2zYMLNJkyZmWFiYGRwcbMbHx5uvvfaamZ6ebk2TmZlpPv3002Z4eLhpGMYlt293Y19OCQkJpt1utx6dd/LkSXPAgAFm9erVzYCAALN8+fJm8+bNzZEjR7rksWzZMrNhw4ZmQEBArnp9UeuJEyfMd9991+zQoYMZHR1t+vv7m6VLlzabNWtmjh8/3uVxdaaZv+3q0KFD1rYfEBBg1q1bN9d35lLvb37eC3dyLvftt982Y2JizMDAQLNVq1bmunXrCrSerEeG/f777xddd35ry5LXmJGf3ymmmf/tLj093XzjjTfMa6+91gwMDDTLlCljNmzY0BwyZIiZmppqTccjwwD3DNO8DHcyAYALJCQkaObMmbnu8ovibfbs2erSpYt+/fVXtWjRwtfp4BIyMzNVsWJF3XHHHbmu0QauVrt27VLVqlX11ltvqX///r5OB8AVgGu6AQAFcuG14g6HQ++//75CQkJ0/fXX+ygreGL27NlKTk52uTkbAAAoXFzTDQAokKefflpnz55Vs2bNlJaWplmzZmnZsmV6/fXXC/xYHFwev/32m9avX6+hQ4fquuuuu+R1ogAAoOBougEABXLTTTfp7bff1ty5c3Xu3DlVr15d77//vsvNmFA0ffjhh/r888/VoEEDTZo0ydfpAABwReOabgAAAAAAvIRrugEAAAAA8BKabgAAAAAAvOSqu6bb6XRq//79Kl26tAzD8HU6AAAAAIBiyDRNnTx5UhUrVpTNlvfx7Kuu6d6/f79iYmJ8nQYAAAAA4Aqwd+9eRUdH5/n6Vdd0ly5dWtL5NyYkJMTH2QAAAAAAiqMTJ04oJibG6jHzctU13VmnlIeEhNB0AwAAAAD+lktdtsyN1AAAAAAA8BKabgAAAAAAvISmGwAAAAAAL7nqrukGAAAA4HtOp1Pp6em+TgPIk7+/v+x2+99eDk03AAAAgMsqPT1dSUlJcjqdvk4FuKiwsDBFRUVd8mZpF0PTDQAAAOCyMU1TBw4ckN1uV0xMjGw2rnhF0WOaps6cOaPDhw9LkipUqFDgZdF0AwAAALhsMjMzdebMGVWsWFElSpTwdTpAnoKDgyVJhw8fVkRERIFPNWe3EgAAAIDLxuFwSJICAgJ8nAlwaVk7hjIyMgq8DJpuAAAAAJfd37lGFrhcCuN7StMNAAAAAICX0HQDAAAAwBXOMAzNnj3b12lclWi6AQAAAOAySEhIkGEYeuKJJ3K99tRTT8kwDCUkJORrWYsXL5ZhGDp+/Hi+pj9w4IA6duzoQbYoLDTdAAAAAHCZxMTEaNq0aTp79qwVO3funL744gtVrly50NeXnp4uSYqKilJgYGChLx+XRtMNAAAAAJfJ9ddfr5iYGM2aNcuKzZo1S5UrV9Z1111nxZxOp4YPH66qVasqODhY9evX18yZMyVJu3bt0o033ihJKlOmjMsR8rZt26pv37567rnnVL58eXXo0EFS7tPL9+3bpwceeEBly5ZVyZIl1ahRI/3222+SpHXr1unGG29U6dKlFRISooYNG2rlypXefFuuaDynGwAAAAAuo0ceeUQTJ07UQw89JEmaMGGCevbsqcWLF1vTDB8+XJ9//rnGjRunGjVqaMmSJXr44YcVHh6uli1b6uuvv9Y999yjLVu2KCQkxHqmtCRNnjxZffr00dKlS92u/9SpU2rTpo0qVaqkOXPmKCoqSqtXr5bT6ZQkPfTQQ7ruuuv04Ycfym63a+3atfL39/feG3KFo+kGAAAAgMvo4Ycf1oABA7R7925J0tKlSzVt2jSr6U5LS9Prr7+uH3/8Uc2aNZMkVatWTb/++qs++ugjtWnTRmXLlpUkRUREKCwszGX5NWrU0Jtvvpnn+r/44gslJyfr999/t5ZTvXp16/U9e/boxRdfVHx8vLU8FBxNNwDgqhD78jxfp1Ds7Bpxu69TAIArUnh4uG6//XZNmjRJpmnq9ttvV/ny5a3Xt2/frjNnzqh9+/Yu86Wnp7ucgp6Xhg0bXvT1tWvX6rrrrrMa7gv169dPjz32mKZMmaJ27dqpa9euiouLy0dlcIemGwAAAAAus0ceeUR9+/aVJI0ZM8bltVOnTkmS5s2bp0qVKrm8lp+boZUsWfKir+c8Fd2dwYMH68EHH9S8efM0f/58DRo0SNOmTVOXLl0uuW7kxo3UAAAAAOAyu/XWW5Wenq6MjAzrZmdZateurcDAQO3Zs0fVq1d3+RcTEyNJCggIkCQ5HA6P112vXj2tXbtWR48ezXOaa665Rs8//7x++OEH3X333Zo4caLH68F5NN0AAAAAcJnZ7XZt2rRJf/75p+x2u8trpUuXVv/+/fX8889r8uTJ2rFjh1avXq33339fkydPliRVqVJFhmFo7ty5Sk5Oto6O58cDDzygqKgode7cWUuXLtXOnTv19ddfa/ny5Tp79qz69u2rxYsXa/fu3Vq6dKl+//131apVq1Drv5rQdAMAAACAD4SEhCgkJMTta0OHDtUrr7yi4cOHq1atWrr11ls1b948Va1aVZJUqVIlDRkyRC+//LIiIyOtU9XzIyAgQD/88IMiIiJ02223qW7duhoxYoTsdrvsdruOHDmi7t2765prrtF9992njh07asiQIYVS89XIME3T9HUSl9OJEycUGhqq1NTUPL/gAIArDzdS8xw3UgPgDefOnVNSUpKqVq2qoKAgX6cDXNTFvq/57S050g0AAAAAgJfQdAMAAAAA4CU03QAAAAAAeAnP6Ua+cC2kZ7gOEgAAAIDEkW4AAAAAALyGphsAAAAAAC+h6QYAAAAAwEtougEAAAAA8BKabgAAAAAAvISmGwAAAAC8bNeuXTIMQ2vXrs33PJMmTVJYWJjP88DfwyPDAAAAAPjc5X5EbUEe8bp3714NGjRICxYsUEpKiipUqKDOnTtr4MCBKleu3EXnjYmJ0YEDB1S+fPl8r69bt2667bbbPM6zsHz55Zd6+OGH9cQTT2jMmDE+y6O440g3AAAAAFzCzp071ahRI23btk1ffvmltm/frnHjxikxMVHNmjXT0aNH85w3PT1ddrtdUVFR8vPL/3HP4OBgRUREFEb6BfLpp5/qpZde0pdffqlz5875LA/p/HtYXNF0AwAAAMAlPPXUUwoICNAPP/ygNm3aqHLlyurYsaN+/PFH/fXXX/r3v/9tTRsbG6uhQ4eqe/fuCgkJ0eOPP+72tO45c+aoRo0aCgoK0o033qjJkyfLMAwdP35cUu7TywcPHqwGDRpoypQpio2NVWhoqO6//36dPHnSmmbBggVq2bKlwsLCVK5cOXXq1Ek7duzwuN6kpCQtW7ZML7/8sq655hrNmjUr1zQTJkzQtddeq8DAQFWoUEF9+/a1Xjt+/Lh69+6tyMhIBQUFqU6dOpo7d65LHTmNHj1asbGx1s8JCQnq3LmzXnvtNVWsWFE1a9aUJE2ZMkWNGjVS6dKlFRUVpQcffFCHDx92WdYff/yhTp06KSQkRKVLl1arVq20Y8cOLVmyRP7+/jp48KDL9M8995xatWrl8XuUXzTdAAAAAHARR48e1ffff68nn3xSwcHBLq9FRUXpoYce0vTp02WaphUfOXKk6tevrzVr1uiVV17JtcykpCTde++96ty5s9atW6fevXu7NO552bFjh2bPnq25c+dq7ty5+vnnnzVixAjr9dOnT6tfv35auXKlEhMTZbPZ1KVLFzmdTo9qnjhxom6//XaFhobq4Ycf1qeffury+ocffqinnnpKjz/+uDZs2KA5c+aoevXqkiSn06mOHTtq6dKl+vzzz/Xnn39qxIgRstvtHuWQmJioLVu2aOHChVbDnpGRoaFDh2rdunWaPXu2du3apYSEBGuev/76S61bt1ZgYKAWLVqkVatW6ZFHHlFmZqZat26tatWqacqUKdb0GRkZmjp1qh555BGPcvME13QDAAAAwEVs27ZNpmmqVq1abl+vVauWjh07puTkZOt08JtuukkvvPCCNc2uXbtc5vnoo49Us2ZNvfXWW5KkmjVrauPGjXrttdcumovT6dSkSZNUunRpSdI//vEPJSYmWvPdc889LtNPmDBB4eHh+vPPP1WnTp181Zu1jvfff1+SdP/99+uFF15QUlKSqlatKkkaNmyYXnjhBT377LPWfI0bN5Yk/fjjj1qxYoU2bdqka665RpJUrVq1fK07p5IlS+qTTz5RQECAFcvZHFerVk3vvfeeGjdurFOnTqlUqVIaM2aMQkNDNW3aNPn7+0uSlYMkPfroo5o4caJefPFFSdJ///tfnTt3Tvfdd5/H+eUXR7oBAAAAIB9yHsm+lEaNGl309S1btlhNapYmTZpccrmxsbFWwy1JFSpUcDm9etu2bXrggQdUrVo1hYSEWKds79mzJ9+5L1y4UKdPn7Zu4la+fHm1b99eEyZMkCQdPnxY+/fv18033+x2/rVr1yo6Otql2S2IunXrujTckrRq1Srdcccdqly5skqXLq02bdpIyq5v7dq1atWqldVwXyghIUHbt2/X//73P0nnT+G/7777VLJkyb+V68XQdAMAAADARVSvXl2GYWjTpk1uX9+0aZPKlCmj8PBwK+atJu7CZtIwDJdTx++44w4dPXpU48eP12+//abffvtNkmc3Ivv000919OhRBQcHy8/PT35+fvruu+80efJkOZ3OXKfYX+hSr9tstlw7MDIyMnJNd+F7ePr0aXXo0EEhISGaOnWqfv/9d33zzTeSsuu71LojIiJ0xx13aOLEiTp06JDmz5/v1VPLJZpuAAAAALiocuXKqX379ho7dqzOnj3r8trBgwc1depUdevWTYZh5HuZNWvW1MqVK11iv//++9/K88iRI9qyZYv+85//6Oabb7ZOe/d0Gd9++62mTZumtWvXWv/WrFmjY8eO6YcfflDp0qUVGxurxMREt8uoV6+e9u3bp61bt7p9PTw8XAcPHnRpvPPz3PDNmzfryJEjGjFihFq1aqX4+PhcN1GrV6+efvnlF7dNfJbHHntM06dP18cff6y4uDi1aNHikuv+O2i6AQAAAOASPvjgA6WlpalDhw5asmSJ9u7dqwULFqh9+/aqVKnSJa/FvlDv3r21efNm/fOf/9TWrVv11VdfadKkSZLkUfOeU5kyZVSuXDl9/PHH2r59uxYtWqR+/fp5tIwpU6aoXLlyuu+++1SnTh3rX/369XXbbbdZN1QbPHiw3n77bb333nvatm2bVq9ebV0D3qZNG7Vu3Vr33HOPFi5cqKSkJM2fP18LFiyQJLVt21bJycl68803tWPHDo0ZM0bz58+/ZG6VK1dWQECA3n//fe3cuVNz5szR0KFDXabp27evTpw4ofvvv18rV67Utm3bNGXKFG3ZssWaJuto+bBhw9SzZ0+P3p+CoOkGAAAAgEuoUaOGVq5cqWrVqum+++5TXFycHn/8cd14441avny5ypYt69HyqlatqpkzZ2rWrFmqV6+ePvzwQ+vu5YGBgQXK0Wazadq0aVq1apXq1Kmj559/3rpRW35NmDBBXbp0cdv433PPPZozZ45SUlLUo0cPjR49WmPHjtW1116rTp06adu2bda0X3/9tRo3bqwHHnhAtWvX1ksvvSSHwyHp/I3nxo4dqzFjxqh+/fpasWKF+vfvf8ncwsPDNWnSJM2YMUO1a9fWiBEjNHLkSJdpypUrp0WLFunUqVNq06aNGjZsqPHjx7uclm+z2ZSQkCCHw6Hu3bt79P4UhGF6cjeAK8CJEycUGhqq1NRUhYSE+DqdYiP25Xm+TqFY2TXidl+nAOACjGOeYywD4A3nzp2z7oIdFBTk63SKlNdee03jxo3T3r17fZ3KFe/RRx9VcnKy5syZc9HpLvZ9zW9vWSSOdI8ZM0axsbEKCgpS06ZNtWLFijynbdu2rQzDyPXv9tv5wwAAAABA8TF27Fj9/vvv2rlzp6ZMmaK33npLPXr08HVaV7TU1FT9+uuv+uKLL/T0009flnX6/Dnd06dPV79+/TRu3Dg1bdpUo0ePVocOHbRlyxbrGXc5zZo1y+XOe0eOHFH9+vXVtWvXy5k2AAAAAPwt27Zt07Bhw3T06FFVrlxZL7zwggYMGODrtK5od911l1asWKEnnnhC7du3vyzr9HnTPWrUKPXq1cu6gH3cuHGaN2+eJkyYoJdffjnX9BdeKzFt2jSVKFGCphsAAABAsfLOO+/onXfe8XUaV5XFixdf9nX6tOlOT0/XqlWrXPbm2Gw2tWvXTsuXL8/XMj799FPdf//9eT4HLy0tTWlpadbPJ06ckCRlZmYqMzPTWqfNZpPT6XR5xl1W3OFwuNzOPq+43W6XYRjWcnPGJVk3DrhU3M/PT6ZpusQNw5Ddbs+VY17xwq7J3+Z66X+mUzIl+V9wgUKGUzIk+eWKGzJkusRNU8o0Ddlkyu4ubpiy57h/g9OUHKYhu2HKliPuMCWnacjPMJXzfg8Op+RU7vj53L1bk68+pyvxu0dN1FRYNRWlMaK4jHsXfq5896iJmqipMGrKzMy01u/u9lKGYXg17glv50JNRb+mrJ8dDofLNmKz5f9KbZ823SkpKXI4HIqMjHSJR0ZGavPmzZecf8WKFdq4caN123p3hg8friFDhuSKr1mzxmrUw8PDFRcXp6SkJCUnJ1vTREdHKzo6Wlu3blVqaqoVr1atmiIiIrRx40aX5/TFx8crLCxMa9ascRls6tWrp4CAgFzP4WvUqJHS09O1fv16K2a329W4cWOlpqa6vAfBwcGqX7++UlJStHPnTiseGhqqWrVqaf/+/dq3b58VL+yaHopzuvxRNjPJplOZUkKN7AFekiZts6mUn3Rv1ex4hlOatM2uSiWljtHZ8ePp0owku2qEmmodlf3l3ndGmr/XruvKmbq+XHZ8S6qhJQcNtYg0VTM0O776iKFVKYbaRzsVXSI7lyUHDW1JNdQl1qmwgOz4/H027Tstr9bkq8/pSvzuURM1FVZNRWmMKC7jXs7Pj+8eNVETNRVmTSVKnB+8MjIyXC4d9fPzU1BQkNLS0lwanICAAAUEBOjcuXMuOQYGBsrf319nz5512fEQFBQkPz8/nTlzxqWJCg4Ols1m0+nTp11qKlmypJxOp8v7YhiGSpYsKYfDoXPnzllxm82mEiVKKDMz0+Xgnt1uV3BwMDVdYTVl5btr1y6dPHnSilerVi3fNwL06d3L9+/fr0qVKmnZsmVq1qyZFX/ppZf0888/67fffrvo/L1799by5ctdNvgLuTvSHRMToyNHjlh3mCuuewkvFi/smmr8a65LjlfjER9Patr5escreg81NVFTcayp+oC5RWaMKC7j3rZht7rE+e5REzVRU2HUdO7cOe3Zs0fVqlVz+2isq+UIamHGPVHUci/qNZ07d067du1S5cqVXb6vNptNp06dytfdy316pLt8+fKy2+06dOiQS/zQoUOKioq66LynT5/WtGnT9Oqrr150usDAQLcbs5+fn/z8XMvPGogulDWw5Dd+4XILEjcMw208rxw9jXtaU4Yz93P6zsdzx8w844bbuFOGnO7ipiGnm+3PYRpyuIlnmsb5lecz7s2afPU5XYnfPWqipsKqqSiNEcVl3OO7R03URE2exvNTk5+fn4z/3zOY9V93y/Fm3BO+ypGaPOOtXLJ+ttvteW4Ll+LTR4YFBASoYcOGSkxMtGJOp1OJiYkuR77dmTFjhtLS0vTwww97O00AAAAAAArE53cv79evn3r06KFGjRqpSZMmGj16tE6fPm3dzbx79+6qVKmShg8f7jLfp59+qs6dO6tcuXK+SBsAAAAAgEvyedPdrVs3JScna+DAgTp48KAaNGigBQsWWDdX27NnT67TZbZs2aJff/1VP/zwgy9SBgAAAAAgX3zedEtS37591bdvX7evLXbzHLWaNWv+7YvtAQAAABQhg0Mv8/pSLz3N/7vUNceDBg3S4MGDC5SGYRj65ptv1Llz54tON3jwYOupTDabTRUrVlTHjh01YsQIlS1bNl/r2rVrl6pWrao1a9aoQYMGBcrXnfzW8PPPP2vIkCFau3atzp07p0qVKql58+YaP368AgICLjpvcVYkmm4AAAAAKKoOHDhg/f/06dM1cOBAbdmyxYqVKlXqsuRx7bXX6scff5TD4dCmTZv0yCOPKDU1VdOnT78s6/87/vzzT9166616+umn9d577yk4OFjbtm3T119/netO+IUl6276Bb0BWmHx6Y3UAAAAAKCoi4qKsv6FhobKMAyX2LRp01SrVi0FBQUpPj5eY8eOteZNT09X3759VaFCBQUFBalKlSrW/apiY2MlSV26dJFhGNbPefHz81NUVJQqVaqkdu3aqWvXrlq4cKHLNJ988kmeuVStWlWSdN1118kwDLVt2zZf8xVGDT/88IOioqL05ptvqk6dOoqLi9Ott96q8ePHKzg42Jpu6dKlatu2rUqUKKEyZcqoQ4cOOnbsmKTzj4N+5plnFBERoaCgILVs2VK///67Ne/ixYtlGIbmz5+vhg0bKjAwUL/++qucTqeGDx+uqlWrWs+Onzlz5kXf68LEkW4AAAAAKKCpU6dq4MCB+uCDD3TddddpzZo16tWrl0qWLKkePXrovffe05w5c/TVV1+pcuXK2rt3r/bu3StJ+v333xUREaGJEyfq1ltvzfNxbu7s2rVL33//vctp2ZfKZcWKFWrSpIl+/PFHXXvttda8l6OGqKgoHThwQEuWLFHr1q3dTrN27VrdfPPNeuSRR/Tuu+/Kz89PP/30k3Uk/KWXXtLXX3+tyZMnq0qVKnrzzTfVoUMHbd++3eUU+5dfflkjR45UtWrVVKZMGQ0fPlyff/65xo0bpxo1amjJkiV6+OGHFR4erjZt2uT7PS8omm4AAAAAKKBBgwbp7bff1t133y3p/NHkP//8Ux999JF69OihPXv2qEaNGmrZsqUMw1CVKlWsecPDwyVJYWFhioqKuuS6NmzYoFKlSsnhcOjcuXOSpFGjRuU7l6z1lStXzmV9l6OGrl276vvvv1ebNm0UFRWlG264QTfffLO6d++ukJAQSdKbb76pRo0auRxlv/baayVJp0+f1ocffqhJkyapY8eOkqTx48dr4cKF+vTTT/Xiiy9a87z66qtq3769pPNHx19//XX9+OOP1mOpq1Wrpl9//VUfffTRZWm6Ob0cAAAAAArg9OnT2rFjhx599FGVKlXK+jds2DDt2LFDkpSQkKC1a9eqZs2aeuaZZy75BKY9e/a4LOv111+3XqtZs6bWrl2r33//Xf/85z/VoUMHPf300/nO5XLV4I7dbtfEiRO1b98+vfnmm6pUqZJef/11XXvttdY181lHut3ZsWOHMjIy1KJFCyvm7++vJk2aaNOmTS7TNmrUyPr/7du368yZM2rfvr1LfZ999tlF35fCxJFuAAAAACiAU6dOSTp/xLVp06Yur2WdZn399dcrKSlJ8+fP148//qj77rtP7dq1y/Oa4ooVK2rt2rXWzzlPmw4ICFD16tUlSSNGjNDtt9+uIUOGaOjQofnK5XLVcDGVKlXSP/7xD/3jH//Q0KFDdc0112jcuHEaMmSIy7Xdf0fJkiWt/8+qb968eapUqZLLdIGBgYWyvkuh6QYAAACAAoiMjFTFihW1c+dOPfTQQ3lOFxISom7duqlbt2669957deutt+ro0aMqW7as/P39Xe7e7efnZzXWl/Kf//xHN910k/r06aOKFSteMpesa7hzrs8bNeRXmTJlVKFCBZ0+fVqSVK9ePSUmJlqPRsspLi5OAQEBWrp0qXV6e0ZGhn7//Xc999xzea6jdu3aCgwM1J49ey7LqeTu0HQDAAAAQAENGTJEzzzzjEJDQ3XrrbcqLS1NK1eu1LFjx9SvXz+NGjVKFSpU0HXXXSebzaYZM2YoKipKYWFhks7f/TsxMVEtWrRQYGCgypQpk+91N2vWTPXq1dPrr7+uDz744JK5REREKDg4WAsWLFB0dLSCgoIUGhp6WWr46KOPtHbtWnXp0kVxcXE6d+6cPvvsM/3xxx96//33JUkDBgxQ3bp19eSTT+qJJ55QQECAfvrpJ3Xt2lXly5dXnz599OKLL6ps2bKqXLmy3nzzTZ05c0aPPvponu9R6dKl1b9/fz3//PNyOp1q2bKlUlNTtXTpUoWEhKhHjx75/7ALiGu6AQAAAKCAHnvsMX3yySeaOHGi6tatqzZt2mjSpEnW47lKly5t3SCscePG2rVrl7777jvZbOdbsbffflsLFy5UTEyMrrvuOo/X//zzz+uTTz7R3r17L5mLn5+f3nvvPX300UeqWLGi7rrrrstWQ5MmTXTq1Ck98cQTuvbaa9WmTRv973//0+zZs60j0Ndcc41++OEHrVu3Tk2aNFGzZs307bffWs/ZHjFihO655x794x//0PXXX6/t27fr+++/v+SOiqFDh+qVV17R8OHDVatWLd16662aN2+eVZ+3GaZpmpdlTUXEiRMnFBoaqtTUVOsuebi02Jfn+TqFYmXXiNt9nQKACzCOeY6xDIA3nDt3TklJSapataqCgoJ8nQ5wURf7vua3t+RINwAAAAAAXkLTDQAAAACAl9B0AwAAAADgJTTdAAAAAAB4CU03AAAAgMvuKrufM4qpwvie0nQDAAAAuGzsdrskKT093ceZAJd25swZSZK/v3+Bl+FXWMkAAAAA8J4r5dGHhqQnG4eq5TmnSoSdkwzDa+uqGcUjglEwpmnqzJkzOnz4sMLCwqydRQVB0w0AAADgsjElfbnhpKqE+qvM2XM634Z7R8DZYK8tG1eHsLAwRUVF/a1l0HQDAAAAuKyOnnPqX4kpKl/CLrsXL3hNfKGt9xaOK56/v//fOsKdhaYbAAAAwGWXaUoHTzu8uo6goCCvLh/ID26kBgAAAACAl9B0AwAAAADgJTTdAAAAAAB4CU03AAAAAABeQtMNAAAAAICX0HQDAAAAAOAlNN0AAAAAAHgJTTcAAAAAAF5C0w0AAAAAgJfQdAMAAAAA4CU03QAAAAAAeAlNNwAAAAAAXkLTDQAAAACAl9B0AwAAAADgJTTdAAAAAAB4CU03AAAAAABeQtMNAAAAAICX0HQDAAAAAOAlNN0AAAAAAHiJz5vuMWPGKDY2VkFBQWratKlWrFhx0emPHz+up556ShUqVFBgYKCuueYafffdd5cpWwAAAAAA8s/PlyufPn26+vXrp3Hjxqlp06YaPXq0OnTooC1btigiIiLX9Onp6Wrfvr0iIiI0c+ZMVapUSbt371ZYWNjlTx4AAAAAgEvwadM9atQo9erVSz179pQkjRs3TvPmzdOECRP08ssv55p+woQJOnr0qJYtWyZ/f39JUmxs7OVMGQAAAACAfPPZ6eXp6elatWqV2rVrl52MzaZ27dpp+fLlbueZM2eOmjVrpqeeekqRkZGqU6eOXn/9dTkcjsuVNgAAAAAA+eazI90pKSlyOByKjIx0iUdGRmrz5s1u59m5c6cWLVqkhx56SN999522b9+uJ598UhkZGRo0aJDbedLS0pSWlmb9fOLECUlSZmamMjMzJZ1v9m02m5xOp5xOpzVtVtzhcMg0zUvG7Xa7DMOwlpszLinXzoG84n5+fjJN0yVuGIbsdnuuHPOKF3ZN/rbsmCRlOiVTkv8Fu20ynJIhyS9X3JAh0yVumlKmacgmU3Z3ccOU3ciOO03JYRqyG6ZsOeIOU3KahvwMU0bOuFNyKnf8fO7erclXn9OV+N2jJmoqrJqK0hhRXMa9Cz9XvnvURE2+ramojRHFYdzju0dN3qwpv3x6ermnnE6nIiIi9PHHH8tut6thw4b666+/9NZbb+XZdA8fPlxDhgzJFV+zZo1KliwpSQoPD1dcXJySkpKUnJxsTRMdHa3o6Ght3bpVqampVrxatWqKiIjQxo0bdfbsWSseHx+vsLAwrVmzxuUDr1evngICArRy5UqXHBo1aqT09HStX7/eitntdjVu3FipqakuOx+Cg4NVv359paSkaOfOnVY8NDRUtWrV0v79+7Vv3z4rXtg1PRTndBlwZybZdCpTSqiR/YWUpEnbbCrlJ91bNTue4ZQmbbOrUkmpY3R2/Hi6NCPJrhqhplpHZX+B952R5u+167pypq4vlx3fkmpoyUFDLSJN1QzNjq8+YmhViqH20U5Fl8jOZclBQ1tSDXWJdSosIDs+f59N+07LqzX56nO6Er971ERNhVVTURojisu4l/Pz47tHTdTk+5qK2hhRHMY9vnvU5M2agoKClB+GmbNdv4zS09NVokQJzZw5U507d7biPXr00PHjx/Xtt9/mmqdNmzby9/fXjz/+aMXmz5+v2267TWlpaQoICMg1j7sj3TExMTpy5IhCQkIksacmPzXV+NdclxyvhD2f3tybu/P1juwlpCZqKmI1VR8wt8iMEcVl3Ns27FaXON89aqIm39ZUbcDcIjVGFIdxb/uwDi458t2jpsKs6dSpUwoNDVVqaqrVW7rjsyPdAQEBatiwoRITE62m2+l0KjExUX379nU7T4sWLfTFF1/I6XRah/O3bt2qChUquG24JSkwMFCBgYG54n5+fvLzcy0/6w29UNaHm9/4hcstSNwwDLfxvHL0NO5pTRlOI4947piZZ9xwG3fKkNNd3DTkdLNLyGEacriJZ5rG+ZXnM+7Nmnz1OV2J3z1qoqbCqqkojRHFZdzju0dN1FS0aipqY0RxGPf47lGTt2vKD58+p7tfv34aP368Jk+erE2bNqlPnz46ffq0dTfz7t27a8CAAdb0ffr00dGjR/Xss89q69atmjdvnl5//XU99dRTvioBAAAAAIA8+fSa7m7duik5OVkDBw7UwYMH1aBBAy1YsMC6udqePXtc9jLExMTo+++/1/PPP6969eqpUqVKevbZZ/XPf/7TVyUAAAAAAJAnn99IrW/fvnmeTr548eJcsWbNmul///ufl7MC/qbBob7OoPgZnHrpaQAAAIBixqenlwMAAAAAcCWj6QYAAAAAwEtougEAAAAA8BKabgAAAAAAvISmGwAAAAAAL6HpBgAAAADAS2i6AQAAAADwEppuAAAAAAC8xM/XCQAAgCJqcKivMyheBqf6OgMAQBHEkW4AAAAAALyEphsAAAAAAC+h6QYAAAAAwEtougEAAAAA8BKabgAAAAAAvISmGwAAAAAAL6HpBgAAAADAS2i6AQAAAADwEppuAAAAAAC8hKYbAAAAAAAvoekGAAAAAMBLaLoBAAAAAPASmm4AAAAAALyEphsAAAAAAC+h6QYAAAAAwEtougEAAAAA8BKabgAAAAAAvISmGwAAAAAAL6HpBgAAAADAS2i6AQAAAADwEppuAAAAAAC8hKYbAAAAAAAvoekGAAAAAMBLaLoBAAAAAPASmm4AAAAAALyEphsAAAAAAC+h6QYAAAAAwEtougEAAAAA8BKPm+6dO3d6Iw8AAAAAAK44Hjfd1atX14033qjPP/9c586d80ZOAAAAAABcETxuulevXq169eqpX79+ioqKUu/evbVixYq/lcSYMWMUGxuroKAgNW3a9KLLmzRpkgzDcPkXFBT0t9YPAAAAAIA3eNx0N2jQQO+++67279+vCRMm6MCBA2rZsqXq1KmjUaNGKTk52aPlTZ8+Xf369dOgQYO0evVq1a9fXx06dNDhw4fznCckJEQHDhyw/u3evdvTMgAAAAAA8LoC30jNz89Pd999t2bMmKE33nhD27dvV//+/RUTE6Pu3bvrwIED+VrOqFGj1KtXL/Xs2VO1a9fWuHHjVKJECU2YMCHPeQzDUFRUlPUvMjKyoGUAAAAAAOA1BW66V65cqSeffFIVKlTQqFGj1L9/f+3YsUMLFy7U/v37ddddd11yGenp6Vq1apXatWuXnZDNpnbt2mn58uV5znfq1ClVqVJFMTExuuuuu/THH38UtAwAAAAAALzGz9MZRo0apYkTJ2rLli267bbb9Nlnn+m2226TzXa+f69ataomTZqk2NjYSy4rJSVFDocj15HqyMhIbd682e08NWvW1IQJE1SvXj2lpqZq5MiRat68uf744w9FR0fnmj4tLU1paWnWzydOnJAkZWZmKjMzU9L5Rt9ms8npdMrpdFrTZsUdDodM07xk3G63yzAMa7k545LkcDjyFffz85Npmi5xwzBkt9tz5ZhXvLBr8rdlxyQp0ymZkvwv2G2T4ZQMSX654oYMmS5x05QyTUM2mbK7ixum7EZ23GlKDtOQ3TBlyxF3mJLTNORnmDJyxp2SU7nj53P3bk1O2eQ0sjcvQ6bsZoacsstp2K24TQ7ZTIechl1O5YibDtnkkMPwlykjRzxTNjlzxe1mhgyZyjQCXHK0mxmSTDlyxdMlGXIY/i5xPzNd5gXx7Ny9XNNVtD1Rk29qKkpjRHEZ9y4cU3w6RhSHce8q2p6oyTc1FbUxojiMe3z3qMmbNeWXx033hx9+qEceeUQJCQmqUKGC22kiIiL06aeferrofGnWrJmaNWtm/dy8eXPVqlVLH330kYYOHZpr+uHDh2vIkCG54mvWrFHJkiUlSeHh4YqLi1NSUpLLNenR0dGKjo7W1q1blZqaasWrVaumiIgIbdy4UWfPnrXi8fHxCgsL05o1a1w+8Hr16ikgIEArV650yaFRo0ZKT0/X+vXrrZjdblfjxo2VmprqsuMhODhY9evXV0pKistj20JDQ1WrVi3t379f+/bts+KFXdNDcU6XAXdmkk2nMqWEGtlfSEmatM2mUn7SvVWz4xlOadI2uyqVlDpGZ8ePp0szkuyqEWqqdVT2F3jfGWn+XruuK2fq+nLZ8S2phpYcNNQi0lTN0Oz46iOGVqUYah/tVHSJ7FyWHDS0JdVQl1inwnL87TV/n037TsurNaWUrq2d4e2teOiZ3ap1cJb2l2mifWVusOLhJzcqLnmhksrfpOTSdax49LH/KfrYcm2NvEOpJapY8WrJCxVxcqM2VnpQZwPKWvH4A7MUdna31lTpJYctu9h6ez9TQOZJraz6lEtNjZLGKN2vtNbHdLdidme6Gu8ao9Tgytpc4W4rHpx+VPX3TfZ+TVfR9kRNvqmpKI0RxWXcyzl2+HyMKA7j3lW0PVGTb2oqamNEcRj3+O5Rkzdryu8NvQ0zZ7t+maWnp6tEiRKaOXOmOnfubMV79Oih48eP69tvv83Xcrp27So/Pz99+eWXuV5zd6Q7JiZGR44cUUhIiCT21OSnphr/muuS45Ww59Obe3N3Bj3MER9Pa3rl6FWzPVGTb2qqPmBukRkjisu4ty24p0ucI92XqGngsatme6Im39RUbcDcIjVGFIdxb/uwDi458t2jpsKs6dSpUwoNDVVqaqrVW7rj8ZHuiRMnqlSpUuratatLfMaMGTpz5ox69OiR72UFBASoYcOGSkxMtJpup9OpxMRE9e3bN1/LcDgc2rBhg2677Ta3rwcGBiowMDBX3M/PT35+ruVnvaEXyvpw8xu/cLkFiRuG4TaeV46exj2tKcNp5BHPHTPzjBtu404ZcrqLm4acbnYJOUxDDjfxTNM4v/J8xr1Zk01O2cx0N/Hzf5jliv//H5sXOv/HY255xf3crDPvuOk2buQR93pNV9H2RE2+qakojRHFZdwrUmNEcRj3rqLtiZp8U1NRGyOKw7jHd4+avF1Tfnh8I7Xhw4erfPnyueIRERF6/fXXPU6gX79+Gj9+vCZPnqxNmzapT58+On36tHr2PL93vXv37howYIA1/auvvqoffvhBO3fu1OrVq/Xwww9r9+7deuyxxzxeNwAAAAAA3uTxke49e/aoatWqueJVqlTRnj17PE6gW7duSk5O1sCBA3Xw4EE1aNBACxYssG6utmfPHpc9DceOHVOvXr108OBBlSlTRg0bNtSyZctUu3Ztj9cNAAAAAIA3edx0R0REaP369bnuTr5u3TqVK1euQEn07ds3z9PJFy9e7PLzO++8o3feeadA6wEAAAAA4HLy+PTyBx54QM8884x++uknORwOORwOLVq0SM8++6zuv/9+b+QIAAAAAECx5PGR7qFDh2rXrl26+eabrQvVnU6nunfvXqBrugEAAAAAuFJ53HQHBARo+vTpGjp0qNatW6fg4GDVrVtXVapUufTMAAAAAABcRTxuurNcc801uuaaawozFwAAAAAArigFarr37dunOXPmaM+ePUpPd31+5ahRowolMQAAAAAAijuPm+7ExETdeeedqlatmjZv3qw6depo165dMk1T119/vTdyBAAAAACgWPL47uUDBgxQ//79tWHDBgUFBenrr7/W3r171aZNG3Xt2tUbOQIAAAAAUCx53HRv2rRJ3bt3lyT5+fnp7NmzKlWqlF599VW98cYbhZ4gAAAAAADFlcdNd8mSJa3ruCtUqKAdO3ZYr6WkpBReZgAAAAAAFHMeX9N9ww036Ndff1WtWrV022236YUXXtCGDRs0a9Ys3XDDDd7IEQAAAACAYsnjpnvUqFE6deqUJGnIkCE6deqUpk+frho1anDncgAAAAAAcvCo6XY4HNq3b5/q1asn6fyp5uPGjfNKYgAAAAAAFHceXdNtt9t1yy236NixY97KBwAAAACAK4bHN1KrU6eOdu7c6Y1cAAAAAAC4onjcdA8bNkz9+/fX3LlzdeDAAZ04ccLlHwAAAAAAOM/jG6nddtttkqQ777xThmFYcdM0ZRiGHA5H4WUHAAAAAEAx5nHT/dNPP3kjDwAAAAAArjgeN91t2rTxRh4AAAAAAFxxPG66lyxZctHXW7duXeBkAAAAAAC4knjcdLdt2zZXLOe13VzTDQAAAADAeR7fvfzYsWMu/w4fPqwFCxaocePG+uGHH7yRIwAAAAAAxZLHR7pDQ0Nzxdq3b6+AgAD169dPq1atKpTEAAAAAAAo7jw+0p2XyMhIbdmypbAWBwAAAABAsefxke7169e7/Gyapg4cOKARI0aoQYMGhZUXAAAAAPw9g3OfpYuLGJzq6wyuSB433Q0aNJBhGDJN0yV+ww03aMKECYWWGAAAAAAAxZ3HTXdSUpLLzzabTeHh4QoKCiq0pAAAAAAAuBJ43HRXqVLFG3kAAAAAAHDF8fhGas8884zee++9XPEPPvhAzz33XGHkBAAAAADAFcHjpvvrr79WixYtcsWbN2+umTNnFkpSAAAAAABcCTxuuo8cOeL2Wd0hISFKSUkplKQAAAAAALgSeNx0V69eXQsWLMgVnz9/vqpVq1YoSQEAAAAAcCXw+EZq/fr1U9++fZWcnKybbrpJkpSYmKi3335bo0ePLuz8AAAAAAAotjxuuh955BGlpaXptdde09ChQyVJsbGx+vDDD9W9e/dCTxAAAAAAgOLK46Zbkvr06aM+ffooOTlZwcHBKlWqVGHnBQAAAABAsedx052UlKTMzEzVqFFD4eHhVnzbtm3y9/dXbGxsYeYHAAAAAECx5fGN1BISErRs2bJc8d9++00JCQmFkRMAAAAAAFcEj5vuNWvWuH1O9w033KC1a9cWRk4AAAAAAFwRPG66DcPQyZMnc8VTU1PlcDgKJSkAAAAAAK4EHjfdrVu31vDhw10abIfDoeHDh6tly5aFmhwAAAAAAMWZxzdSe+ONN9S6dWvVrFlTrVq1kiT98ssvOnHihBYtWlToCQIAAAAAUFx5fKS7du3aWr9+ve677z4dPnxYJ0+eVPfu3bV582bVqVOnQEmMGTNGsbGxCgoKUtOmTbVixYp8zTdt2jQZhqHOnTsXaL0AAAAAAHhTgZ7TXbFiRb3++ususePHj+uDDz5Q3759PVrW9OnT1a9fP40bN05NmzbV6NGj1aFDB23ZskURERF5zrdr1y7179/fOtoOAAAAAEBR4/GR7gslJibqwQcfVIUKFTRo0CCP5x81apR69eqlnj17qnbt2ho3bpxKlCihCRMm5DmPw+HQQw89pCFDhqhatWp/J30AAAAAALymQEe69+7dq4kTJ2rixInas2ePunXrpm+++UY333yzR8tJT0/XqlWrNGDAACtms9nUrl07LV++PM/5Xn31VUVEROjRRx/VL7/8ctF1pKWlKS0tzfr5xIkTkqTMzExlZmZa67TZbHI6nXI6nS652Gw2ORwOmaZ5ybjdbpdhGNZyc8Yl5bq7e15xPz8/mabpEjcMQ3a7PVeOecULuyZ/W3ZMkjKdkinJ/4LdNhlOyZDklytuyJDpEjdNKdM0ZJMpu7u4YcpuZMedpuQwDdkNU7YccYcpOU1DfoYpI2fcKTmVO34+d+/W5JRNTiN78zJkym5myCm7nIbditvkkM10yGnY5VSOuOmQTQ45DH+ZMnLEM2WTM1fcbmbIkKlMI8AlR7uZIcmUI1c8XZIhh+HvEvcz02VeEM/O3cs1XUXbEzX5pqaiNEYUl3HvwjHFp2NEcRj3rqLtiZp8U1NRGyOKw7hXpMaI4jDuXUXbU2HUlF/5brozMjI0e/ZsffLJJ/rll19066236q233tIDDzyg//znP6pdu3a+V5olJSVFDodDkZGRLvHIyEht3rzZ7Ty//vqrPv3003w/E3z48OEaMmRIrviaNWtUsmRJSVJ4eLji4uKUlJSk5ORka5ro6GhFR0dr69atSk1NteLVqlVTRESENm7cqLNnz1rx+Ph4hYWFac2aNS4feL169RQQEKCVK1e65NCoUSOlp6dr/fr1Vsxut6tx48ZKTU11eQ+Cg4NVv359paSkaOfOnVY8NDRUtWrV0v79+7Vv3z4rXtg1PRTndBlwZybZdCpTSqiR/YWUpEnbbCrlJ91bNTue4ZQmbbOrUkmpY3R2/Hi6NCPJrhqhplpHZX+B952R5u+167pypq4vlx3fkmpoyUFDLSJN1QzNjq8+YmhViqH20U5Fl8jOZclBQ1tSDXWJdSosxxg0f59N+07LqzWllK6tneHtrXjomd2qdXCW9pdpon1lbrDi4Sc3Ki55oZLK36Tk0tn3RIg+9j9FH1uurZF3KLVEFSteLXmhIk5u1MZKD+psQFkrHn9glsLO7taaKr3ksGUXW2/vZwrIPKmVVZ9yqalR0hil+5XW+pjuVszuTFfjXWOUGlxZmyvcbcWD04+q/r7J3q/pKtqeqMk3NRWlMaK4jHs5xw6fjxHFYdy7irYnavJNTUVtjCgO416RGiOKw7h3FW1PhVFTUFCQ8sMwc7brFxEREaH4+Hg9/PDD6tq1q8qUKSNJ8vf317p16wrUdO/fv1+VKlXSsmXL1KxZMyv+0ksv6eeff9Zvv/3mMv3JkydVr149jR07Vh07dpQkJSQk6Pjx45o9e7bbdbg70h0TE6MjR44oJCREEntq8lNTjX/NdcnxStjz6c29uTuDHr7y9nx6e2/uK0evmu2JmnxTU/UBc4vMGFFcxr1twT1d4lfdER9Paxp47KrZnqjJNzVVGzC3SI0RxWHc2x6c4JJjsfrbyBfj3gXj2JW8PRVGTadOnVJoaKhSU1Ot3tKdfB/pzszMlGEYVpKFoXz58rLb7Tp06JBL/NChQ4qKiso1/Y4dO7Rr1y7dcccdVizrDfHz89OWLVsUFxfnMk9gYKACAwNzLcvPz09+fq7lZ72hF8qr3rziFy63IHHDMNzG88rR07inNWU4jTziuWNmnnHDbdwpQ053cdOQ080uIYdpyOEmnmka51eez7g3a7LJKZuZ7iZ+ftDNFf//QfdC5wfR3PKK+7lZZ95x023cyCPu9Zquou2JmnxTU1EaI4rLuFekxojiMO5dRdsTNfmmpqI2RhSHca9IjRHFYdy7iranwqopP/J9Ivr+/fv1+OOP68svv1RUVJTuueceffPNNzIM9xtnfgQEBKhhw4ZKTEy0Yk6nU4mJiS5HvrPEx8drw4YNWrt2rfXvzjvv1I033qi1a9cqJiamwLkAAAAAAFDY8t10BwUF6aGHHtKiRYu0YcMG1apVS88884wyMzP12muvaeHChbkO8+dHv379NH78eE2ePFmbNm1Snz59dPr0afXsef6Utu7du1s3WgsKClKdOnVc/oWFhal06dKqU6eOAgICLrYqAAAAAAAuqwI9MiwuLk7Dhg3T7t27NW/ePKWlpalTp065boiWH926ddPIkSM1cOBANWjQQGvXrtWCBQusZe3Zs0cHDhwoSJoAAAAAAPhUgR4ZlsVms6ljx47q2LGjkpOTNWXKlAItp2/fvurbt6/b1xYvXnzReSdNmlSgdQIAAAAA4G0FOtLtTnh4uPr161dYiwMAAAAAoNgrtKYbAAAAAAC4oukGAAAAAMBLaLoBAAAAAPCSfDfdrVq10siRI7V161Zv5gMAAAAAwBUj3013r169tHz5cjVs2FC1atXSP//5Ty1dulSmaXozPwAAAAAAiq18N93du3fX119/rZSUFL399ts6fvy4unbtqqioKD3yyCOaPXu2zp49681cAQAAAAAoVjy+pjswMFC33XabPvroI+3fv19z5sxRhQoV9Morr6hcuXLq1KmTli5d6o1cAQAAAAAoVv72jdSaNm2q1157TRs2bNCGDRt0880368CBA4WRGwAAAAAAxZpfYS4sLi5Ozz//fGEuEgAAAACAYotHhgEAAAAA4CU03QAAAAAAeAlNNwAAAAAAXlLgpjs9PV1btmxRZmZmYeYDAAAAAMAVw+Om+8yZM3r00UdVokQJXXvttdqzZ48k6emnn9aIESMKPUEAAAAAAIorj5vuAQMGaN26dVq8eLGCgoKseLt27TR9+vRCTQ4AAAAAgOLM40eGzZ49W9OnT9cNN9wgwzCs+LXXXqsdO3YUanIAAAAAABRnHh/pTk5OVkRERK746dOnXZpwAAAAAACudh433Y0aNdK8efOsn7Ma7U8++UTNmjUrvMwAAAAAACjmPD69/PXXX1fHjh31559/KjMzU++++67+/PNPLVu2TD///LM3cgQAAAAAoFjy+Eh3y5YttW7dOmVmZqpu3br64YcfFBERoeXLl6thw4beyBEAAAAAgGLJoyPdGRkZ6t27t1555RWNHz/eWzkBAAAAAHBF8OhIt7+/v77++mtv5QIAAAAAwBXF49PLO3furNmzZ3shFQAAAAAAriwe30itRo0aevXVV7V06VI1bNhQJUuWdHn9mWeeKbTkAAAAAAAozjxuuj/99FOFhYVp1apVWrVqlctrhmHQdAMAAAAA8P88brqTkpK8kQcAAAAAAFccj6/pzsk0TZmmWVi5AAAAAABwRSlQ0/3ZZ5+pbt26Cg4OVnBwsOrVq6cpU6YUdm4AAAAAABRrHp9ePmrUKL3yyivq27evWrRoIUn69ddf9cQTTyglJUXPP/98oScJAAAAAEBx5HHT/f777+vDDz9U9+7drdidd96pa6+9VoMHD6bpBgAAAADg/3l8evmBAwfUvHnzXPHmzZvrwIEDhZIUAAAAAABXAo+b7urVq+urr77KFZ8+fbpq1KhRKEkBAAAAAHAl8Pj08iFDhqhbt25asmSJdU330qVLlZiY6LYZBwAAAADgauXxke577rlHv/32m8qXL6/Zs2dr9uzZKl++vFasWKEuXbp4I0cAAAAAAIolj490S1LDhg31+eefF3YuAAAAAABcUTw+0v3dd9/p+++/zxX//vvvNX/+/EJJCgAAAACAK4HHTffLL78sh8ORK26apl5++eVCSQoAAAAAgCuBx033tm3bVLt27Vzx+Ph4bd++vVCSAgAAAADgSuBx0x0aGqqdO3fmim/fvl0lS5YsUBJjxoxRbGysgoKC1LRpU61YsSLPaWfNmqVGjRopLCxMJUuWVIMGDTRlypQCrRcAAAAAAG/yuOm+66679Nxzz2nHjh1WbPv27XrhhRd05513epzA9OnT1a9fPw0aNEirV69W/fr11aFDBx0+fNjt9GXLltW///1vLV++XOvXr1fPnj3Vs2dPt9eZAwAAAADgSx433W+++aZKliyp+Ph4Va1aVVWrVlWtWrVUrlw5jRw50uMERo0apV69eqlnz56qXbu2xo0bpxIlSmjChAlup2/btq26dOmiWrVqKS4uTs8++6zq1aunX3/91eN1AwAAAADgTR4/Miw0NFTLli3TwoULtW7dOgUHB6tevXpq3bq1xytPT0/XqlWrNGDAACtms9nUrl07LV++/JLzm6apRYsWacuWLXrjjTfcTpOWlqa0tDTr5xMnTkiSMjMzlZmZaa3TZrPJ6XTK6XS65GKz2eRwOGSa5iXjdrtdhmFYy80Zl5TrBnR5xf38/GSapkvcMAzZ7fZcOeYVL+ya/G3ZMUnKdEqmJP8LdttkOCVDkl+uuCFDpkvcNKVM05BNpuzu4oYpu5Edd5qSwzRkN0zZcsQdpuQ0DfkZpoyccafkVO74+dy9W5NTNjmN7M3LkCm7mSGn7HIadituk0M20yGnYZdTOeKmQzY55DD8ZcrIEc+UTc5ccbuZIUOmMo0AlxztZoYkU45c8XRJhhyGv0vcz0yXeUE8O3cv13QVbU/U5JuaitIYUVzGvQvHFJ+OEcVh3LuKtidq8k1NRW2MKA7jXpEaI4rDuHcVbU+FUVN+Feg53YZh6JZbbtEtt9xSkNktKSkpcjgcioyMdIlHRkZq8+bNec6XmpqqSpUqKS0tTXa7XWPHjlX79u3dTjt8+HANGTIkV3zNmjXWNejh4eGKi4tTUlKSkpOTrWmio6MVHR2trVu3KjU11YpXq1ZNERER2rhxo86ePWvF4+PjFRYWpjVr1rh84PXq1VNAQIBWrlzpkkOjRo2Unp6u9evXWzG73a7GjRsrNTXV5T0IDg5W/fr1lZKS4nJNfWhoqGrVqqX9+/dr3759Vrywa3oozuky4M5MsulUppRQI/sLKUmTttlUyk+6t2p2PMMpTdpmV6WSUsfo7PjxdGlGkl01Qk21jsr+Au87I83fa9d15UxdXy47viXV0JKDhlpEmqoZmh1ffcTQqhRD7aOdii6RncuSg4a2pBrqEutUWI4xaP4+m/adlldrSildWzvDs7+ToWd2q9bBWdpfpon2lbnBioef3Ki45IVKKn+TkkvXseLRx/6n6GPLtTXyDqWWqGLFqyUvVMTJjdpY6UGdDShrxeMPzFLY2d1aU6WXHLbsYuvt/UwBmSe1supTLjU1ShqjdL/SWh/T3YrZnelqvGuMUoMra3OFu614cPpR1d832fs1XUXbEzX5pqaiNEYUl3Ev59jh8zGiOIx7V9H2RE2+qamojRHFYdwrUmNEcRj3rqLtqTBqCgoKUn4YZs52/SKWL1+uI0eOqFOnTlbss88+06BBg3T69Gl17txZ77//vgIDA/O1Yknav3+/KlWqpGXLlqlZs2ZW/KWXXtLPP/+s3377ze18TqdTO3fu1KlTp5SYmKihQ4dq9uzZatu2ba5p3R3pjomJ0ZEjRxQSEiKJPTX5qanGv+a65Hgl7Pn05t7cnUEPX3l7Pr29N/eVo1fN9kRNvqmp+oC5RWaMKC7j3rbgni7xq+6Ij6c1DTx21WxP1OSbmqoNmFukxojiMO5tD05wybFY/W3ki3HvgnHsSt6eCqOmU6dOKTQ0VKmpqVZv6U6+j3S/+uqratu2rdV0b9iwQY8++qgSEhJUq1YtvfXWW6pYsaIGDx6c30WqfPnystvtOnTokEv80KFDioqKynM+m82m6tWrS5IaNGigTZs2afjw4W6b7sDAQLc7Avz8/OTn51p+1ht6oawPN7/xC5dbkLhhGG7jeeXoadzTmjKcRh7x3DEzz7jhNu6UIae7uGnI6WaXkMM05HATzzSN8yvPZ9ybNdnklM1MdxM/P+jmiv//oHuh84NobnnF/dysM++46TZu5BH3ek1X0fZETb6pqSiNEcVl3CtSY0RxGPeuou2JmnxTU1EbI4rDuFekxojiMO5dRdtTYdWUH/k+EX3t2rW6+eabrZ+nTZumpk2bavz48erXr5/ee+89ffXVVx6tPCAgQA0bNlRiYqIVczqdSkxMdDnyfSlOp9PlaDYAAAAAAEVBvo90Hzt2zOXa659//lkdO3a0fm7cuLH27t3rcQL9+vVTjx491KhRIzVp0kSjR4/W6dOn1bPn+VPaunfvrkqVKmn48OGSzl+j3ahRI8XFxSktLU3fffedpkyZog8//NDjdQMAAAAA4E35brojIyOVlJSkmJgYpaena/Xq1S43KDt58qT8/f0vsgT3unXrpuTkZA0cOFAHDx5UgwYNtGDBAqvB37Nnj8vh/dOnT+vJJ5/Uvn37FBwcrPj4eH3++efq1q2bx+sGAAAAAMCb8t1033bbbXr55Zf1xhtvaPbs2SpRooRatWplvb5+/XrFxcUVKIm+ffuqb9++bl9bvHixy8/Dhg3TsGHDCrQeAAAAAAAup3w33UOHDtXdd9+tNm3aqFSpUpo8ebICArLvkDdhwoS//QgxAAAAAACuJPluusuXL68lS5YoNTVVpUqVynX3thkzZqhUqVKFniAAAAAAAMVVvpvuLKGhoW7jZcuWdRsHAAAAAOBqle9HhgEAAAAAAM/QdAMAAAAA4CU03QAAAAAAeAlNNwAAAAAAXkLTDQAAAACAl9B0AwAAAADgJTTdAAAAAAB4CU03AAAAAABeQtMNAAAAAICX0HQDAAAAAOAlNN0AAAAAAHgJTTcAAAAAAF5C0w0AAAAAgJfQdAMAAAAA4CU03QAAAAAAeAlNNwAAAAAAXkLTDQAAAACAl9B0AwAAAADgJTTdAAAAAAB4CU03AAAAAABeQtMNAAAAAICX0HQDAAAAAOAlNN0AAAAAAHgJTTcAAAAAAF5C0w0AAAAAgJfQdAMAAAAA4CU03QAAAAAAeAlNNwAAAAAAXkLTDQAAAACAl9B0AwAAAADgJTTdAAAAAAB4CU03AAAAAABeQtMNAAAAAICX0HQDAAAAAOAlNN0AAAAAAHgJTTcAAAAAAF5SJJruMWPGKDY2VkFBQWratKlWrFiR57Tjx49Xq1atVKZMGZUpU0bt2rW76PQAAAAAAPiKz5vu6dOnq1+/fho0aJBWr16t+vXrq0OHDjp8+LDb6RcvXqwHHnhAP/30k5YvX66YmBjdcsst+uuvvy5z5gAAAAAAXJzPm+5Ro0apV69e6tmzp2rXrq1x48apRIkSmjBhgtvpp06dqieffFINGjRQfHy8PvnkEzmdTiUmJl7mzAEAAAAAuDifNt3p6elatWqV2rVrZ8VsNpvatWun5cuX52sZZ86cUUZGhsqWLeutNAEAAAAAKBA/X648JSVFDodDkZGRLvHIyEht3rw5X8v45z//qYoVK7o07jmlpaUpLS3N+vnEiROSpMzMTGVmZko63+jbbDY5nU45nU5r2qy4w+GQaZqXjNvtdhmGYS03Z1ySHA5HvuJ+fn4yTdMlbhiG7HZ7rhzzihd2Tf627JgkZTolU5L/BbttMpySIckvV9yQIdMlbppSpmnIJlN2d3HDlN3IjjtNyWEashumbDniDlNymob8DFNGzrhTcip3/Hzu3q3JKZucRvbmZciU3cyQU3Y5DbsVt8khm+mQ07DLqRxx0yGbHHIY/jJl5IhnyiZnrrjdzJAhU5lGgEuOdjNDkilHrni6JEMOw98l7memy7wgnp27l2u6irYnavJNTUVpjCgu496FY4pPx4jiMO5dRdsTNfmmpqI2RhSHca9IjRHFYdy7iranwqgpv3zadP9dI0aM0LRp07R48WIFBQW5nWb48OEaMmRIrviaNWtUsmRJSVJ4eLji4uKUlJSk5ORka5ro6GhFR0dr69atSk1NteLVqlVTRESENm7cqLNnz1rx+Ph4hYWFac2aNS4feL169RQQEKCVK1e65NCoUSOlp6dr/fr1Vsxut6tx48ZKTU112fEQHBys+vXrKyUlRTt37rTioaGhqlWrlvbv3699+/ZZ8cKu6aE4p8uAOzPJplOZUkKN7C+kJE3aZlMpP+neqtnxDKc0aZtdlUpKHaOz48fTpRlJdtUINdU6KvsLvO+MNH+vXdeVM3V9uez4llRDSw4aahFpqmZodnz1EUOrUgy1j3YqukR2LksOGtqSaqhLrFNhOcag+fts2ndaXq0ppXRt7Qxvb8VDz+xWrYOztL9ME+0rc4MVDz+5UXHJC5VU/iYll65jxaOP/U/Rx5Zra+QdSi1RxYpXS16oiJMbtbHSgzobkH12R/yBWQo7u1trqvSSw5ZdbL29nykg86RWVn3KpaZGSWOU7lda62O6WzG7M12Nd41RanBlba5wtxUPTj+q+vsme7+mq2h7oibf1FSUxojiMu7lHDt8PkYUh3HvKtqeqMk3NRW1MaI4jHtFaowoDuPeVbQ9FUZNefWgFzLMnO36ZZaenq4SJUpo5syZ6ty5sxXv0aOHjh8/rm+//TbPeUeOHKlhw4bpxx9/VKNGjfKczt2R7piYGB05ckQhISGS2FOTn5pq/GuuS45Xwp5Pb+7N3Rn08JW359Pbe3NfOXrVbE/U5Juaqg+YW2TGiOIy7m0L7ukSv+qO+Hha08BjV832RE2+qanagLlFaowoDuPe9uAElxyL1d9Gvhj3LhjHruTtqTBqOnXqlEJDQ5Wammr1lu749Eh3QECAGjZsqMTERKvpzropWt++ffOc780339Rrr72m77///qINtyQFBgYqMDAwV9zPz09+fq7lZ72hF8r6cPMbv3C5BYkbhuE2nleOnsY9rSnDaeQRzx0z84wbbuNOGXK6i5uGnG52CTlMQw438UzTOL/yfMa9WZNNTtnMdDfx84Nurvj/D7oXOj+I5pZX3M/NOvOOm27jRh5xr9d0FW1P1OSbmorSGFFcxr0iNUYUh3HvKtqeqMk3NRW1MaI4jHtFaowoDuPeVbQ9FVZN+eHz08v79eunHj16qFGjRmrSpIlGjx6t06dPq2fP83vXu3fvrkqVKmn48OGSpDfeeEMDBw7UF198odjYWB08eFCSVKpUKZUqVcpndQAAAAAAcCGfN93dunVTcnKyBg4cqIMHD6pBgwZasGCBdXO1PXv2uOxp+PDDD5Wenq57773XZTmDBg3S4MGDL2fqAAAAAABclM+bbknq27dvnqeTL1682OXnXbt2eT8hAAAAAAAKgU+f0w0AAAAAwJWMphsAAAAAAC+h6QYAAAAAwEtougEAAAAA8BKabgAAAAAAvISmGwAAAAAAL6HpBgAAAADAS2i6AQAAAADwEppuAAAAAAC8hKYbAAAAAAAvoekGAAAAAMBLaLoBAAAAAPASmm4AAAAAALyEphsAAAAAAC+h6QYAAAAAwEtougEAAAAA8BKabgAAAAAAvISmGwAAAAAAL6HpBgAAAADAS2i6AQAAAADwEppuAAAAAAC8hKYbAAAAAAAvoekGAAAAAMBLaLoBAAAAAPASmm4AAAAAALyEphsAAAAAAC+h6QYAAAAAwEtougEAAAAA8BKabgAAAAAAvISmGwAAAAAAL6HpBgAAAADAS2i6AQAAAADwEppuAAAAAAC8hKYbAAAAAAAvoekGAAAAAMBLaLoBAAAAAPASmm4AAAAAALyEphsAAAAAAC+h6QYAAAAAwEt83nSPGTNGsbGxCgoKUtOmTbVixYo8p/3jjz90zz33KDY2VoZhaPTo0ZcvUQAAAAAAPOTTpnv69Onq16+fBg0apNWrV6t+/frq0KGDDh8+7Hb6M2fOqFq1ahoxYoSioqIuc7YAAAAAAHjGp033qFGj1KtXL/Xs2VO1a9fWuHHjVKJECU2YMMHt9I0bN9Zbb72l+++/X4GBgZc5WwAAAAAAPOOzpjs9PV2rVq1Su3btspOx2dSuXTstX77cV2kBAAAAAFBo/Hy14pSUFDkcDkVGRrrEIyMjtXnz5kJbT1pamtLS0qyfT5w4IUnKzMxUZmampPPNvs1mk9PplNPptKbNijscDpmmecm43W6XYRjWcnPGJcnhcOQr7ufnJ9M0XeKGYchut+fKMa94Ydfkb8uOSVKmUzIl+V+w2ybDKRmS/HLFDRkyXeKmKWWahmwyZXcXN0zZjey405QcpiG7YcqWI+4wJadpyM8wZeSMOyWncsfP5+7dmpyyyWlkb16GTNnNDDlll9OwW3GbHLKZDjkNu5zKETcdsskhh+EvU0aOeKZscuaK280MGTKVaQS45Gg3MySZcuSKp0sy5DD8XeJ+ZrrMC+LZuXu5pqtoe6Im39RUlMaI4jLuXTim+HSMKA7j3lW0PVGTb2oqamNEcRj3itQYURzGvatoeyqMmvLLZ0335TJ8+HANGTIkV3zNmjUqWbKkJCk8PFxxcXFKSkpScnKyNU10dLSio6O1detWpaamWvFq1aopIiJCGzdu1NmzZ614fHy8wsLCtGbNGpcPvF69egoICNDKlStdcmjUqJHS09O1fv16K2a329W4cWOlpqa67HwIDg5W/fr1lZKSop07d1rx0NBQ1apVS/v379e+ffuseGHX9FCc02XAnZlk06lMKaFG9hdSkiZts6mUn3Rv1ex4hlOatM2uSiWljtHZ8ePp0owku2qEmmodlf0F3ndGmr/XruvKmbq+XHZ8S6qhJQcNtYg0VTM0O776iKFVKYbaRzsVXSI7lyUHDW1JNdQl1qmwHGPQ/H027Tstr9aUUrq2doa3t+KhZ3ar1sFZ2l+mifaVucGKh5/cqLjkhUoqf5OSS9ex4tHH/qfoY8u1NfIOpZaoYsWrJS9UxMmN2ljpQZ0NKGvF4w/MUtjZ3VpTpZcctuxi6+39TAGZJ7Wy6lMuNTVKGqN0v9JaH9Pditmd6Wq8a4xSgytrc4W7rXhw+lHV3zfZ+zVdRdsTNfmmpqI0RhSXcS/n2OHzMaI4jHtX0fZETb6pqaiNEcVh3CtSY0RxGPeuou2pMGoKCgpSfhhmznb9MkpPT1eJEiU0c+ZMde7c2Yr36NFDx48f17fffnvR+WNjY/Xcc8/pueeeu+h07o50x8TE6MiRIwoJCZHEnpr81FTjX3NdcrwS9nx6c2/uzqCHr7w9n97em/vK0atme6Im39RUfcDcIjNGFJdxb1twT5f4VXfEx9OaBh67arYnavJNTdUGzC1SY0RxGPe2Bye45Fis/jbyxbh3wTh2JW9PhVHTqVOnFBoaqtTUVKu3dMdnR7oDAgLUsGFDJSYmWk230+lUYmKi+vbtW2jrCQwMdHvTNT8/P/n5uZaf9YZeKOvDzW/8wuUWJG4Yhtt4Xjl6Gve0pgynkUc8d8zMM264jTtlyOkubhpyutkl5DANOdzEM03j/MrzGfdmTTY5ZTPT3cTPD7q54v8/6F7o/CCaW15xPzfrzDtuuo0becS9XtNVtD1Rk29qKkpjRHEZ94rUGFEcxr2raHuiJt/UVNTGiOIw7hWpMaI4jHtX0fZUWDXlh09PL+/Xr5969OihRo0aqUmTJho9erROnz6tnj3P71nv3r27KlWqpOHDh0s6f3T8zz//tP7/r7/+0tq1a1WqVClVr17dZ3UAAAAAAOCOT5vubt26KTk5WQMHDtTBgwfVoEEDLViwwLq52p49e1z2Muzfv1/XXXed9fPIkSM1cuRItWnTRosXL77c6QMAAAAAcFE+v5Fa37598zyd/MJGOjY2Vj66BB0AAAAAAI/57DndAAAAAABc6Wi6AQAAAADwEppuAAAAAAC8hKYbAAAAAAAvoekGAAAAAMBLaLoBAAAAAPASmm4AAAAAALyEphsAAAAAAC+h6QYAAAAAwEtougEAAAAA8BKabgAAAAAAvISmGwAAAAAAL6HpBgAAAADAS2i6AQAAAADwEppuAAAAAAC8hKYbAAAAAAAvoekGAAAAAMBLaLoBAAAAAPASmm4AAAAAALyEphsAAAAAAC+h6QYAAAAAwEtougEAAAAA8BKabgAAAAAAvISmGwAAAAAAL6HpBgAAAADAS2i6AQAAAADwEppuAAAAAAC8hKYbAAAAAAAvoekGAAAAAMBLaLoBAAAAAPASmm4AAAAAALyEphsAAAAAAC+h6QYAAAAAwEtougEAAAAA8BKabgAAAAAAvISmGwAAAAAAL6HpBgAAAADAS2i6AQAAAADwEppuAAAAAAC8hKYbAAAAAAAvKRJN95gxYxQbG6ugoCA1bdpUK1asuOj0M2bMUHx8vIKCglS3bl199913lylTAAAAAADyz+dN9/Tp09WvXz8NGjRIq1evVv369dWhQwcdPnzY7fTLli3TAw88oEcffVRr1qxR586d1blzZ23cuPEyZw4AAAAAwMX5vOkeNWqUevXqpZ49e6p27doaN26cSpQooQkTJrid/t1339Wtt96qF198UbVq1dLQoUN1/fXX64MPPrjMmQMAAAAAcHF+vlx5enq6Vq1apQEDBlgxm82mdu3aafny5W7nWb58ufr16+cS69Chg2bPnu12+rS0NKWlpVk/p6amSpKOHj2qzMxMa502m01Op1NOp9MlF5vNJofDIdM0Lxm32+0yDMNabs64JDkcjnzF/fz8ZJqmS9wwDNnt9lw55hUv7JrsGaddcsx0SqYk/wt222Q4JUOSX664IUOmS9w0pUzTkE2m7O7ihim7kR13mpLDNGQ3TNlyxB2m5DQN+RmmjJxxp+RU7vj53A3527LrLOyajhuGnLJbcUOm7MqUU3Y5c+zrsskpmxx5xh3ykykjR9whm5y54nZlypCpTPm75GhXpiRTjlzxDEmGHBcMAX7KkHlBPDt3m3drOnbsqtmeqMk3NdnSTxeZMaK4jHtHjSI0RhSHce/48atme6Im39Sk9NNFaowoDuPeheNYsfrbyBfj3gXj2JW8PRVGTadOnZIkl7g7Pm26U1JS5HA4FBkZ6RKPjIzU5s2b3c5z8OBBt9MfPHjQ7fTDhw/XkCFDcsWrVq1awKyBSyvj6wSKoxFlfZ0BgAuU83UCxc0IRn+gqGEc8xDjWIGcPHlSoaGheb7u06b7chgwYIDLkXGn06mjR4+qXLlyMnLuDgMKyYkTJxQTE6O9e/cqJCTE1+kAQIEwlgEo7hjH4G2maerkyZOqWLHiRafzadNdvnx52e12HTp0yCV+6NAhRUVFuZ0nKirKo+kDAwMVGBjoEgsLCyt40kA+hYSEMMADKPYYywAUd4xj8KaLHeHO4tMbqQUEBKhhw4ZKTEy0Yk6nU4mJiWrWrJnbeZo1a+YyvSQtXLgwz+kBAAAAAPAVn59e3q9fP/Xo0UONGjVSkyZNNHr0aJ0+fVo9e/aUJHXv3l2VKlXS8OHDJUnPPvus2rRpo7ffflu33367pk2bppUrV+rjjz/2ZRkAAAAAAOTi86a7W7duSk5O1sCBA3Xw4EE1aNBACxYssG6WtmfPHtls2Qfkmzdvri+++EL/+c9/9K9//Us1atTQ7NmzVadOHV+VALgIDAzUoEGDcl3WAADFCWMZgOKOcQxFhWFe6v7mAAAAAACgQHx6TTcAAAAAAFcymm4AAAAAALyEphsAAAAAAC+h6QYKUWZmpq9TAIC/5dixY75OAQD+trS0NF+nAFhouoFCsm3bNr366qtyOp1yOp2+TgcAPJaSkqK6detqxYoVvk4FAAps27Zt6tKli/bu3evrVABJNN1AoZkyZYq++OIL2Ww2l8fcAUBxcfLkSdlsNh6vA6DYWr9+vZo0aaIFCxZw5g6KDDoD4G/Keupe8+bNFRAQoHPnzvk4IwAomKpVq6pChQr67rvvJImzdgAUK2vXrtUNN9ygBx54QHXr1tXOnTslZf+tBvgKTTfwNxmGIen8H6u7du3SsmXLfJwRAHguq8GuXLmy9YcqZ+0AKC7WrVun5s2bq1+/fho7dqxSUlK0b98+Sdl/qwG+wm9ToIB27dqlCRMmKCkpSQcPHlTVqlVVo0YNnTp1SpLkcDisadnDCqAo2rlzp8aMGaPNmzfrr7/+kiR16dJFu3fvVnp6uss4BgBF1erVq9WqVSs9//zzGjZsmKTzOxCzTi/n7zD4mp+vEwCKo/T0dD399NNavXq1bDabzp07p1tuuUUbNmzQxIkTVbt2bQUEBKhy5cqS2MMKoOjJyMjQgAED9L///U9vv/22jhw5oubNm2v79u06efKkkpOTValSJTmdTo54Ayiyjh49qltuuUW9evXSa6+9ZsWjoqK0ZcsWSefP5LHb7b5KEZBhsusHKJCTJ0+qdOnSWrNmjTZv3qx9+/Zp0qRJ2rRpkypVqqTMzEzVqVNHlSpVUqNGjdSiRQtdd911vk4bACxnzpxRiRIltG3bNm3atEl79uzRkiVL9Oeffyo2NlaffvqpIiMj5XA4+IMVQJGUnp6udevWqXHjxpJkjVePPPKIDh06pHnz5rlMP2rUKDVr1kzNmjXzRbq4StF0AwVkmmauI9hvvfWW1q9frxdeeEHJyclavHix1qxZo2PHjumzzz5TjRo1fJQtAOTmbhyTpNmzZ2vkyJEqVaqUpkyZovDwcI54AygWsprukSNH6r///a9+/vlna6wbNGiQhg0bprVr16pu3bq+ThVXEZpuoBDNmDFDjz/+uDZu3KhKlSpZ8dOnT6tkyZI+zAwALi2rsXY6nZoxY4Y++ugjnT17Vv/9739Vvnx5X6cHAPk2adIkvfzyy9q0aZPKlCmjQYMG6c0339Svv/6qhg0b+jo9XGW4phsoJKZpqm7duipdurT12LCsva0lSpTwcXYAcGk2m02macpms+m+++5TWlqapk2bpjNnzvg6NQDwSGRkpEzTVOnSpTVs2DAabvgUR7qBQhYfH6/+/fvrscce83UqAFAgWadimqapU6dOqXTp0r5OCQA8smfPHt1yyy2Kj4/X/PnztWzZMhpu+AxHuoFCkvVHanBwsJKSknydDgAUWFbDbRgGDTeAYskwDG3dulVJSUlasWKF6tev7+uUcBXjjihAIcm6GdHjjz+uBx54wMfZAMDfw6MOARRnFStW1Kuvvqp169bRcMPnOL0cKGR53Q0YAAAAlw+PO0RRQdMNAAAAAICXcHo5AAAAAABeQtMNAAAAAICX0HQDAAAAAOAlNN0AAAAAAHgJTTcAAAAAAF5C0w0AAAAAgJfQdAMAgHxZvHixDMPQ8ePH8z1PbGysRo8e7bWcAAAo6mi6AQC4QiQkJMgwDD3xxBO5XnvqqadkGIYSEhIuf2IAAFzFaLoBALiCxMTEaNq0aTp79qwVO3funL744gtVrlzZh5kBAHB1oukGAOAKcv311ysmJkazZs2yYrNmzVLlypV13XXXWbG0tDQ988wzioiIUFBQkFq2bKnff//dZVnfffedrrnmGv1fO/cPku4Wx3H8E/4KJBCCWoJo0AgbihyKCocmDWnJURuyogIRF6upsYJoCcIgKgsKGoRqqjHQCIIwB6VMStqbMiIh7/ADudId73N/N3m/tnO+z3PO+Y4fnj9ms1nDw8N6fn7+tl8ikZDT6ZTZbFZbW5tCoZCKxaJh/QEA8NMQugEAqDGBQEB7e3uV8e7uriYmJqqumZ+fVzwe1/7+vm5vb2Wz2eRyufT6+ipJenl50djYmEZHR5VKpTQ1NaXFxcWqNfL5vNxut7xer9LptI6Pj5VIJBQMBo1vEgCAH4LQDQBAjfH7/UokEioUCioUCkomk/L7/ZV6sVhUNBrV2tqaRkZG1NXVpe3tbZnNZu3s7EiSotGorFar1tfX1dnZKZ/P9+178JWVFfl8PoXDYXV0dGhwcFAbGxs6ODjQx8fHf9kyAAD/W7/+9AEAAMC/q6WlRR6PR7FYTOVyWR6PR83NzZV6Pp9XqVTS0NBQZa6+vl59fX3KZrOSpGw2q/7+/qp1BwYGqsZ3d3dKp9M6PDyszJXLZX19fenp6Ul2u92I9gAA+FEI3QAA1KBAIFB5zXtzc9OQPd7e3jQzM6NQKPStxk/bAAD4jdANAEANcrvd+vz8VF1dnVwuV1XNarWqoaFByWRS7e3tkqRSqaSbmxuFw2FJkt1u19nZWdV919fXVWOHw6FMJiObzWZcIwAA/HB80w0AQA0ymUzKZrPKZDIymUxVtcbGRs3NzSkSiej8/FyZTEbT09N6f3/X5OSkJGl2dla5XE6RSET39/c6OjpSLBarWmdhYUFXV1cKBoNKpVLK5XI6PT3lR2oAAPwNoRsAgBplsVhksVj+sba6uiqv16vx8XE5HA49Pj7q4uJCTU1Nkn6/Hh6Px3VycqKenh5tbW1peXm5ao3u7m5dXl7q4eFBTqdTvb29WlpaUmtrq+G9AQDwU9SVy+Xynz4EAAAAAAC1iCfdAAAAAAAYhNANAAAAAIBBCN0AAAAAABiE0A0AAAAAgEEI3QAAAAAAGITQDQAAAACAQQjdAAAAAAAYhNANAAAAAIBBCN0AAAAAABiE0A0AAAAAgEEI3QAAAAAAGITQDQAAAACAQf4Cait0rV8YLZkAAAAASUVORK5CYII=",
      "text/plain": [
       "<Figure size 1000x500 with 1 Axes>"
      ]
     },
     "metadata": {},
     "output_type": "display_data"
    }
   ],
   "source": [
    "import pandas as pd\n",
    "import matplotlib.pyplot as plt\n",
    "\n",
    "\n",
    "df_mmlu = pd.read_csv(\"data/task_2/lm_scores_mmlu.csv\")\n",
    "df_mmlu_shuffle = pd.read_csv(\"data/task_2_5/lm_scores_mmlu_shuffle.csv\")\n",
    "\n",
    "# Step 1: Identify Unique Models\n",
    "models = df_mmlu[\"model_name\"].unique()\n",
    "\n",
    "# Step 2: Compute Original Accuracy Per Model\n",
    "original_accuracy = df_mmlu.groupby(\"model_name\")[\"correct\"].mean()\n",
    "\n",
    "# Step 3: Compute Test-Retest Metric Per Model\n",
    "test_retest_scores = {}\n",
    "\n",
    "for model in models:\n",
    "    df_orig_model = df_mmlu[df_mmlu[\"model_name\"] == model]\n",
    "    df_shuf_model = df_mmlu_shuffle[df_mmlu_shuffle[\"model_name\"] == model]\n",
    "\n",
    "    # Merge on 'question_id'\n",
    "    merged = df_orig_model.merge(\n",
    "        df_shuf_model,\n",
    "        on=\"question_id\",\n",
    "        suffixes=(\"_orig\", \"_shuf\")\n",
    "    )\n",
    "    \n",
    "    # Number of unique questions (N)\n",
    "    N = merged[\"question_id\"].nunique()\n",
    "    # Number of shuffled versions per question (M)\n",
    "    M = len(df_shuf_model) / N\n",
    "    print(f\"Model: {model}, N: {N}, M: {M}\")\n",
    "\n",
    "    # Compute test-retest metric\n",
    "    test_retest_metric = (merged[\"correct_orig\"] * merged[\"correct_shuf\"]).sum() / (N * M)\n",
    "    test_retest_scores[model] = test_retest_metric\n",
    "\n",
    "# Step 4: Create Results DataFrame\n",
    "df_results = pd.DataFrame({\n",
    "    \"Model\": models,\n",
    "    \"Original Accuracy\": original_accuracy.values,\n",
    "    \"Test-Retest Score\": [test_retest_scores[model] for model in models]\n",
    "})\n",
    "\n",
    "df_results.sort_values(\"Model\", inplace=True)\n",
    "df_results.reset_index(drop=True, inplace=True)\n",
    "\n",
    "print(df_results)\n",
    "\n",
    "# Step 5: Plot the Results as a Grouped Bar Chart\n",
    "plt.figure(figsize=(10, 5))\n",
    "df_results.set_index(\"Model\").plot(kind=\"bar\", figsize=(10, 5))\n",
    "plt.title(\"Comparison of Original Accuracy and Test-Retest Score per Model\")\n",
    "plt.xlabel(\"Model\")\n",
    "plt.ylabel(\"Score / Accuracy\")\n",
    "plt.xticks(rotation=45)\n",
    "plt.grid(axis=\"y\", linestyle=\"--\", alpha=0.7)\n",
    "plt.legend(title=\"Metrics\")\n",
    "plt.tight_layout()\n",
    "plt.show()\n"
   ]
  },
  {
   "cell_type": "markdown",
   "id": "62d52d93",
   "metadata": {},
   "source": [
    "### 2.7 (2 pt)\n",
    "\n",
    "A. Using the unshuffled data: For each LM, print the distribution of the answers they give as well as the accuracy conditioned on the answer they give.\n",
    "\n",
    "B. /Discuss:/ Describe what you observe\n",
    "\n",
    "[bonus: not scored, but again _that sweet, sweet knowledge_] Could you think of a plausible explanation?"
   ]
  },
  {
   "cell_type": "code",
   "execution_count": 24,
   "id": "579c30cf",
   "metadata": {},
   "outputs": [
    {
     "name": "stdout",
     "output_type": "stream",
     "text": [
      "Answer Distribution per Model:\n",
      "result             A         B         C         D\n",
      "model_name                                        \n",
      "X           0.364142  0.227343  0.205968  0.202548\n",
      "Y           0.091655  0.192886  0.257780  0.457678\n",
      "Z           0.186047  0.246666  0.276761  0.290527\n",
      "\n",
      "Accuracy per Answer per Model:\n",
      "result             A         B         C         D\n",
      "model_name                                        \n",
      "X           0.367927  0.884543  1.000000  1.000000\n",
      "Y           0.937500  0.897606  0.827861  0.631608\n",
      "Z           0.476103  0.654073  0.703429  0.727487\n"
     ]
    }
   ],
   "source": [
    "#A\n",
    "\n",
    "#Using the unshuffled data: For each LM, print the distribution of the answers they give as well as the accuracy conditioned on the answer they give.\n",
    "\n",
    "# Compute the distribution of answers and accuracy for each model\n",
    "answer_distribution = df_mmlu.groupby(\"model_name\")[\"result\"].value_counts(normalize=True)\n",
    "accuracy_per_answer = df_mmlu.groupby([\"model_name\", \"result\"])[\"correct\"].mean()\n",
    "\n",
    "# Display the results\n",
    "print(\"Answer Distribution per Model:\")\n",
    "print(answer_distribution.unstack().fillna(0))\n",
    "print(\"\\nAccuracy per Answer per Model:\")\n",
    "print(accuracy_per_answer.unstack().fillna(0))\n"
   ]
  },
  {
   "cell_type": "markdown",
   "id": "e9b4c2e8",
   "metadata": {},
   "source": [
    "B. /Discuss:/"
   ]
  },
  {
   "cell_type": "markdown",
   "id": "2d45a77b",
   "metadata": {},
   "source": [
    "## Task 3 (16 points): What do Questions and Answers look like for a Language Model?\n",
    "\n",
    "While you feel pretty good about the tests you conducted so far, something still bothers you: what if the language models don't see the data like you do? Suddenly, you receive a phone call from a wise AI sage based in Maastricht named Yodata:\n",
    "\n",
    "```\n",
    "\"Hmmm, correct you are, jonge padawan, to question how the wereld is seen by large language models! Simple 'text,' it is not, nee nee nee! Characters and words, the way of gewone humans, this is not, heh heh heh.\n",
    "\n",
    "'Tokens,' they use, ja! Mysterious and powerful, these tokens are. Expand our vocabulary, they do, beyond the simple 'a to Z.' Chunky blocks of text, they become, yes! 'Hello world,' a simple phrase it may seem. But to a language model, '[24912, 2375]' it might appear, hmm? Verwarrend, it is!\n",
    "\n",
    "Wise, it would be, to explore these MMLU data points through the eyes of a language model, you think? Yes, yes! Much to learn, there is. The ways of the tokens, understand you must, if truly comprehend the great LMs, you wish to.\n",
    "\n",
    "Meditate on this, you should. The force of natural language processing, strong it is. But geduld, you must have, my jonge padawan. For only through great study and contemplation, will the mysteries of the tokens reveal themselves to you, they will. Ja, hmmm!\"\n",
    "```\n",
    "\n",
    "Admittingly, Yodata at times speaks in riddles... However, he was explaining a crucial aspect of modern LMs called [Tokenization](https://learn.microsoft.com/en-us/dotnet/ai/conceptual/understanding-tokens):\n",
    "\n",
    "\n",
    "“Tokens are words, character sets, or combinations of words and punctuation that are used by [language models (LMs)] to decompose text into. Tokenization is the first step in training”\n",
    "\n",
    "Instead of characters, LMs process natural language using “tokens”. While this is useful for a number of reasons, it does at times introduce some “unintuitive” behavior…"
   ]
  },
  {
   "cell_type": "code",
   "execution_count": 25,
   "id": "001c4c53",
   "metadata": {},
   "outputs": [
    {
     "name": "stdout",
     "output_type": "stream",
     "text": [
      "humans see: \"hello world\" --> language models see: [24912, 2375]\n"
     ]
    }
   ],
   "source": [
    "# PROVIDED CODE\n",
    "\n",
    "try:\n",
    "    import tiktoken\n",
    "except Exception as e:\n",
    "    print('installing tiktoken package')\n",
    "    \n",
    "    ! pip install tiktoken\n",
    "    \n",
    "    import tiktoken\n",
    "\n",
    "def tokenize_text(s):\n",
    "    enc = tiktoken.encoding_for_model('gpt-4o')\n",
    "    tokens = enc.encode(str(s))\n",
    "    return tokens\n",
    "\n",
    "example_string = 'hello world'\n",
    "print(f'humans see: \"{example_string}\" --> language models see: {tokenize_text(example_string)}')"
   ]
  },
  {
   "cell_type": "markdown",
   "id": "0ab56227",
   "metadata": {},
   "source": [
    "### 3.1 (5 pt)\n",
    "\n",
    "Use the provided code in the cell above to \"see the world through the eyes of a language model\":\n",
    "\n",
    "A. Tokenize the questions of the original MMLU data provided in task 1: `task_1/mmlu_data/test.csv` and plot the token distribution (the frequency of each token).\n",
    "\n",
    "B. Same as (A), but now for the answers in columns (columns \"A\", \"B\", \"C\", and \"D\").\n",
    "\n",
    "C. Isolate the tokens for the strings \"A\", \"B\", \"C\", and \"D\", then, for their occurances in both questions and answers, print their relative distribution to each other.\n",
    "\n",
    "**hint**\n",
    "- There are a _lot_ of tokens, consider using a cutoff point and log scale\n",
    "- For (c), they should sum to 1"
   ]
  },
  {
   "cell_type": "code",
   "execution_count": 26,
   "id": "a00f69cf",
   "metadata": {
    "scrolled": true
   },
   "outputs": [
    {
     "data": {
      "image/png": "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",
      "text/plain": [
       "<Figure size 1200x600 with 1 Axes>"
      ]
     },
     "metadata": {},
     "output_type": "display_data"
    }
   ],
   "source": [
    "#A\n",
    "\n",
    "from collections import Counter\n",
    "import matplotlib.ticker as ticker\n",
    "\n",
    "# Load the MMLU data from CSV (adjust the path if necessary)\n",
    "df = pd.read_csv(\"data/task_1/mmlu_data/test.csv\")\n",
    "\n",
    "# Extract the questions (assuming the questions are in the \"question\" column)\n",
    "questions = df[\"question\"].dropna().tolist()\n",
    "\n",
    "# Tokenize each question and accumulate all tokens\n",
    "all_tokens = []\n",
    "for question in questions:\n",
    "    all_tokens.extend(tokenize_text(question))\n",
    "\n",
    "# Count the frequency of each token\n",
    "token_counts = Counter(all_tokens)\n",
    "\n",
    "# For visualization, select the top 50 most common tokens\n",
    "top_tokens = token_counts.most_common(50)\n",
    "tokens, counts = zip(*top_tokens)\n",
    "\n",
    "# Plot the token frequency distribution\n",
    "plt.figure(figsize=(12, 6))\n",
    "plt.bar([str(token) for token in tokens], counts)\n",
    "\n",
    "# Set the y-axis to log scale\n",
    "plt.yscale('log')\n",
    "\n",
    "# Customize the y-axis ticks:\n",
    "# This locator places ticks at every integer multiple in each decade (e.g., 1, 2, 3, ..., 9, 10, 20, ..., etc.)\n",
    "ax = plt.gca()\n",
    "ax.yaxis.set_major_locator(ticker.LogLocator(base=10, subs=np.arange(1, 10)))\n",
    "ax.yaxis.set_major_formatter(ticker.ScalarFormatter())\n",
    "\n",
    "plt.xlabel(\"Token ID\")\n",
    "plt.ylabel(\"Frequency\")\n",
    "plt.title(\"Top 50 Token Frequencies in Questions\")\n",
    "plt.xticks(rotation=90)\n",
    "plt.tight_layout()\n",
    "plt.show()\n",
    "\n",
    "\n"
   ]
  },
  {
   "cell_type": "code",
   "execution_count": 27,
   "id": "7f4ce783",
   "metadata": {},
   "outputs": [
    {
     "data": {
      "image/png": "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",
      "text/plain": [
       "<Figure size 1200x600 with 1 Axes>"
      ]
     },
     "metadata": {},
     "output_type": "display_data"
    }
   ],
   "source": [
    "#B\n",
    "\n",
    "import pandas as pd\n",
    "import matplotlib.pyplot as plt\n",
    "from collections import Counter\n",
    "import numpy as np\n",
    "import matplotlib.ticker as ticker\n",
    "\n",
    "# Load the MMLU data from CSV (adjust the path if necessary)\n",
    "df = pd.read_csv(\"data/task_1/mmlu_data/test.csv\")\n",
    "\n",
    "# The answer options are assumed to be in columns \"A\", \"B\", \"C\", and \"D\".\n",
    "answer_columns = [\"A\", \"B\", \"C\", \"D\"]\n",
    "\n",
    "# Initialize a list to store tokens for all answer options.\n",
    "all_answer_tokens = []\n",
    "\n",
    "# Loop through each answer column and tokenize each answer.\n",
    "for col in answer_columns:\n",
    "    answers = df[col].dropna().tolist()\n",
    "    for answer in answers:\n",
    "        all_answer_tokens.extend(tokenize_text(answer))\n",
    "\n",
    "# Count the frequency of each token.\n",
    "token_counts = Counter(all_answer_tokens)\n",
    "\n",
    "# For visualization, select the top 50 most common tokens.\n",
    "top_tokens = token_counts.most_common(50)\n",
    "tokens, counts = zip(*top_tokens)\n",
    "\n",
    "# Create the bar plot for the token frequency distribution.\n",
    "plt.figure(figsize=(12, 6))\n",
    "plt.bar([str(token) for token in tokens], counts)\n",
    "\n",
    "# Set the y-axis to a logarithmic scale.\n",
    "plt.yscale('log')\n",
    "\n",
    "# Customize the y-axis ticks:\n",
    "# The following will create ticks at every integer multiple between powers of 10 (e.g., 1, 2, ... 9, 10, 20, ...)\n",
    "ax = plt.gca()\n",
    "ax.yaxis.set_major_locator(ticker.LogLocator(base=10, subs=np.arange(1, 10)))\n",
    "ax.yaxis.set_major_formatter(ticker.ScalarFormatter())\n",
    "\n",
    "plt.xlabel(\"Token ID\")\n",
    "plt.ylabel(\"Frequency\")\n",
    "plt.title(\"Top 50 Token Frequencies in Answer Options\")\n",
    "plt.xticks(rotation=90)\n",
    "plt.tight_layout()\n",
    "plt.show()\n"
   ]
  },
  {
   "cell_type": "code",
   "execution_count": 28,
   "id": "8015e92e",
   "metadata": {},
   "outputs": [
    {
     "name": "stdout",
     "output_type": "stream",
     "text": [
      "Relative distribution of tokens for 'A', 'B', 'C', and 'D':\n",
      "  A: 0.7917 (raw count: 3314)\n",
      "  B: 0.0602 (raw count: 252)\n",
      "  C: 0.1015 (raw count: 425)\n",
      "  D: 0.0466 (raw count: 195)\n"
     ]
    }
   ],
   "source": [
    "#C\n",
    "df = pd.read_csv(\"data/task_1/mmlu_data/test.csv\")\n",
    "\n",
    "# Initialize a list to store tokens from both questions and answers\n",
    "all_tokens = []\n",
    "\n",
    "# Tokenize the questions (assuming they are in the \"question\" column)\n",
    "questions = df[\"question\"].dropna().tolist()\n",
    "for question in questions:\n",
    "    all_tokens.extend(tokenize_text(question))\n",
    "\n",
    "# Tokenize the answer options (columns \"A\", \"B\", \"C\", and \"D\")\n",
    "answer_columns = [\"A\", \"B\", \"C\", \"D\"]\n",
    "for col in answer_columns:\n",
    "    answers = df[col].dropna().tolist()\n",
    "    for answer in answers:\n",
    "        all_tokens.extend(tokenize_text(answer))\n",
    "\n",
    "# Count the frequency of each token in the combined list\n",
    "combined_counter = Counter(all_tokens)\n",
    "\n",
    "# For each of the strings \"A\", \"B\", \"C\", and \"D\", find its token representation.\n",
    "# (We assume that tokenizing a single letter returns a list with one token.)\n",
    "letters = [\"A\", \"B\", \"C\", \"D\"]\n",
    "letter_tokens = {letter: tokenize_text(letter)[0] for letter in letters}\n",
    "\n",
    "# Extract the raw counts for each letter token from the combined counter.\n",
    "letter_counts = {letter: combined_counter[letter_tokens[letter]] for letter in letters}\n",
    "\n",
    "# Compute the total count for these letter tokens.\n",
    "total_letter_count = sum(letter_counts.values())\n",
    "\n",
    "print(\"Relative distribution of tokens for 'A', 'B', 'C', and 'D':\")\n",
    "for letter in letters:\n",
    "    relative_frequency = letter_counts[letter] / total_letter_count if total_letter_count else 0\n",
    "    print(f\"  {letter}: {relative_frequency:.4f} (raw count: {letter_counts[letter]})\")\n"
   ]
  },
  {
   "cell_type": "markdown",
   "id": "2a9d0055",
   "metadata": {},
   "source": [
    "### 3.2 (3 pt)\n",
    "\n",
    "What if the number of \"A\", \"B\", \"C\", and \"D\" tokens in the question and answer pairs could influence a language model's decisions?\n",
    "\n",
    "A. For each question-answer pair, compute: \n",
    "1. the number of \"A\", \"B\", \"C\", and \"D\" tokens that occur in the combined question and answers; \n",
    "2. an the total number of tokens.\n",
    "3. then, group by the \"correct\" answer and compute the mean frequency of A, B, C, and D tokens and the total number of tokens. \n",
    "4. finally, print your results\n",
    "\n",
    "B. /Discuss:/ What do you think of the hypothesis that the frequency of A, B, C, and D tokens could influence answers?\n"
   ]
  },
  {
   "cell_type": "code",
   "execution_count": null,
   "id": "cf09aaf6",
   "metadata": {},
   "outputs": [
    {
     "name": "stdout",
     "output_type": "stream",
     "text": [
      "Mean token counts by correct answer (per question-answer pair):\n",
      "         count_A   count_B   count_C   count_D  total_tokens\n",
      "answer                                                      \n",
      "A       0.157045  0.007138  0.012725  0.004345     92.819677\n",
      "B       0.167244  0.010976  0.010976  0.004910     88.619295\n",
      "C       0.158012  0.009771  0.016192  0.005304     92.449470\n",
      "D       0.165784  0.005032  0.017214  0.005032     91.853814\n"
     ]
    }
   ],
   "source": [
    "#A\n",
    "\n",
    "import pandas as pd\n",
    "from collections import Counter\n",
    "import numpy as np\n",
    "\n",
    "# Assume that tokenize_text is defined (using tiktoken as in the provided code)\n",
    "# Example:\n",
    "# def tokenize_text(s):\n",
    "#     enc = tiktoken.encoding_for_model('gpt-4o')\n",
    "#     tokens = enc.encode(str(s))\n",
    "#     return tokens\n",
    "\n",
    "# Define the tokens corresponding to the letters \"A\", \"B\", \"C\", and \"D\"\n",
    "letters = [\"A\", \"B\", \"C\", \"D\"]\n",
    "letter_tokens = {letter: tokenize_text(letter)[0] for letter in letters}\n",
    "\n",
    "# Load the MMLU data\n",
    "df = pd.read_csv(\"data/task_1/mmlu_data/test.csv\")\n",
    "\n",
    "def compute_token_stats(row):\n",
    "    \"\"\"\n",
    "    For a given row (a single question-answer pair), compute:\n",
    "    1. The counts for tokens corresponding to \"A\", \"B\", \"C\", and \"D\"\n",
    "    2. The total number of tokens in the combined text.\n",
    "    \"\"\"\n",
    "    # Gather the text components. Use empty strings for missing values.\n",
    "    question_text = str(row[\"question\"]) if pd.notnull(row[\"question\"]) else \"\"\n",
    "    # For answer options, assume columns \"A\", \"B\", \"C\", \"D\"\n",
    "    answers = []\n",
    "    for col in [\"A\", \"B\", \"C\", \"D\"]:\n",
    "        answers.append(str(row[col]) if pd.notnull(row[col]) else \"\")\n",
    "    \n",
    "    # Combine question and all answer options\n",
    "    combined_text = \" \".join([question_text] + answers)\n",
    "    \n",
    "    # Tokenize the combined text\n",
    "    tokens = tokenize_text(combined_text)\n",
    "    total_tokens = len(tokens)\n",
    "    \n",
    "    # Count occurrences of each token in this pair\n",
    "    token_counter = Counter(tokens)\n",
    "    # Get the counts for each letter token\n",
    "    counts = {f\"count_{letter}\": token_counter[letter_tokens[letter]] for letter in letters}\n",
    "    counts[\"total_tokens\"] = total_tokens\n",
    "    return pd.Series(counts)\n",
    "\n",
    "# Apply the function row-wise to compute token counts for each question-answer pair.\n",
    "df_token_stats = df.apply(compute_token_stats, axis=1)\n",
    "\n",
    "# Merge the computed statistics back into the original DataFrame.\n",
    "df_combined = pd.concat([df, df_token_stats], axis=1)\n",
    "\n",
    "# Group by the \"correct\" answer and compute the mean counts for each letter and the total tokens.\n",
    "grouped_results = df_combined.groupby(\"answer\")[[\"count_A\", \"count_B\", \"count_C\", \"count_D\", \"total_tokens\"]].mean()\n",
    "\n",
    "# Print the results.\n",
    "print(\"Mean token counts by correct answer (per question-answer pair):\")\n",
    "print(grouped_results)\n",
    "\n",
    "#very possible wrong\n",
    "\n"
   ]
  },
  {
   "cell_type": "markdown",
   "id": "020511d4",
   "metadata": {},
   "source": [
    "B. /Discuss:/"
   ]
  },
  {
   "cell_type": "markdown",
   "id": "c2b42b74",
   "metadata": {},
   "source": [
    "### 3.3 (4 pt)\n",
    "\n",
    "Three of the most important considerations when deciding between language models are:\n",
    "\n",
    "Quality\n",
    "Costs\n",
    "Speed\n",
    "\n",
    "So far, much of your analysis has focused on quality. However, the government has indicated that they are quite concerned about both the total costs and speed as well. Specifically, it has been brought to their attention that a new `turbo` model has been launched! \n",
    "\n",
    "This model is both cheaper and faster than the models you evaluated so far. However, there is a catch: the context length* is much smaller than that of the other LMS. Namely, it can only process **300** tokens during inference. Meanwhile, the other models can process up to 100K tokens! \n",
    "\n",
    "*_The “context length” refers to the number of tokens that can be given to an LM as input._\n",
    "\n",
    "A. Are there subjects where using the cheaper model might be problematic? I.e., where part of the question and answer(s) might not fit completely in the context?\n",
    "\n",
    "B. /Discuss:/ Can you think of a strategy that would balance the needs of the government?\n",
    "\n",
    "**hint**:\n",
    "- An LM needs to have both the question and the different answer options in its context"
   ]
  },
  {
   "cell_type": "code",
   "execution_count": 29,
   "id": "f365f2b6",
   "metadata": {},
   "outputs": [],
   "source": [
    "#A"
   ]
  },
  {
   "cell_type": "markdown",
   "id": "4231fdc6",
   "metadata": {},
   "source": [
    "B. /Discuss:/"
   ]
  },
  {
   "cell_type": "markdown",
   "id": "44558c5d",
   "metadata": {},
   "source": [
    "### 3.4 (4 pt)\n",
    "\n",
    "/Discuss:/ The time has come to give your final recommendation on the use of LMs in education to the government! Taking into account everything you analyzed in all the preceding tasks (1, 2, and 3), please write a short recommendation consisting of 4 bullet points discussing your concerns."
   ]
  },
  {
   "cell_type": "markdown",
   "id": "61c2e634",
   "metadata": {},
   "source": [
    "B. /Discuss:/\n",
    "\n",
    "1.\n",
    "\n",
    "2.\n",
    "\n",
    "3.\n",
    "\n",
    "4."
   ]
  }
 ],
 "metadata": {
  "kernelspec": {
   "display_name": "data_analysis_cours",
   "language": "python",
   "name": "python3"
  },
  "language_info": {
   "codemirror_mode": {
    "name": "ipython",
    "version": 3
   },
   "file_extension": ".py",
   "mimetype": "text/x-python",
   "name": "python",
   "nbconvert_exporter": "python",
   "pygments_lexer": "ipython3",
   "version": "3.11.11"
  }
 },
 "nbformat": 4,
 "nbformat_minor": 5
}
