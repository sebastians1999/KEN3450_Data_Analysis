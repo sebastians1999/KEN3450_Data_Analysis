{
 "cells": [
  {
   "cell_type": "markdown",
   "id": "7e3a9aff",
   "metadata": {},
   "source": [
    "(Group 24)\n",
    "\n",
    "(Benjamin Fletcher, Konrad Retzlaff, Sebastian Schmülling)\n",
    "\n",
    "(i6308020, i6331164, i6304238)"
   ]
  },
  {
   "cell_type": "markdown",
   "id": "5d5ab070",
   "metadata": {},
   "source": [
    "**Use of genAI tools (e.g. chatGPT), websites (e.g. stackoverflow)**: *list websites where you found code (or other info) as well as include information on how you used genAI tools*\n",
    "\n",
    "- **For the purpose of debugging, debugging plots and annoying dataframe looping we used ChatGPT and CoPilot (GPT, Claude ect.). To get information about packagages we referenced back to the package documentation.**\n",
    "\n",
    "- **Additionally, autocompletion was used, which may be noticeable in more generic-looking parts of the script.**"
   ]
  },
  {
   "cell_type": "markdown",
   "id": "2a108445",
   "metadata": {},
   "source": [
    "# Data Analysis, Clinic 1\n",
    "# FIETS: Fundamentele Innovatie En Technologie in Scholing\n",
    "## Met FIETS blijft het onderwijs vooruitgaan, zelfs tegen de wind in!\n",
    "\n",
    "---\n",
    "\n",
    "By completing and delivering the clinic tasks you will know how to :\n",
    "\n",
    "- Load data and handle data using pandas;\n",
    "- Navigate the documentation of Python packages by yourself;\n",
    "- Filter and tidy up **noisy** real-world datasets;\n",
    "- Aggregate your data in different (and hopefully helpful) ways;\n",
    "- Use EDA to learn more about your data\n",
    "- Create and interpret informative visualizations to explore the data set\n",
    "- Derive meaningful insights for the societal impact of datasets\n",
    "\n",
    "---\n",
    "**Important Dates.**\n",
    "\n",
    "- Clinic 1 release: Thu 30 Jan 2024\n",
    "- Clinic 1 due: Fri 07 Feb 2024 late night, wildcards available\n",
    "\n",
    "**Instructions for the deliverable:**\n",
    "\n",
    "* You are allowed to use any built-in Python library that comes with Anaconda. If you want to use an external library, you may do so, but must justify your choice.\n",
    "\n",
    "* Make sure that you include a proper amount/mix of comments, results and code. More specifically, be sure to provide a concise textual description of your thought process, the assumptions you made, the solution you implemented, and explanations for your answers. A notebook that only has code cells will not suffice. To avoid confusion: use short comments for longer code answers.\n",
    "\n",
    "* For questions containing the /Discuss:/ prefix, answer not with code, but with a textual explanation (in markdown).\n",
    "\n",
    "* Back up any hypotheses and claims with data, since this is an important aspect of the course.\n",
    "\n",
    "* Please write all your comments in English, and use meaningful variable names (as possible) in your code. \n",
    "\n",
    "* In the end, make sure that all cells are executed properly and everything you need to show is in your (execucted) notebook. We will not run your notebook for you! \n",
    "\n",
    "- In continuation to the previous point, interactive plots, such as those generated using the ‘plotly’ package, should be strictly avoided! Make sure to print results and/or dataframes that confirm you have properly addressed the task.\n",
    "\n",
    "* You are asked to deliver **only your executed notebook file, .ipnyb** and nothing else. If you deliver other files, we will not grade anything.\n",
    "\n",
    "* Honor code applies to these tasks. If you are not certain about an action, consult with Jerry.\n",
    "\n",
    "**A Note from Jerry on using Language Models (LMs)**\n",
    "\n",
    "If you try hard enough, you will likely get away with cheating (that does not only apply to LMs). Fortunately, my job is not to police, but rather to educate you. So, please consider the following:\n",
    "\n",
    "I assume that you are taking this course to learn something! LMs are not always right ([they often fail in silly ways](https://community.openai.com/t/why-9-11-is-larger-than-9-9-incredible/869824/4)). This course should prepare you to detect when they are wrong!\n",
    "\n",
    "I don't restrict the use of LMs because I see the value of being helped when coding (esp. in the context of pandas dataframes nightmare :)). Based on what we saw last year in your notebooks, it's pretty clear when you \"copy\" some code and then you struggle to interpret the results. This is the essence of this course and of the skills you should try build for yourself: Many people can run fancy models these days but not many people can interpret the results correctly. Try to be the latter ones.\n",
    "\n",
    "---"
   ]
  },
  {
   "cell_type": "markdown",
   "id": "f9b54879",
   "metadata": {},
   "source": [
    "## Context\n",
    "\n",
    "AI is booming! Newspapers, influencers and your relatives all agree that AI is important. But while almost everyone agrees that AI is the future, much is unclear about what that future esp. in critical sectors like education looks like...\n",
    "\n",
    "Freshly graduated from a top Dutch university in Limburg, you are hired by the Dutch government to advise on a large-scale “education innovation” initiative code-named \"FIETS\" (Flexibele Innovatie voor Efficiënte Toepassing in Scholing). With higher education facing severe budget cuts, the government is looking for creative solutions to \"do more with less.\" Convinced by the stunning progress in language modeling, officials believe LLMs could help battle growing teacher shortages and reduce costs by automating parts of the education process. Your job description: investigate which LMs might be best suited to plug the gaps without draining the budget!\n",
    "\n",
    "You are handed the results of three LMs on the [“Massive Multitask Language Understanding (MMLU)”](https://arxiv.org/abs/2009.03300) dataset  to compare. This famous dataset consists of 57 subjects with multiple-choice questions, covering diverse subjects like mathematics, computer science, history, and law. Most providers of state-of-the-art LMs use this dataset to showcase the versatility of their latest models. Unfortunately, the intern responsible for collecting the results, didn’t pay attention during DACS KEN3450: Data Analysis. As a result, the collected datasets are slightly corrupted. Jammer!\n",
    "\n",
    "The success of FIETS depends on your ability to make sense of the messy data and recommend the best model to keep the Dutch education system pedaling forward—despite uphill challenges like funding shortages and a skeptical academic community!\n",
    "\n",
    "### A very brief primer on Language Models\n",
    "We studied LLMs in the context of the NLP course but here is a short reminder. Language models (LMs) are sophisticated statistical models designed to understand and generate human-like text. At their core, LMs are trained to predict the most likely continuation of a given input text. For example, given the input \"The cat sat on the,\" an LM might predict \"mat\" as a likely continuation.\n",
    "LMs are trained on vast text samples from various sources, including books, websites, and social media. This extensive training allows them to capture patterns and relationships in language, enabling them to generate coherent and contextually appropriate text across a wide range of topics and styles.\n",
    "\n",
    "While LMs can produce text that appears to be written by intelligent humans, it's important to note that their capabilities can diverge from human intelligence in unexpected ways. They may sometimes generate factually incorrect information or struggle with complex reasoning tasks.\n",
    "\n",
    "Two key concepts in understanding LMs are:\n",
    "1. **Tokens**: LMs process text using \"tokens\" rather than individual characters. Tokens can be words, parts of words, or punctuation marks. For example, the sentence \"I love AI!\" might be tokenized as [\"I\", \"love\", \"AI\", \"!\"]. Tokenization is the first step in both training and using an LM.\n",
    "2. **Context**: The input text provided to an LM is called the \"context.\" This context informs the model's predictions or generations. A longer or more specific context often leads to more accurate and relevant outputs.\n",
    "\n",
    "[See: Wikipedia entry on language models](https://en.wikipedia.org/wiki/Large_language_model)\n",
    "\n",
    "###  Files for this assignment\n",
    "This assignment is divided into three tasks, each of which should bring you a step closer to providing a recommendation toward project the objectives of FIETS:\n",
    "\n",
    "- **Task 1**: Inspecting the results and getting your first model ranking\n",
    "- **Task 2**: Inspecting the underlying data used to generate the results for possible biases\n",
    "- **Task 3**: Learning about tokens and providing a final recommendation\n",
    "\n",
    "\n",
    "```\n",
    "📁 FIETS\n",
    "│\n",
    "├── 📄 clinic1.ipynb (the file you're currently reading!)\n",
    "│\n",
    "└── 📁 data\n",
    "    ├── 📁 task_1\n",
    "    ├── 📁 task_2\n",
    "    └── 📁 task_2.5\n",
    "```   \n",
    " "
   ]
  },
  {
   "cell_type": "code",
   "execution_count": 75,
   "id": "1c8fd700",
   "metadata": {},
   "outputs": [],
   "source": [
    "# some basic imports\n",
    "import os\n",
    "import pandas as pd\n",
    "import numpy as np\n",
    "import matplotlib.pyplot as plt\n",
    "import warnings\n",
    "from scipy.stats import ttest_ind"
   ]
  },
  {
   "cell_type": "markdown",
   "id": "bd2a7be4",
   "metadata": {},
   "source": [
    "## Task 1 (18 points): What's in an average anyway?\n",
    "\n",
    "The files needed to complete task 1 can be found in the folder \"`data/task_1/`:\n",
    "```\n",
    "task_1/\n",
    "│\n",
    "├── mmlu_data/\n",
    "│   └── test.csv\n",
    "│\n",
    "└── lm_scores/\n",
    "    ├── lm_X.csv\n",
    "    ├── lm_Y.csv\n",
    "    └── lm_Z.csv\n",
    "```\n",
    "\n",
    "We will start by loading, (manually) inspecting, and cleaning the data. Although it doesn't seem \"glamorous\" (nor is it particularly fun...) - manually inspecting data is extremely important! In fact, it's one of the few things most AI and Data Science researchers agree on :). Next, we will take a first pass on ordering our Olympic podium between three LMs."
   ]
  },
  {
   "cell_type": "markdown",
   "id": "16518de6",
   "metadata": {},
   "source": [
    "### 1.1 (1 pt)\n",
    " \n",
    "Load the subfiles contained in the `mmlu_data` and `lm_scores` folders into separate dataframes:\n",
    "- `df_test`\n",
    "- `df_x`\n",
    "- `df_y`\n",
    "- `df_z`\n",
    "\n",
    "for each, print their sizes."
   ]
  },
  {
   "cell_type": "code",
   "execution_count": 76,
   "id": "80eabdcb",
   "metadata": {},
   "outputs": [
    {
     "name": "stdout",
     "output_type": "stream",
     "text": [
      "df_test:  (14042, 8)\n",
      "df_x:  (13882, 2)\n",
      "df_y:  (13978, 2)\n",
      "df_z:  (13923, 2)\n"
     ]
    }
   ],
   "source": [
    "df_test = pd.read_csv('data/task_1/mmlu_data/test.csv')\n",
    "\n",
    "f = 'data/task_1/lm_scores/'\n",
    "df_x = pd.read_csv(os.path.join(f, 'lm_X.csv'))\n",
    "df_y = pd.read_csv(os.path.join(f, 'lm_Y.csv'))\n",
    "df_z = pd.read_csv(os.path.join(f, 'lm_Z.csv'))\n",
    "\n",
    "print('df_test: ', df_test.shape)\n",
    "print('df_x: ', df_x.shape)\n",
    "print('df_y: ', df_y.shape)\n",
    "print('df_z: ', df_z.shape)"
   ]
  },
  {
   "cell_type": "markdown",
   "id": "da14c5e2",
   "metadata": {},
   "source": [
    "### 1.2 (4 pt)\n",
    "Unfortunately, LMs don't always output the format we want. In the column `result`, the value should be one of A, B, C, or D. \n",
    "\n",
    "A. For each of the LM score dataframes, use a `value_counts()` operation and print the results. \n",
    "\n",
    "B. /Discuss:/ Inspect the results and describe the types of answer formats you see. Besides the \"expected\" case, you should be able to find at least four unexpected formats."
   ]
  },
  {
   "cell_type": "code",
   "execution_count": 77,
   "id": "eeebdb42",
   "metadata": {},
   "outputs": [
    {
     "name": "stdout",
     "output_type": "stream",
     "text": [
      "Value counts X:\n",
      "result\n",
      "A                                                                                                                 2733\n",
      "A                                                                                                                 1657\n",
      "B                                                                                                                 1412\n",
      "Answer: A                                                                                                         1398\n",
      "C                                                                                                                 1134\n",
      "                                                                                                                  ... \n",
      "judicial activism, so the answer is A                                                                                1\n",
      "creating insurmountable obstacles to the founding of factions, so the answer is A                                    1\n",
      "A congressperson who retires to take a position teaching political science at a university, so the answer is A       1\n",
      "David Hume, so the answer is D                                                                                       1\n",
      "Brahminic orthodoxy, so the answer is A                                                                              1\n",
      "Name: count, Length: 145, dtype: int64\n",
      "Length unique value counts for results: 145\n",
      "---------------------------------------------------------------------------------------------------------------------------------------------------\n",
      "Value counts Y:\n",
      "result\n",
      "D                                                                                                2894\n",
      "Answer: D                                                                                        1718\n",
      "C                                                                                                1701\n",
      "B                                                                                                1240\n",
      "D                                                                                                1145\n",
      "                                                                                                 ... \n",
      "Where the energy of interaction between the atoms is at its minimum value, so the answer is A       1\n",
      "leaves more viable offspring than others of its species., so the answer is D                        1\n",
      "A and C only, so the answer is D                                                                    1\n",
      "ADP + P → ATP, so the answer is D                                                                   1\n",
      "Monoclonal antibodies, so the answer is C                                                           1\n",
      "Name: count, Length: 141, dtype: int64\n",
      "Length unique value counts for results: 141\n",
      "---------------------------------------------------------------------------------------------------------------------------------------------------\n",
      "Value counts Y:\n",
      "result\n",
      "D                                                                                   2257\n",
      "C                                                                                   2191\n",
      "B                                                                                   2127\n",
      "A                                                                                   2060\n",
      "Answer: D                                                                            777\n",
      "                                                                                    ... \n",
      "omission of a universal suffrage clause, so the answer is D                            1\n",
      "declare war, so the answer is D                                                        1\n",
      "state and local governments, by means of federal funding, so the answer is B           1\n",
      "less clearly identified with consistent political ideologies, so the answer is B       1\n",
      "Rahit, so the answer is B                                                              1\n",
      "Name: count, Length: 560, dtype: int64\n",
      "Length unique value counts for results: 560\n"
     ]
    }
   ],
   "source": [
    "# A\n",
    "\n",
    "\n",
    "print(\"Value counts X:\")\n",
    "print(df_x['result'].value_counts())\n",
    "print(\"Length unique value counts for results:\",len(df_x['result'].value_counts()))\n",
    "print(\"---------------------------------------------------------------------------------------------------------------------------------------------------\")\n",
    "\n",
    "\n",
    "print(\"Value counts Y:\")\n",
    "print(df_y['result'].value_counts())\n",
    "print(\"Length unique value counts for results:\",len(df_y['result'].value_counts()))\n",
    "print(\"---------------------------------------------------------------------------------------------------------------------------------------------------\")\n",
    "\n",
    "print(\"Value counts Y:\")\n",
    "print(df_z['result'].value_counts())\n",
    "print(\"Length unique value counts for results:\",len(df_z['result'].value_counts()))\n",
    "\n"
   ]
  },
  {
   "cell_type": "markdown",
   "id": "709b59db",
   "metadata": {},
   "source": [
    "### Discussion\n",
    "\n",
    "\n",
    "From the outputs from above one can see the some of the results are simple A,B,C, D as exptected. However, some are either justifying their answer or are explaining it.\n",
    "\n",
    "Unexpected type examples:\n",
    "\n",
    "- \"Aswer: D\"\n",
    "\n",
    "- \"A congressperson who retires to take a position teaching political science at a university, so the answer is A\"\n",
    "\n",
    "- \"leaves more viable offspring than others of its species., so the answer is D\"\n",
    "\n",
    "-  \"Rahit, so the answer is B\"\n",
    "\n",
    "- \"Monoclonal antibodies, so the answer is C\"\n",
    "\n",
    "\n",
    "Further on it is also worth mentioning that one can see expected result, for instance \"D\" more often than once. This is due to white spaces.\n",
    "\n",
    "Also oberserve that value_counts() returns a Series Object, with unique values as index and their counts as values. For the first model X we have 145, for Y 141 and for Z 560 counts of unique results. If the data would be clean, only containing expected values whe should get 4 counts in total for each Dataset. Particularly for LM Z, with 560 unique results it would be overly wasteful to drop at least 556 answers."
   ]
  },
  {
   "cell_type": "markdown",
   "id": "98377d82",
   "metadata": {},
   "source": [
    "### 1.3 (5 pt)\n",
    "Oh oh... That doesn't look great. Simply dropping all invalid answers seems overly wasteful, yet fixing all of these looks like a mess! Instead, let's focus for now on fixing just those answers of length < 10 characters that require only a single `str.replace()` operation. \n",
    "\n",
    "For example, if the answer looks like `--A--`, we could fix this by using the following simple function:\n",
    "\n",
    "```\n",
    "def clean_answer(s, pattern='-'):\n",
    "    return str(s).replace(pattern, '')\n",
    "\n",
    "dirty_answer = '--A--'\n",
    "clean_answer = clean_answer(dirty_answer)\n",
    "```\n",
    "\n",
    "A. Filter the three score dataframes to include only answers with less than 10 characters. Make a deep copy of the dataframes as you filter them.\n",
    "\n",
    "B. Modify the `clean_answer()` example function to clean the answers in the filtered data frames using the `apply()` functionality. Finally, make sure **all remaining answers are one of `A, B, C, or D`.**\n",
    "\n",
    "C. /Discuss:/ Compare the sizes of the original and filtered data frames. What do you see? Why might this be a problem?"
   ]
  },
  {
   "cell_type": "code",
   "execution_count": 78,
   "id": "5241d3d5",
   "metadata": {},
   "outputs": [
    {
     "name": "stdout",
     "output_type": "stream",
     "text": [
      "Value counts X:\n",
      "result\n",
      "A            2733\n",
      "A            1657\n",
      "B            1412\n",
      "Answer: A    1398\n",
      "C            1134\n",
      "D            1124\n",
      "B             793\n",
      "Answer: B     760\n",
      "C             622\n",
      "Answer: D     613\n",
      "D             596\n",
      "Answer: C     594\n",
      "Not Sure       73\n",
      "Name: count, dtype: int64\n",
      "Unique value count: 13\n",
      "---------------------------------------------------------------------------------------------------------------------------------------------------\n",
      "Value counts Y:\n",
      "result\n",
      "D            2894\n",
      "Answer: D    1718\n",
      "C            1701\n",
      "B            1240\n",
      "D            1145\n",
      "A            1008\n",
      "Answer: C     907\n",
      "Answer: B     726\n",
      "C             634\n",
      "Answer: A     597\n",
      "B             553\n",
      "A             428\n",
      "Not Sure       86\n",
      "Name: count, dtype: int64\n",
      "Unique value count: 13\n",
      "---------------------------------------------------------------------------------------------------------------------------------------------------\n",
      "Value counts Y:\n",
      "result\n",
      "D            2257\n",
      "C            2191\n",
      "B            2127\n",
      "A            2060\n",
      "Answer: D     777\n",
      "Answer: C     748\n",
      "Answer: B     712\n",
      "Answer: A     687\n",
      "C             316\n",
      "D             314\n",
      "B             285\n",
      "A             279\n",
      "Not Sure      125\n",
      "Name: count, dtype: int64\n",
      "Unique value count: 13\n",
      "---------------------------------------------------------------------------------------------------------------------------------------------------\n"
     ]
    }
   ],
   "source": [
    "#A\n",
    "\n",
    "#Create a deep copy of the dataframes\n",
    "df_x_copy = df_x.copy(deep=True)\n",
    "df_y_copy = df_y.copy(deep=True)\n",
    "df_z_copy = df_z.copy(deep=True)\n",
    "\n",
    "#Filter the dataframes to include only answers with less than 10 characters\n",
    "df_x_copy = df_x_copy[df_x_copy['result'].str.len() < 10]\n",
    "df_y_copy = df_y_copy[df_y_copy['result'].str.len() < 10]\n",
    "df_z_copy = df_z_copy[df_z_copy['result'].str.len() < 10]\n",
    "\n",
    "#value counts for x\n",
    "print(\"Value counts X:\")\n",
    "print(df_x_copy['result'].value_counts())\n",
    "print(\"Unique value count:\",len(df_x_copy['result'].value_counts()))\n",
    "print(\"---------------------------------------------------------------------------------------------------------------------------------------------------\")\n",
    "\n",
    "#value counts for y\n",
    "print(\"Value counts Y:\")\n",
    "print(df_y_copy['result'].value_counts())\n",
    "print(\"Unique value count:\",len(df_y_copy['result'].value_counts()))\n",
    "print(\"---------------------------------------------------------------------------------------------------------------------------------------------------\")\n",
    "\n",
    "#value counts for z\n",
    "print(\"Value counts Y:\")\n",
    "print(df_z_copy['result'].value_counts())\n",
    "print(\"Unique value count:\",len(df_z_copy['result'].value_counts()))\n",
    "print(\"---------------------------------------------------------------------------------------------------------------------------------------------------\")\n"
   ]
  },
  {
   "cell_type": "code",
   "execution_count": 79,
   "id": "7331ba49",
   "metadata": {},
   "outputs": [
    {
     "name": "stdout",
     "output_type": "stream",
     "text": [
      "Sizes of the new dataframes after filtering for answers with < 10 characters:\n",
      "df_x_copy: (13509, 2)\n",
      "df_y_copy: (13637, 2)\n",
      "df_z_copy: (12878, 2)\n",
      "---------------------------------------------------------------------------------------------------------------------------------------------------\n",
      "Number of rows lost during filtering compared to the original data frames:\n",
      "df_x_diff: 373\n",
      "df_y_diff: 341\n",
      "df_z_diff: 1045\n"
     ]
    }
   ],
   "source": [
    "print(\"Sizes of the new dataframes after filtering for answers with < 10 characters:\")\n",
    "print(\"df_x_copy:\", df_x_copy.shape)\n",
    "print(\"df_y_copy:\", df_y_copy.shape)\n",
    "print(\"df_z_copy:\", df_z_copy.shape)\n",
    "\n",
    "print(\"---------------------------------------------------------------------------------------------------------------------------------------------------\")\n",
    "print(\"Number of rows lost during filtering compared to the original data frames:\")\n",
    "print(\"df_x_diff:\", df_x.shape[0] - df_x_copy.shape[0])\n",
    "print(\"df_y_diff:\", df_y.shape[0] - df_y_copy.shape[0])\n",
    "print(\"df_z_diff:\", df_z.shape[0] - df_z_copy.shape[0])"
   ]
  },
  {
   "cell_type": "code",
   "execution_count": 80,
   "id": "b2b23f54",
   "metadata": {},
   "outputs": [
    {
     "name": "stdout",
     "output_type": "stream",
     "text": [
      "Value counts X:\n",
      "result\n",
      "A    5788\n",
      "B    2965\n",
      "C    2350\n",
      "D    2333\n",
      "Name: count, dtype: int64\n",
      "---------------------------------------------------------------------------------------------------------------------------------------------------\n",
      "Value counts Y:\n",
      "result\n",
      "D    5757\n",
      "C    3242\n",
      "B    2519\n",
      "A    2033\n",
      "Name: count, dtype: int64\n",
      "---------------------------------------------------------------------------------------------------------------------------------------------------\n",
      "Value counts Y:\n",
      "result\n",
      "D    3348\n",
      "C    3255\n",
      "B    3124\n",
      "A    3026\n",
      "Name: count, dtype: int64\n"
     ]
    }
   ],
   "source": [
    "#B\n",
    "def clean_answer(s, pattern='-'):\n",
    "    s = str(s).replace('Answer: ', '')\n",
    "    #get rid of whitespaces in string\n",
    "    s = s.strip()\n",
    "    return s\n",
    "\n",
    "#Task: Apply the function to the 'result' column of the three dataframes. \n",
    "\n",
    "df_x_copy['result'] = df_x_copy['result'].apply(clean_answer)\n",
    "df_y_copy['result'] = df_y_copy['result'].apply(clean_answer)\n",
    "df_z_copy['result'] = df_z_copy['result'].apply(clean_answer)\n",
    "\n",
    "#drop nan \n",
    "df_x_copy = df_x_copy.dropna()\n",
    "df_y_copy = df_y_copy.dropna()\n",
    "df_z_copy = df_z_copy.dropna()\n",
    "\n",
    "#drop 'Not Sure' values\n",
    "df_x_copy = df_x_copy[df_x_copy['result'] != 'Not Sure']\n",
    "df_y_copy = df_y_copy[df_y_copy['result'] != 'Not Sure']\n",
    "df_z_copy = df_z_copy[df_z_copy['result'] != 'Not Sure']\n",
    "\n",
    "\n",
    "#print value counts for x\n",
    "print(\"Value counts X:\")\n",
    "print(df_x_copy['result'].value_counts())\n",
    "print(\"---------------------------------------------------------------------------------------------------------------------------------------------------\")\n",
    "\n",
    "#print value counts for y\n",
    "print(\"Value counts Y:\")\n",
    "print(df_y_copy['result'].value_counts())\n",
    "print(\"---------------------------------------------------------------------------------------------------------------------------------------------------\")\n",
    "\n",
    "#print value counts for z\n",
    "print(\"Value counts Y:\")\n",
    "print(df_z_copy['result'].value_counts())\n",
    "\n",
    "\n"
   ]
  },
  {
   "cell_type": "code",
   "execution_count": 81,
   "id": "63954001",
   "metadata": {},
   "outputs": [
    {
     "name": "stdout",
     "output_type": "stream",
     "text": [
      "Size before cleaning:\n",
      "(13882, 2)\n",
      "(13978, 2)\n",
      "(13923, 2)\n",
      "Size after cleaning and filtering:\n",
      "(13436, 2)\n",
      "(13551, 2)\n",
      "(12753, 2)\n",
      "Difference in row reduction after data cleaning and filtering:\n",
      "df_x_dff: 446\n",
      "df_y_dff: 427\n",
      "df_z_diff: 1170\n"
     ]
    }
   ],
   "source": [
    "# Size before cleaning\n",
    "print(\"Size before cleaning:\")\n",
    "print(df_x.shape)\n",
    "print(df_y.shape)\n",
    "print(df_z.shape)\n",
    "\n",
    "# Size after cleaning\n",
    "print(\"Size after cleaning and filtering:\")\n",
    "print(df_x_copy.shape)\n",
    "print(df_y_copy.shape)\n",
    "print(df_z_copy.shape)\n",
    "\n",
    "\n",
    "# Difference in size\n",
    "print(\"Difference in row reduction after data cleaning and filtering:\")\n",
    "print(\"df_x_dff:\", df_x.shape[0] - df_x_copy.shape[0])\n",
    "print(\"df_y_dff:\", df_y.shape[0] - df_y_copy.shape[0])\n",
    "print(\"df_z_diff:\", df_z.shape[0] - df_z_copy.shape[0])"
   ]
  },
  {
   "cell_type": "markdown",
   "id": "bfb8d81f",
   "metadata": {},
   "source": [
    "### Discussion\n",
    "\n",
    "**C. Discussion: Compare the sizes of the original and filtered data frames. What do you see? Why might this be a problem?**\n",
    "\n",
    "**Original sizes of the dataframes:**\n",
    "\n",
    "- (13,882 rows, 2 columns)\n",
    "- (13,978 rows, 2 columns)\n",
    "- (13,923 rows, 2 columns)\n",
    "\n",
    "Already after filtering the original Dataframe to include only answers with less than 10 characters once can see that all data frames only have a unique value count of 13. One can also see a strong reduction of rows during this first filtering operation: \n",
    "\n",
    "**Sizes of the new dataframes after filtering for answers with < 10 characters:**\n",
    "- `df_x_copy`: (13,509 rows, 2 columns)\n",
    "- `df_y_copy`: (13,637 rows, 2 columns)\n",
    "- `df_z_copy`: (12,878 rows, 2 columns)\n",
    "\n",
    "**Number of rows lost during this filtering step, compared to the original data frames:**\n",
    "- `df_x_diff`: 373 rows lost\n",
    "- `df_y_diff`: 341 rows lost\n",
    "- `df_z_diff`: 1,045 rows lost\n",
    "\n",
    "During the actual data cleaning we drop any NaN values and any \"Not Sure\" answers, leaving us with the following data frame dimensions: \n",
    "\n",
    "**Size after cleaning and filtering:**\n",
    "- (13,436 rows, 2 columns)\n",
    "- (13,551 rows, 2 columns)\n",
    "- (12,753 rows, 2 columns)\n",
    "\n",
    "**Difference in row reduction after data cleaning and filtering:**\n",
    "- `df_x_diff`: 446 rows lost\n",
    "- `df_y_diff`: 427 rows lost\n",
    "- `df_z_diff`: 1,170 rows lost\n",
    "\n",
    "\n",
    "Observe there is a stronger disbalance in the number of answers provided by each model as in the original dataframes. This may make a proper evaluation of the models performance difficult. Especially for LM Z since here are 1,170 potential answers to correspoonding questions are dropped. It is worth mentoining that 125 these where NaN and \"Not Sure\" values, however most of them might have been correct answers, just in a too long and wrong format. This might also lead to a disbalance in subjects. For instance LM Z could have been right with most of the questions of a certain subject, but struggled to provide them in a correct format. Thus most of the answers got filtered out which makes a propper and unbiased evaluation difficult. "
   ]
  },
  {
   "cell_type": "markdown",
   "id": "4bda2920",
   "metadata": {},
   "source": [
    "### 1.4 (3 pt)\n",
    "\n",
    "Now that our answer columns are nicely formatted, let's take a look at model performance:\n",
    "\n",
    "A. Both the `MMLU` dataframes and the language model score data frames have the columns `question_id`. For each of the language model score data frames, use an inner join operation with the `df_test` dataframe on the `question_id` column.\n",
    "\n",
    "B. Add a new column to each of the resulting dataframes called `correct`, that checks if the model's answer in `result` is the same as the expected answer in the column `answer`. Then, print the average score of each model."
   ]
  },
  {
   "cell_type": "code",
   "execution_count": 82,
   "id": "5cfcb814",
   "metadata": {},
   "outputs": [],
   "source": [
    "# A\n",
    "\n",
    "df_x_copy = pd.merge(df_x_copy, df_test, on='question_id', how='inner')\n",
    "\n",
    "df_y_copy = pd.merge(df_y_copy, df_test, on='question_id', how='inner')\n",
    "\n",
    "df_z_copy = pd.merge(df_z_copy, df_test, on='question_id', how='inner')\n"
   ]
  },
  {
   "cell_type": "code",
   "execution_count": 83,
   "id": "4814bb7f",
   "metadata": {},
   "outputs": [
    {
     "name": "stdout",
     "output_type": "stream",
     "text": [
      "Percentage of correct answers for X:  0.7674903245013397\n",
      "Percentage of correct answers for Y:  0.7458490148328537\n",
      "Percentage of correct answers for Z:  0.663294911001333\n"
     ]
    }
   ],
   "source": [
    "# B\n",
    "\n",
    "#new column correct\n",
    "df_x_copy['correct'] = df_x_copy['result'] == df_x_copy['answer']\n",
    "df_y_copy['correct'] = df_y_copy['result'] == df_y_copy['answer']\n",
    "df_z_copy['correct'] = df_z_copy['result'] == df_z_copy['answer']\n",
    "\n",
    "df_x_copy.head()\n",
    "\n",
    "\n",
    "\n",
    "#get percentage of correct answers\n",
    "print(\"Percentage of correct answers for X: \", df_x_copy['correct'].mean())\n",
    "print(\"Percentage of correct answers for Y: \", df_y_copy['correct'].mean())\n",
    "print(\"Percentage of correct answers for Z: \", df_z_copy['correct'].mean())\n"
   ]
  },
  {
   "cell_type": "markdown",
   "id": "474d719d",
   "metadata": {},
   "source": [
    "### 1.5 (5 pt)\n",
    "\n",
    "Hmmm, something doesn't seem quite right. Let's investigate how \"balanced\" this dataset is:\n",
    "\n",
    "A. For each of the 57 subjects in the MMLU, compare the number of questions answered by each model. Print the subjects for which there is a more than 10% difference.\n",
    "\n",
    "B. Propose and implement a reasonable way to rebalance the results. (e.g., while throwing away 100% of the results perfectly rebalances the results, it is not reasonable).\n",
    "\n",
    "C. Finally, print the updated accuracy on the rebalanced data.\n",
    "\n",
    "**hint:**:\n",
    "- (A) For a given subject, let model X and model Y have answered 181 and 200 questions respectively. You can consider this a 10% difference from the perspective of X, i.e., (200 - 181) / 181 > 0.10"
   ]
  },
  {
   "cell_type": "code",
   "execution_count": 84,
   "id": "1634b29a",
   "metadata": {},
   "outputs": [
    {
     "data": {
      "text/html": [
       "<div>\n",
       "<style scoped>\n",
       "    .dataframe tbody tr th:only-of-type {\n",
       "        vertical-align: middle;\n",
       "    }\n",
       "\n",
       "    .dataframe tbody tr th {\n",
       "        vertical-align: top;\n",
       "    }\n",
       "\n",
       "    .dataframe thead th {\n",
       "        text-align: right;\n",
       "    }\n",
       "</style>\n",
       "<table border=\"1\" class=\"dataframe\">\n",
       "  <thead>\n",
       "    <tr style=\"text-align: right;\">\n",
       "      <th></th>\n",
       "      <th>Answers X</th>\n",
       "      <th>Answers Y</th>\n",
       "      <th>Answers Z</th>\n",
       "    </tr>\n",
       "    <tr>\n",
       "      <th>subject</th>\n",
       "      <th></th>\n",
       "      <th></th>\n",
       "      <th></th>\n",
       "    </tr>\n",
       "  </thead>\n",
       "  <tbody>\n",
       "    <tr>\n",
       "      <th>professional law</th>\n",
       "      <td>1490</td>\n",
       "      <td>1488</td>\n",
       "      <td>1390</td>\n",
       "    </tr>\n",
       "    <tr>\n",
       "      <th>miscellaneous</th>\n",
       "      <td>759</td>\n",
       "      <td>755</td>\n",
       "      <td>716</td>\n",
       "    </tr>\n",
       "    <tr>\n",
       "      <th>moral scenarios</th>\n",
       "      <td>737</td>\n",
       "      <td>865</td>\n",
       "      <td>774</td>\n",
       "    </tr>\n",
       "    <tr>\n",
       "      <th>professional psychology</th>\n",
       "      <td>587</td>\n",
       "      <td>587</td>\n",
       "      <td>564</td>\n",
       "    </tr>\n",
       "    <tr>\n",
       "      <th>high school psychology</th>\n",
       "      <td>532</td>\n",
       "      <td>529</td>\n",
       "      <td>515</td>\n",
       "    </tr>\n",
       "  </tbody>\n",
       "</table>\n",
       "</div>"
      ],
      "text/plain": [
       "                         Answers X  Answers Y  Answers Z\n",
       "subject                                                 \n",
       "professional law              1490       1488       1390\n",
       "miscellaneous                  759        755        716\n",
       "moral scenarios                737        865        774\n",
       "professional psychology        587        587        564\n",
       "high school psychology         532        529        515"
      ]
     },
     "execution_count": 84,
     "metadata": {},
     "output_type": "execute_result"
    }
   ],
   "source": [
    "#A\n",
    "\n",
    "#for each subject get the number of answered questions\n",
    "\n",
    "df = pd.concat([\n",
    "    df_x_copy['subject'].value_counts(),\n",
    "    df_y_copy['subject'].value_counts(),\n",
    "    df_z_copy['subject'].value_counts()\n",
    "], axis=1, keys=['Answers X', 'Answers Y', 'Answers Z'])\n",
    "\n",
    "df.head()"
   ]
  },
  {
   "cell_type": "code",
   "execution_count": 85,
   "id": "7b8bc27a",
   "metadata": {},
   "outputs": [
    {
     "name": "stdout",
     "output_type": "stream",
     "text": [
      "                          Answers X  Answers Y  Answers Z\n",
      "subject                                                  \n",
      "moral scenarios                 737        865        774\n",
      "logical fallacies               154        136        147\n",
      "formal logic                    109        123        113\n",
      "moral disputes                  329        304        250\n",
      "college computer science         97         98         84\n",
      "college chemistry                96         98         84\n",
      "computer security                95         98         87\n",
      "Number of unbala nced subjects:  7\n"
     ]
    }
   ],
   "source": [
    "#create a list of subjects where |(Y-X)|/X > 0.1\n",
    "df_XY = df[(abs(df['Answers Y'] - df['Answers X']) / df['Answers X']) > 0.1]\n",
    "\n",
    "#create a list of subjects where |(Z-X)|/X > 0.1\n",
    "df_XZ = df[(abs(df['Answers Z'] - df['Answers X']) / df['Answers X']) > 0.1]\n",
    "\n",
    "#create a list of subjects where |(Z-Y)|/Y > 0.1\n",
    "df_YZ = df[(abs(df['Answers Z'] - df['Answers Y']) / df['Answers Y']) > 0.1]\n",
    "\n",
    "#merge them to one without duplicates \n",
    "df_XYZ = pd.concat([df_XY, df_XZ, df_YZ]).drop_duplicates()\n",
    "\n",
    "print(df_XYZ)\n",
    "print(\"Number of unbala nced subjects: \", len(df_XYZ))"
   ]
  },
  {
   "cell_type": "code",
   "execution_count": 86,
   "id": "a7cc11b7",
   "metadata": {},
   "outputs": [],
   "source": [
    "#B\n",
    "def stratified_bootstrap_score(df, n_bootstrap=1000):\n",
    "\n",
    "    subjects = df['subject'].unique()\n",
    "    bootstrap_scores = []\n",
    "    \n",
    "    # Perform bootstrap iterations\n",
    "    for _ in range(n_bootstrap):\n",
    "        subject_scores = []\n",
    "        for subject in subjects:\n",
    "            df_subject = df[df['subject'] == subject]\n",
    "            # Sample with replacement from the subject data\n",
    "            sample = df_subject.sample(n=len(df_subject), replace=True)\n",
    "            # Calculate mean accuracy for the subject and store it\n",
    "            subject_scores.append(sample['correct'].mean())\n",
    "        # Compute average score across all subjects for this iteration\n",
    "        bootstrap_scores.append(np.mean(subject_scores))\n",
    "    \n",
    "    # Return overall mean score and its standard deviation (as standard error)\n",
    "    return np.mean(bootstrap_scores), np.std(bootstrap_scores)\n",
    "\n",
    "\n"
   ]
  },
  {
   "cell_type": "code",
   "execution_count": 87,
   "id": "e558c3f8",
   "metadata": {},
   "outputs": [
    {
     "name": "stdout",
     "output_type": "stream",
     "text": [
      "Bootstrapped scores:\n",
      "Model X: 0.767 ± 0.004\n",
      "Model Y: 0.740 ± 0.005\n",
      "Model Z: 0.662 ± 0.005\n"
     ]
    }
   ],
   "source": [
    "#C\n",
    "# Example usage:\n",
    "# df_x_copy, df_y_copy, df_z_copy should be DataFrames with 'subject' and 'correct' columns.\n",
    "mean_x, se_x = stratified_bootstrap_score(df_x_copy)\n",
    "mean_y, se_y = stratified_bootstrap_score(df_y_copy)\n",
    "mean_z, se_z = stratified_bootstrap_score(df_z_copy)\n",
    "\n",
    "print(\"Bootstrapped scores:\")\n",
    "print(f\"Model X: {mean_x:.3f} ± {se_x:.3f}\")\n",
    "print(f\"Model Y: {mean_y:.3f} ± {se_y:.3f}\")\n",
    "print(f\"Model Z: {mean_z:.3f} ± {se_z:.3f}\")"
   ]
  },
  {
   "cell_type": "code",
   "execution_count": 88,
   "id": "8d2bfdd3",
   "metadata": {},
   "outputs": [
    {
     "name": "stdout",
     "output_type": "stream",
     "text": [
      "Old scores:\n",
      "Percentage of correct answers for X:  0.7674903245013397\n",
      "Percentage of correct answers for Y:  0.7458490148328537\n",
      "Percentage of correct answers for Z:  0.663294911001333\n"
     ]
    }
   ],
   "source": [
    "print(\"Old scores:\")\n",
    "print(\"Percentage of correct answers for X: \", df_x_copy['correct'].mean())\n",
    "print(\"Percentage of correct answers for Y: \", df_y_copy['correct'].mean())\n",
    "print(\"Percentage of correct answers for Z: \", df_z_copy['correct'].mean())"
   ]
  },
  {
   "cell_type": "markdown",
   "id": "1ae0547c",
   "metadata": {},
   "source": [
    "## Task 2 (26 points): What do you mean A > D > B > C...?\n",
    "\n",
    "Nice work! Having successfully inspected, cleaned, and rebalanced the provided data, you head over to director of the government's FIETS project operating under the code name Geronimo. He is happy with your work so far, but worried that the sloppy intern might have done more undetected damage. To be sure, he orders a new set of evaluations of all models on both MMLU and another dataset.\n",
    "\n",
    "After cleaning up and rebalancing, you are left with the concatenated score files in the second folder `task_2`:\n",
    "```\n",
    "task_2/\n",
    "│\n",
    "└── lm_scores_mmlu.csv\n",
    "│\n",
    "└── lm_scores_other.csv\n",
    "```\n",
    "\n",
    "Each has a new column called `model_name`, which is one of `X, Y` or `Z`.\n",
    "\n",
    "\n",
    "\n",
    "_NOTE: **only** use data from `task_2` and `task_2_5` for this assignment! The values in `lm_scores_mmlu.csv` will NOT be the same as the dataframes you finished in task 1. This is due to \"randomness\" or \"temperature\" in language model inference. This can slightly shift around generative results. (Conveniently: it also ensures any mistakes made in Task 1 don't propogate further ;) )_"
   ]
  },
  {
   "cell_type": "code",
   "execution_count": 89,
   "id": "2067ebe2",
   "metadata": {},
   "outputs": [],
   "source": [
    "# PROVIDED CODE\n",
    "df_mmlu = pd.read_csv('data/task_2/lm_scores_mmlu.csv')\n",
    "df_other = pd.read_csv('data/task_2/lm_scores_other.csv')"
   ]
  },
  {
   "cell_type": "markdown",
   "id": "d97ed869",
   "metadata": {},
   "source": [
    "### 2.1 (4 pt)\n",
    "\n",
    "Let's explore the new results:\n",
    "\n",
    "A. Compute the mean accuracy and standard errors of each model on both datasets and print the results.\n",
    "\n",
    "B. Then, show your results in a bar plot using standard errors with a 95% confidence interval around the mean. Make sure the plot is easy to read and well annotated.\n",
    "\n",
    "C. /Discuss:/ the plot you created: (i) can you say that one of the models is the best? (ii) is there anything that seems odd?"
   ]
  },
  {
   "cell_type": "code",
   "execution_count": 90,
   "id": "b69b5615",
   "metadata": {},
   "outputs": [
    {
     "name": "stdout",
     "output_type": "stream",
     "text": [
      "Datsset LLMU\n",
      ":   model        se  accuracy\n",
      "0     X  0.004038  0.743588\n",
      "1     Y  0.003940  0.761542\n",
      "2     Z  0.004393  0.655951\n",
      "Datsset Other\n",
      ":   model        se  accuracy\n",
      "0     X  0.006667  0.787976\n",
      "1     Y  0.007316  0.720936\n",
      "2     Z  0.007659  0.671721\n"
     ]
    }
   ],
   "source": [
    "#A\n",
    "\n",
    "from sklearn.metrics import mean_squared_error\n",
    "import numpy as np\n",
    "\n",
    "def calculate_mse_acc(df: pd.DataFrame) -> list:\n",
    "\n",
    "    df['num_correct'] = df['correct'].astype(int)\n",
    "    results = []\n",
    "\n",
    "    for model, group in df.groupby('model_name'):\n",
    "        n = len(group)\n",
    "        accuracy = group['correct'].mean()\n",
    "        se = np.sqrt(accuracy * (1 - accuracy) / n)\n",
    "        evaluation = {\n",
    "            'model': model,\n",
    "            'se': se,\n",
    "            'accuracy': accuracy\n",
    "        }\n",
    "        results.append(evaluation)\n",
    "    return results\n",
    "\n",
    "\n",
    "results_mmlu = calculate_mse_acc(df_mmlu)\n",
    "results_other = calculate_mse_acc(df_other)\n",
    "\n",
    "df_result_mmlu = pd.DataFrame(results_mmlu)\n",
    "df_result_other = pd.DataFrame(results_other)\n",
    "\n",
    "print(\"Datsset LLMU\\n:\",df_result_mmlu)\n",
    "print(\"Datsset Other\\n:\",df_result_other)\n",
    "\n",
    "# The standard error (SE) is a way of measuring how much our estimate (like the mean accuracy) would change if we repeated the experiment multiple times"
   ]
  },
  {
   "cell_type": "code",
   "execution_count": 91,
   "id": "c4a5bffc",
   "metadata": {},
   "outputs": [],
   "source": [
    "def confidence(z_score: float, df) -> pd.DataFrame:\n",
    "\n",
    "\n",
    "    df['ci_lower'] = df['accuracy'] - (z_score * df['se'])\n",
    "    df['ci_upper'] = df['accuracy'] + (z_score * df['se'])\n",
    "\n",
    "    return df"
   ]
  },
  {
   "cell_type": "code",
   "execution_count": 92,
   "id": "5064452e",
   "metadata": {},
   "outputs": [],
   "source": [
    "df_result_mmlu = confidence(1.96, df_result_mmlu)\n",
    "df_result_other = confidence(1.96, df_result_other)"
   ]
  },
  {
   "cell_type": "code",
   "execution_count": 93,
   "id": "23af0858",
   "metadata": {},
   "outputs": [
    {
     "data": {
      "image/png": "[encoded data removed]",
      "text/plain": [
       "<Figure size 1000x600 with 1 Axes>"
      ]
     },
     "metadata": {},
     "output_type": "display_data"
    },
    {
     "data": {
      "image/png": "[encoded data removed]",
      "text/plain": [
       "<Figure size 1000x600 with 1 Axes>"
      ]
     },
     "metadata": {},
     "output_type": "display_data"
    }
   ],
   "source": [
    "import matplotlib.pyplot as plt\n",
    "import seaborn as sns\n",
    "\n",
    "# LLMU Dataset plot\n",
    "plt.figure(figsize=(10, 6))\n",
    "sns.barplot(x='model', y='accuracy', data=df_result_mmlu)\n",
    "\n",
    "for index, row in df_result_mmlu.iterrows():\n",
    "    plt.errorbar(x=index, y=row['accuracy'], \n",
    "                 yerr=[[row['accuracy'] - row['ci_lower']], [row['ci_upper'] - row['accuracy']]],\n",
    "                 fmt='none', c='black', capsize=5)\n",
    "    plt.text(index, row['accuracy'] / 2, f\"{row['accuracy']:.2f}\", ha='center', va='center', color='white')\n",
    "\n",
    "plt.xlabel('Model')\n",
    "plt.ylabel('Accuracy')\n",
    "plt.title('Model Accuracy with 95% Confidence Intervals for Dataset MMLU')\n",
    "plt.show()\n",
    "\n",
    "# Other Dataset plot\n",
    "plt.figure(figsize=(10, 6))\n",
    "sns.barplot(x='model', y='accuracy', data=df_result_other)\n",
    "\n",
    "for index, row in df_result_other.iterrows():\n",
    "    plt.errorbar(x=index, y=row['accuracy'], \n",
    "                 yerr=[[row['accuracy'] - row['ci_lower']], [row['ci_upper'] - row['accuracy']]],\n",
    "                 fmt='none', c='black', capsize=5)\n",
    "    plt.text(index, row['accuracy'] / 2, f\"{row['accuracy']:.2f}\", ha='center', va='center', color='white')\n",
    "\n",
    "plt.xlabel('Model')\n",
    "plt.ylabel('Accuracy')\n",
    "plt.title('Model Accuracy with 95% Confidence Intervals for Dataset Other')\n",
    "plt.show()\n"
   ]
  },
  {
   "cell_type": "code",
   "execution_count": 94,
   "id": "dbf86804",
   "metadata": {},
   "outputs": [
    {
     "data": {
      "image/png": "[encoded data removed]",
      "text/plain": [
       "<Figure size 1000x600 with 1 Axes>"
      ]
     },
     "metadata": {},
     "output_type": "display_data"
    }
   ],
   "source": [
    "# Combined Dataset plot\n",
    "df_result_mmlu['dataset'] = 'MMLU'\n",
    "df_result_other['dataset'] = 'Other'\n",
    "df_combined = pd.concat([df_result_mmlu, df_result_other], ignore_index=True)\n",
    "\n",
    "models_order = sorted(df_combined['model'].unique())\n",
    "datasets_order = ['MMLU', 'Other'] \n",
    "\n",
    "df_combined['model'] = pd.Categorical(df_combined['model'], categories=models_order, ordered=True)\n",
    "df_combined['dataset'] = pd.Categorical(df_combined['dataset'], categories=datasets_order, ordered=True)\n",
    "df_combined = df_combined.sort_values(['model', 'dataset'])\n",
    "\n",
    "plt.figure(figsize=(10, 6))\n",
    "\n",
    "ax = sns.barplot(x='model', y='accuracy', hue='dataset',\n",
    "                 data=df_combined, errorbar=None, palette=\"viridis\")\n",
    "\n",
    "for container, dataset in zip(ax.containers, datasets_order):\n",
    "    subset = df_combined[df_combined['dataset'] == dataset]\n",
    "    subset = subset.set_index('model').loc[models_order].reset_index()\n",
    "\n",
    "    for bar, (_, row) in zip(container, subset.iterrows()):\n",
    "        x = bar.get_x() + bar.get_width() / 2.\n",
    "        y = bar.get_height()\n",
    "        lower_err = y - row['ci_lower']\n",
    "        upper_err = row['ci_upper'] - y\n",
    "        error = [[lower_err], [upper_err]]\n",
    "\n",
    "        ax.errorbar(x, y, yerr=error, fmt='none', c='black', capsize=5)\n",
    "        ax.text(x, y / 2, f\"{row['accuracy']:.2f}\", ha='center', va='center', color='white')\n",
    "\n",
    "ax.set_xlabel('Model')\n",
    "ax.set_ylabel('Accuracy')\n",
    "ax.set_title('Model Accuracy with 95% Confidence Intervals for Both Datasets')\n",
    "plt.legend(title=\"Dataset\")\n",
    "plt.show()\n"
   ]
  },
  {
   "cell_type": "markdown",
   "id": "58db05e9",
   "metadata": {},
   "source": [
    "### Discussion\n",
    "\n",
    "Model X appears to be the best performing model overall, achieving the highest accuracy on the Other dataset (0.79) and maintaining competitive performance on LLMU (0.74). While Model Y slightly outperforms Model X on the LLMU dataset (0.76), it shows a noticeable drop in accuracy on the Other dataset (0.72). This suggests a less consistent generalisation across different data contexts. An interesting observation is the performance flip between models X and Y across the two datasets, which may indicate dataset-specific biases or differences in model generalisation capabilities. In addition, the overlapping confidence intervals for Model Z highlight its stable but suboptimal performance. On the other hand, the distinct confidence intervals for Models X and Y indicate statistically significant differences in performance between the datasets."
   ]
  },
  {
   "cell_type": "markdown",
   "id": "5587c824",
   "metadata": {},
   "source": [
    "### 2.2 (5 pt)\n",
    "\n",
    "Geronimo has assured you that both datasets contain questions of similar difficulty, so, what could be going on here?\n",
    "\n",
    "A. What is the distribution of correct answers (A, B, C, D) for each dataset? Create a bar chart to visualize this.\n",
    "\n",
    "B. Perform a chi-square test at $\\alpha = 0.05$, of independence to determine if there's a significant difference in the distribution of correct answers between the two datasets. What do you conclude?\n",
    "\n",
    "**hints**:\n",
    "- for (A), keep in mind that df_mmlu and df_other contain the results of all models, i.e., the `question_id` column is duplicated.\n",
    "- for (A), take care to clearly annotate the bar chart, e.g., title, y-label, legend.\n",
    "- for (B), clearly state the null hypothesis and alternative hypothesis\n",
    "- use the `chi2_contingency` function from `scipy.stats`\n",
    "- format your results from answer (A) as a 2D array"
   ]
  },
  {
   "cell_type": "code",
   "execution_count": 95,
   "id": "74904507",
   "metadata": {},
   "outputs": [
    {
     "name": "stdout",
     "output_type": "stream",
     "text": [
      "2D Array of correct answer counts (rows: MMLU, Other; columns: A, B, C, D):\n",
      "[[4259 2659 2409 2369]\n",
      " [1766  981  625  387]]\n"
     ]
    },
    {
     "data": {
      "image/png": "[encoded data removed]",
      "text/plain": [
       "<Figure size 1000x600 with 1 Axes>"
      ]
     },
     "metadata": {},
     "output_type": "display_data"
    }
   ],
   "source": [
    "#A \n",
    "#remove duplicate questions (if each question_id should be counted only once)\n",
    "unique_mmlu = df_mmlu.drop_duplicates('question_id')\n",
    "unique_other = df_other.drop_duplicates('question_id')\n",
    "\n",
    "#define the answer choices in order\n",
    "answer_choices = ['A', 'B', 'C', 'D']\n",
    "\n",
    "#count the occurrences of each answer for each dataset\n",
    "counts_mmlu = unique_mmlu['result'].value_counts().reindex(answer_choices, fill_value=0).sort_index()\n",
    "counts_other = unique_other['result'].value_counts().reindex(answer_choices, fill_value=0).sort_index()\n",
    "\n",
    "#format the counts as a 2D array\n",
    "#row 0 corresponds to MMLU and Row 1 corresponds to Other dataset\n",
    "result_array = np.array([counts_mmlu.values, counts_other.values])\n",
    "print(\"2D Array of correct answer counts (rows: MMLU, Other; columns: A, B, C, D):\")\n",
    "print(result_array)\n",
    "\n",
    "#prepare a DataFrame in long format for Seaborn plotting\n",
    "data = {\n",
    "    'Answer': answer_choices * 2,  #each dataset contributes the same set of answers\n",
    "    'Count': np.concatenate([counts_mmlu.values, counts_other.values]),\n",
    "    'Dataset': ['MMLU'] * len(answer_choices) + ['Other'] * len(answer_choices)\n",
    "}\n",
    "df_plot = pd.DataFrame(data)\n",
    "\n",
    "plt.figure(figsize=(10, 6))\n",
    "custom_palette = {'MMLU': '#b5179e', 'Other': '#560bad'}\n",
    "sns.barplot(x='Answer', y='Count', hue='Dataset', data=df_plot, palette=custom_palette)\n",
    "\n",
    "plt.title('Distribution of Correct Answers by Dataset')\n",
    "plt.xlabel('Answer Choice')\n",
    "plt.ylabel('Count')\n",
    "plt.grid(axis='y', linestyle='--', alpha=0.7)\n",
    "plt.tight_layout()\n",
    "plt.show()"
   ]
  },
  {
   "cell_type": "code",
   "execution_count": 96,
   "id": "0c461f94",
   "metadata": {},
   "outputs": [
    {
     "name": "stdout",
     "output_type": "stream",
     "text": [
      "Chi-square Statistic: 276.2083160074473\n",
      "Degrees of Freedom: 3\n",
      "p-value: 1.4003886446809998e-59\n",
      "Reject the null hypothesis: There is a significant difference in the distribution of correct answers between the two datasets.\n"
     ]
    }
   ],
   "source": [
    "from scipy.stats import chi2_contingency\n",
    "\n",
    "#perform the chi-square test of independence on the result_array.\n",
    "chi2, p_value, dof, expected = chi2_contingency(result_array)\n",
    "\n",
    "print(\"Chi-square Statistic:\", chi2)\n",
    "print(\"Degrees of Freedom:\", dof)\n",
    "print(\"p-value:\", p_value)\n",
    "\n",
    "# Interpretation at α = 0.05\n",
    "if p_value < 0.05:\n",
    "    print(\"Reject the null hypothesis: There is a significant difference in the distribution of correct answers between the two datasets.\")\n",
    "else:\n",
    "    print(\"Fail to reject the null hypothesis: There is no significant difference in the distribution of correct answers between the two datasets.\")\n"
   ]
  },
  {
   "cell_type": "markdown",
   "id": "a499e24d",
   "metadata": {},
   "source": [
    "### Conclusion \n",
    "\n",
    "\n",
    "Given the plot one can already see that there is a tendency in the distribution of correct answers,**in both datasets** towards answer A. Further on the chi-square test, indicates there is a a signifant difference in the distribution of correct anwers between the two datasets. The domincance of asnwer choice A gives indications towards a dataset bias, influecing model performance."
   ]
  },
  {
   "cell_type": "markdown",
   "id": "c50f875f",
   "metadata": {},
   "source": [
    "### 2.3 (7 pt)\n",
    "\n",
    "Let's dive in deeper:\n",
    "\n",
    "A. What is language model X's mean accuracy conditioned on the four answer options for each dataset?\n",
    "\n",
    "B. Compare LM X's performance when the correct answer is \"A\" between the two datasets. Use a T-test with CI = 0.95. What do you conclude?\n",
    "\n",
    "C. Compare LM X's performance when the correct answer is \"A\" vs. \"C or D\" for each dataset. Use a T-test with CI = 0.95. What do you conclude?"
   ]
  },
  {
   "cell_type": "code",
   "execution_count": 97,
   "id": "f2b265e3",
   "metadata": {},
   "outputs": [
    {
     "name": "stdout",
     "output_type": "stream",
     "text": [
      "               MMLU Mean Accuracy  Other Mean Accuracy\n",
      "Answer Choice                                         \n",
      "A                        0.367927             0.594564\n",
      "B                        0.884543             0.917431\n",
      "C                        1.000000             1.000000\n",
      "D                        1.000000             1.000000\n"
     ]
    }
   ],
   "source": [
    "# Filter data for language model X\n",
    "df_mmlu_x = df_mmlu[df_mmlu['model_name'] == 'X']\n",
    "df_other_x = df_other[df_other['model_name'] == 'X']\n",
    "\n",
    "accuracy_mmlu = df_mmlu_x.groupby('result')['correct'].mean()\n",
    "accuracy_other = df_other_x.groupby('result')['correct'].mean()\n",
    "\n",
    "accuracy_df = pd.DataFrame({\n",
    "    \"MMLU Mean Accuracy\": accuracy_mmlu,\n",
    "    \"Other Mean Accuracy\": accuracy_other\n",
    "}).fillna(0)\n",
    "\n",
    "accuracy_df.index.name = \"Answer Choice\"\n",
    "accuracy_df = accuracy_df.sort_index()\n",
    "\n",
    "print(accuracy_df)"
   ]
  },
  {
   "cell_type": "code",
   "execution_count": 98,
   "id": "1e31fdd8",
   "metadata": {},
   "outputs": [
    {
     "name": "stdout",
     "output_type": "stream",
     "text": [
      "=== Welch's T-test for Correct Answer 'A' ===\n",
      "T-statistic: -0.2116\n",
      "P-value:     0.8324\n",
      "Result: Fail to Reject the Null Hypothesis (H₀) at alpha = 0.05.\n",
      "Interpretation: There is no significant difference in mean accuracy between the two datasets.\n",
      "\n",
      "MMLU Data (Answer 'A'):\n",
      "  Mean Accuracy      : 0.9727\n",
      "  95% Confidence Int : (0.9647, 0.9806)\n",
      "\n",
      "Other Data (Answer 'A'):\n",
      "  Mean Accuracy      : 0.9740\n",
      "  95% Confidence Int : (0.9645, 0.9835)\n"
     ]
    }
   ],
   "source": [
    "from scipy.stats import ttest_ind\n",
    "import numpy as np\n",
    "\n",
    "#filter data for cases where the correct answer is \"A\" in both datasets\n",
    "df_mmlu_x_A = df_mmlu_x[df_mmlu_x['answer'] == 'A']['correct'].astype(int)\n",
    "df_other_x_A = df_other_x[df_other_x['answer'] == 'A']['correct'].astype(int)\n",
    "\n",
    "#perform Welch's t-test \n",
    "t_stat, p_value = ttest_ind(df_mmlu_x_A, df_other_x_A, equal_var=False)\n",
    "\n",
    "#compute means and standard deviations, necessary to calculate confidence intervals\n",
    "mean_mmlu_A = df_mmlu_x_A.mean()\n",
    "mean_other_A = df_other_x_A.mean()\n",
    "\n",
    "std_mmlu_A = df_mmlu_x_A.std()\n",
    "std_other_A = df_other_x_A.std()\n",
    "\n",
    "n_mmlu_A = len(df_mmlu_x_A)\n",
    "n_other_A = len(df_other_x_A)\n",
    "\n",
    "# Calculate 95% confidence intervals for each dataset\n",
    "ci_mmlu_A = (\n",
    "    mean_mmlu_A - 1.96 * (std_mmlu_A / (n_mmlu_A ** 0.5)),\n",
    "    mean_mmlu_A + 1.96 * (std_mmlu_A / (n_mmlu_A ** 0.5))\n",
    ")\n",
    "ci_other_A = (\n",
    "    mean_other_A - 1.96 * (std_other_A / (n_other_A ** 0.5)),\n",
    "    mean_other_A + 1.96 * (std_other_A / (n_other_A ** 0.5))\n",
    ")\n",
    "\n",
    "# Determine if we reject the null hypothesis at significance level alpha=0.05\n",
    "alpha = 0.05\n",
    "\n",
    "# Print results in a clear and formatted manner\n",
    "print(\"=== Welch's T-test for Correct Answer 'A' ===\")\n",
    "print(f\"T-statistic: {t_stat:.4f}\")\n",
    "print(f\"P-value:     {p_value:.4f}\")\n",
    "\n",
    "# Dynamic hypothesis decision\n",
    "if p_value < alpha:\n",
    "    print(f\"Result: Reject the Null Hypothesis (H₀) at alpha = {alpha}.\")\n",
    "    print(\"Interpretation: There is a significant difference in mean accuracy between the two datasets.\\n\")\n",
    "else:\n",
    "    print(f\"Result: Fail to Reject the Null Hypothesis (H₀) at alpha = {alpha}.\")\n",
    "    print(\"Interpretation: There is no significant difference in mean accuracy between the two datasets.\\n\")\n",
    "\n",
    "# Display summary statistics\n",
    "print(\"MMLU Data (Answer 'A'):\")\n",
    "print(f\"  Mean Accuracy      : {mean_mmlu_A:.4f}\")\n",
    "print(f\"  95% Confidence Int : ({ci_mmlu_A[0]:.4f}, {ci_mmlu_A[1]:.4f})\\n\")\n",
    "\n",
    "print(\"Other Data (Answer 'A'):\")\n",
    "print(f\"  Mean Accuracy      : {mean_other_A:.4f}\")\n",
    "print(f\"  95% Confidence Int : ({ci_other_A[0]:.4f}, {ci_other_A[1]:.4f})\")\n"
   ]
  },
  {
   "cell_type": "markdown",
   "id": "826ef8fb",
   "metadata": {},
   "source": [
    "### B - Conclusion \n",
    "\n",
    "In both datasets LM X performs exceptionally well for answers B, C and D. In particular, it achieves 100% accuracy for C and D in both datasets. However, compared to the average accuracy of answer A, there is a notable difference for both datasets. Specifically for the MMLU dataset, LM X has a mean average of only 36%. \n",
    "Referring back to our previous observations, we were able to see a higher distribution of correct answers for answer A across all models. Combining the low accuracy and the high distribution of correct answers, it seems that model X has a stronger tendency to over-select answer A. This would explain the low accuracy of answer A, for both datasets. This over-reliance on answer A could explain the observed low accuracy, as the model may default to A even when it's not the correct choice, negatively affecting performance in both datasets. To be completely sure about this assumption, one should also look at the mean accuracies of the other models across all answer types. However, this seems beyond the scope of this task. \n",
    "Nevertheless, the t-test indicates that there is no significant difference in mean accuracy for answer A between the two datasets. This supports the assumption that the tendency to rely on answer A is not related to the data set.\n"
   ]
  },
  {
   "cell_type": "code",
   "execution_count": 99,
   "id": "8f0ecae0",
   "metadata": {},
   "outputs": [
    {
     "name": "stdout",
     "output_type": "stream",
     "text": [
      "=== Welch's T-test for MMLU Data ('A' vs. 'C or D') ===\n",
      "T-statistic: 44.0588\n",
      "P-value:     0.0000\n",
      "Result: Reject the Null Hypothesis at alpha = 0.05.\n",
      "Interpretation: There is a significant difference in mean accuracy between answers 'A' and 'C or D'.\n",
      "\n",
      "Mean Accuracy (C or D): 0.6690\n",
      "95% Confidence Interval (C or D): (0.6581, 0.6799)\n",
      "\n",
      "=== Welch's T-test for Other Data ('A' vs. 'C or D') ===\n",
      "T-statistic: 25.1395\n",
      "P-value:     0.0000\n",
      "Result: Reject the Null Hypothesis at alpha = 0.05.\n",
      "Interpretation: There is a significant difference in mean accuracy between answers 'A' and 'C or D'.\n",
      "\n",
      "Mean Accuracy (C or D): 0.6466\n",
      "95% Confidence Interval (C or D): (0.6230, 0.6703)\n"
     ]
    }
   ],
   "source": [
    "\n",
    "# Filter data for cases where the correct answer is \"A\" and \"C or D\" in both datasets\n",
    "df_mmlu_x_A = df_mmlu_x[df_mmlu_x['answer'] == 'A']['correct'].astype(int)\n",
    "df_mmlu_x_C_D = df_mmlu_x[df_mmlu_x['answer'].isin(['C', 'D'])]['correct'].astype(int)\n",
    "df_other_x_A = df_other_x[df_other_x['answer'] == 'A']['correct'].astype(int)\n",
    "df_other_x_C_D = df_other_x[df_other_x['answer'].isin(['C', 'D'])]['correct'].astype(int)\n",
    "\n",
    "alpha = 0.05\n",
    "\n",
    "# -------------------------- MMLU dataset --------------------------\n",
    "\n",
    "t_stat_mmlu, p_value_mmlu = ttest_ind(df_mmlu_x_A, df_mmlu_x_C_D, equal_var=False)\n",
    "\n",
    "#decide whther to reject the null hypothesis\n",
    "if p_value_mmlu < alpha:\n",
    "    result_mmlu = \"Reject the Null Hypothesis\"\n",
    "    interpretation_mmlu = \"There is a significant difference in mean accuracy between answers 'A' and 'C or D'.\"\n",
    "else:\n",
    "    result_mmlu = \"Fail to Reject the Null Hypothesis\"\n",
    "    interpretation_mmlu = \"There is no significant difference in mean accuracy between answers 'A' and 'C or D'.\"\n",
    "\n",
    "#compute mean and 95% confidence intervals for \"C or D\"\n",
    "mean_mmlu_C_D = df_mmlu_x_C_D.mean()\n",
    "std_mmlu_C_D = df_mmlu_x_C_D.std()\n",
    "n_mmlu_C_D = len(df_mmlu_x_C_D)\n",
    "ci_mmlu_C_D = (\n",
    "    mean_mmlu_C_D - 1.96 * (std_mmlu_C_D / (n_mmlu_C_D ** 0.5)),\n",
    "    mean_mmlu_C_D + 1.96 * (std_mmlu_C_D / (n_mmlu_C_D ** 0.5))\n",
    ")\n",
    "\n",
    "print(\"=== Welch's T-test for MMLU Data ('A' vs. 'C or D') ===\")\n",
    "print(f\"T-statistic: {t_stat_mmlu:.4f}\")\n",
    "print(f\"P-value:     {p_value_mmlu:.4f}\")\n",
    "print(f\"Result: {result_mmlu} at alpha = {alpha}.\")\n",
    "print(f\"Interpretation: {interpretation_mmlu}\\n\")\n",
    "print(f\"Mean Accuracy (C or D): {mean_mmlu_C_D:.4f}\")\n",
    "print(f\"95% Confidence Interval (C or D): ({ci_mmlu_C_D[0]:.4f}, {ci_mmlu_C_D[1]:.4f})\\n\")\n",
    "\n",
    "#---------------------------- Other dataset ----------------------------\n",
    "\n",
    "t_stat_other, p_value_other = ttest_ind(df_other_x_A, df_other_x_C_D, equal_var=False)\n",
    "\n",
    "#decide whether to reject the null hypothesis\n",
    "if p_value_other < alpha:\n",
    "    result_other = \"Reject the Null Hypothesis\"\n",
    "    interpretation_other = \"There is a significant difference in mean accuracy between answers 'A' and 'C or D'.\"\n",
    "else:\n",
    "    result_other = \"Fail to Reject the Null Hypothesis\"\n",
    "    interpretation_other = \"There is no significant difference in mean accuracy between answers 'A' and 'C or D'.\"\n",
    "\n",
    "# Compute mean and 95% confidence intervals for \"C or D\"\n",
    "mean_other_C_D = df_other_x_C_D.mean()\n",
    "std_other_C_D = df_other_x_C_D.std()\n",
    "n_other_C_D = len(df_other_x_C_D)\n",
    "ci_other_C_D = (\n",
    "    mean_other_C_D - 1.96 * (std_other_C_D / (n_other_C_D ** 0.5)),\n",
    "    mean_other_C_D + 1.96 * (std_other_C_D / (n_other_C_D ** 0.5))\n",
    ")\n",
    "\n",
    "print(\"=== Welch's T-test for Other Data ('A' vs. 'C or D') ===\")\n",
    "print(f\"T-statistic: {t_stat_other:.4f}\")\n",
    "print(f\"P-value:     {p_value_other:.4f}\")\n",
    "print(f\"Result: {result_other} at alpha = {alpha}.\")\n",
    "print(f\"Interpretation: {interpretation_other}\\n\")\n",
    "print(f\"Mean Accuracy (C or D): {mean_other_C_D:.4f}\")\n",
    "print(f\"95% Confidence Interval (C or D): ({ci_other_C_D[0]:.4f}, {ci_other_C_D[1]:.4f})\")\n"
   ]
  },
  {
   "cell_type": "markdown",
   "id": "8484574e",
   "metadata": {},
   "source": [
    "\n",
    "\n",
    "### C - Conclusion\n",
    "\n",
    "This supports what was indicated in A already. For both datasets **there is a significant difference in the mean accuracies** between Answer 'A' and 'C' or 'B'."
   ]
  },
  {
   "cell_type": "markdown",
   "id": "2e1d7754",
   "metadata": {},
   "source": [
    "### 2.4 (2 pt)\n",
    "\n",
    "What an intriguing finding! \n",
    "\n",
    "A. Print the mean accuracies conditioned on the correct answer for all LMs for each dataset.\n",
    "\n",
    "B. /Discuss:/ What do you observe?"
   ]
  },
  {
   "cell_type": "code",
   "execution_count": 100,
   "id": "77801937",
   "metadata": {},
   "outputs": [
    {
     "name": "stdout",
     "output_type": "stream",
     "text": [
      "Mean accuracies MMLU Dataset:\n",
      "result         A         B         C         D\n",
      "X       0.367927  0.884543  1.000000  1.000000\n",
      "Y       0.937500  0.897606  0.827861  0.631608\n",
      "Z       0.476103  0.654073  0.703429  0.727487\n",
      "\n",
      "Mean accuracies Other Dataset:\n",
      "result         A         B         C         D\n",
      "X       0.594564  0.917431  1.000000  1.000000\n",
      "Y       0.973988  0.923940  0.775578  0.435103\n",
      "Z       0.709865  0.742032  0.657358  0.549367\n"
     ]
    }
   ],
   "source": [
    "\n",
    "#A\n",
    "final_accuracy_mmlu_df = pd.DataFrame()\n",
    "final_accuracy_other_df = pd.DataFrame()\n",
    "\n",
    "models = df_mmlu['model_name'].unique()\n",
    "\n",
    "for model in models:\n",
    "    df_mmlu_model = df_mmlu[df_mmlu['model_name'] == model]\n",
    "    df_other_model = df_other[df_other['model_name'] == model]\n",
    "\n",
    "    accuracy_mmlu = df_mmlu_model.groupby('result')['correct'].mean()\n",
    "    accuracy_other = df_other_model.groupby('result')['correct'].mean()\n",
    "    \n",
    "    mmlu_row = pd.DataFrame(accuracy_mmlu).T\n",
    "    other_row = pd.DataFrame(accuracy_other).T\n",
    "    \n",
    "    mmlu_row.index = [model]\n",
    "    other_row.index = [model]\n",
    "    \n",
    "    final_accuracy_mmlu_df = pd.concat([final_accuracy_mmlu_df, mmlu_row])\n",
    "    final_accuracy_other_df = pd.concat([final_accuracy_other_df, other_row])\n",
    "\n",
    "\n",
    "print(\"Mean accuracies MMLU Dataset:\")\n",
    "print(final_accuracy_mmlu_df)\n",
    "print(\"\\nMean accuracies Other Dataset:\")\n",
    "print(final_accuracy_other_df)\n"
   ]
  },
  {
   "cell_type": "markdown",
   "id": "275af450",
   "metadata": {},
   "source": [
    "### B - Discussion\n",
    "\n",
    "\n",
    " Despite a higher overall distribution of correct answers for A across models, again the obervation that LM X seems to answer A too frequently. Almost like default. This is evident from its 36% accuracy on A in the MMLU dataset compared to its perfect scores on C and D. \n",
    "\n",
    " For Model Y it seems almost reversed. Across both  datasets it shows a good mean accuracy for answers A and B. Its accuracy is dropping for C, and particullarly for answer type D to 43.5% for the Other dataset. However, recalling the correct answer distribution from earlier, it seems there is less a bias issue than for LM X. This is because the correct answer distribution for answer type 'D' is compareable low. \n",
    " \n",
    " Model Z exhibits a more balanced and less extreme performance compared to both LM X and LM Y. While its highest accuracy level is 74.2% it has a moderate accuracy distribution across both datasets. However, it is worth mentoning that it only achieved  a mean accuracy of 47.6% for answer type 'A' for dataset MMLU. This might highlight a specific area of weakness despite its generally even performance profile."
   ]
  },
  {
   "cell_type": "markdown",
   "id": "31947726",
   "metadata": {},
   "source": [
    "### 2.5 (2 pt)\n",
    "\n",
    "Concerned with your findings so far, you quickly consult with Geronimo. After thinking it over, Geronimo concludes that more tests are needed. He orders a second round of MMLU results. However, Geronimo thinks of the following twist: while keeping questions fixed, he randomly permutes the position of the correct answer. The new results can be found in the folder `data/task_2_5/`:\n",
    "```\n",
    "task_2_5/\n",
    "│\n",
    "└── lm_scores_mmlu_shuffle.csv\n",
    "```\n",
    "\n",
    "/Discuss:/ Why would Geronimo do this?"
   ]
  },
  {
   "cell_type": "markdown",
   "id": "366aedc8",
   "metadata": {},
   "source": [
    "B. /Discuss:/\n",
    "\n",
    "\n",
    "A,14,Find the maximum possible order for an element of S_n for n = 10.,6,12,30,105,C,abstract algebra,False,X\n",
    "\n",
    "\n",
    "A,14,Find the maximum possible order for an element of S_n for n = 10.,30,12,6,105,A,abstract algebra,True,X"
   ]
  },
  {
   "cell_type": "markdown",
   "id": "bb158adf",
   "metadata": {},
   "source": [
    "### 2.6 (4 pt)\n",
    "\n",
    "Increasingly sceptical of the language models' performance, you read up on proper testing practices. You stumble upon the concept of [test-rested stability](https://en.wikipedia.org/wiki/Repeatability), which roughtly states that:\n",
    "\n",
    "\"_Measurements taken by a single person or instrument on the same item, under the same conditions, and in a short period of time, should have the same results._\"\n",
    "\n",
    "In our case, we would assume an LM would have the same performance on a given question regardless of the correct answer position. One way of testing this is by using the following metric:\n",
    "\n",
    "$$\\text{test-retest metric} = \\frac{1}{N}\\sum_{i=1}^N \\frac{1}{M}\\sum_{j=1}^M c^i_0 c_j^i,$$\n",
    "\n",
    "where $c^i_0 \\in \\{0, 1\\}$ indicates whether the model answers the $i^{\\text{th}}$ question correctly (1 if correct, 0 if incorrect). $c_j^i$ indicates whether the model answers the $i^{\\text{th}}$ question correctly in the $j^{\\text{th}}$ shuffled version of the answer label content. Finally, $M$ is the total number of shuffles and $N$ is the dataset size.\n",
    "\n",
    "Task: compute the test-retest metric for each language model using the original `lm_scores_mmlu.csv` file and the new `lm_scores_mmlu_shuffle.csv` file. Using a bar plot, visualize your results by comparing the accuracy of the original `lm_scores_mmlu.csv` and the test-retest scores.\n",
    "\n",
    "**hints**\n",
    "- what is $M$ in our case?\n",
    "\n",
    "(bonus: no points, but so much sweet, sweet knowledge - check out [the following article](https://arxiv.org/pdf/2406.19470v1))"
   ]
  },
  {
   "cell_type": "code",
   "execution_count": 101,
   "id": "46ce6153",
   "metadata": {},
   "outputs": [
    {
     "name": "stdout",
     "output_type": "stream",
     "text": [
      "Model: X, N: 11696, M: 1.0\n",
      "Model: Y, N: 11696, M: 1.0\n",
      "Model: Z, N: 11696, M: 1.0\n",
      "  Model  Original Accuracy  Test-Retest Score\n",
      "0     X           0.743588           0.588406\n",
      "1     Y           0.761542           0.571648\n",
      "2     Z           0.655951           0.441604\n"
     ]
    },
    {
     "data": {
      "text/plain": [
       "<Figure size 1000x500 with 0 Axes>"
      ]
     },
     "metadata": {},
     "output_type": "display_data"
    },
    {
     "data": {
      "image/png": "[encoded data removed]",
      "text/plain": [
       "<Figure size 1000x500 with 1 Axes>"
      ]
     },
     "metadata": {},
     "output_type": "display_data"
    }
   ],
   "source": [
    "import pandas as pd\n",
    "import matplotlib.pyplot as plt\n",
    "\n",
    "\n",
    "df_mmlu = pd.read_csv(\"data/task_2/lm_scores_mmlu.csv\")\n",
    "df_mmlu_shuffle = pd.read_csv(\"data/task_2_5/lm_scores_mmlu_shuffle.csv\")\n",
    "\n",
    "#identify unique models\n",
    "models = df_mmlu[\"model_name\"].unique()\n",
    "\n",
    "#compute original accuracy for each model\n",
    "original_accuracy = df_mmlu.groupby(\"model_name\")[\"correct\"].mean()\n",
    "\n",
    "#compute Test-Retest metric for each model\n",
    "test_retest_scores = {}\n",
    "\n",
    "for model in models:\n",
    "    df_orig_model = df_mmlu[df_mmlu[\"model_name\"] == model]\n",
    "    df_shuf_model = df_mmlu_shuffle[df_mmlu_shuffle[\"model_name\"] == model]\n",
    "\n",
    "    #merge on question_id\n",
    "    merged = df_orig_model.merge(\n",
    "        df_shuf_model,\n",
    "        on=\"question_id\",\n",
    "        suffixes=(\"_orig\", \"_shuf\")\n",
    "    )\n",
    "    \n",
    "    #number of unique questions. This is N.\n",
    "    N = merged[\"question_id\"].nunique()\n",
    "    #number of shuffled versions per question. This is M.\n",
    "    M = len(df_shuf_model) / N\n",
    "    print(f\"Model: {model}, N: {N}, M: {M}\")\n",
    "\n",
    "    #compute test-retest metric\n",
    "    test_retest_metric = (merged[\"correct_orig\"] * merged[\"correct_shuf\"]).sum() / (N * M)\n",
    "    test_retest_scores[model] = test_retest_metric\n",
    "\n",
    "df_results = pd.DataFrame({\n",
    "    \"Model\": models,\n",
    "    \"Original Accuracy\": original_accuracy.values,\n",
    "    \"Test-Retest Score\": [test_retest_scores[model] for model in models]\n",
    "})\n",
    "\n",
    "df_results.sort_values(\"Model\", inplace=True)\n",
    "df_results.reset_index(drop=True, inplace=True)\n",
    "\n",
    "print(df_results)\n",
    "\n",
    "#plot\n",
    "plt.figure(figsize=(10, 5))\n",
    "df_results.set_index(\"Model\").plot(kind=\"bar\", figsize=(10, 5))\n",
    "plt.title(\"Comparison of Original Accuracy and Test-Retest Score per Model\")\n",
    "plt.xlabel(\"Model\")\n",
    "plt.ylabel(\"Score / Accuracy\")\n",
    "plt.xticks(rotation=45)\n",
    "plt.grid(axis=\"y\", linestyle=\"--\", alpha=0.7)\n",
    "plt.legend(title=\"Metrics\")\n",
    "plt.tight_layout()\n",
    "plt.show()"
   ]
  },
  {
   "cell_type": "markdown",
   "id": "62d52d93",
   "metadata": {},
   "source": [
    "### 2.7 (2 pt)\n",
    "\n",
    "A. Using the unshuffled data: For each LM, print the distribution of the answers they give as well as the accuracy conditioned on the answer they give.\n",
    "\n",
    "B. /Discuss:/ Describe what you observe\n",
    "\n",
    "[bonus: not scored, but again _that sweet, sweet knowledge_] Could you think of a plausible explanation?"
   ]
  },
  {
   "cell_type": "code",
   "execution_count": 102,
   "id": "579c30cf",
   "metadata": {},
   "outputs": [
    {
     "name": "stdout",
     "output_type": "stream",
     "text": [
      "Answer Distribution per Model:\n",
      "result             A         B         C         D\n",
      "model_name                                        \n",
      "X           0.364142  0.227343  0.205968  0.202548\n",
      "Y           0.091655  0.192886  0.257780  0.457678\n",
      "Z           0.186047  0.246666  0.276761  0.290527\n",
      "\n",
      "Accuracy per Answer per Model:\n",
      "result             A         B         C         D\n",
      "model_name                                        \n",
      "X           0.367927  0.884543  1.000000  1.000000\n",
      "Y           0.937500  0.897606  0.827861  0.631608\n",
      "Z           0.476103  0.654073  0.703429  0.727487\n"
     ]
    }
   ],
   "source": [
    "#A\n",
    "\n",
    "#Using the unshuffled data: For each LM, print the distribution of the answers they give as well as the accuracy conditioned on the answer they give.\n",
    "\n",
    "#compute the distribution of answers and accuracy for each model\n",
    "answer_distribution = df_mmlu.groupby(\"model_name\")[\"result\"].value_counts(normalize=True)\n",
    "accuracy_per_answer = df_mmlu.groupby([\"model_name\", \"result\"])[\"correct\"].mean()\n",
    "\n",
    "print(\"Answer Distribution per Model:\")\n",
    "print(answer_distribution.unstack().fillna(0))\n",
    "print(\"\\nAccuracy per Answer per Model:\")\n",
    "print(accuracy_per_answer.unstack().fillna(0))\n"
   ]
  },
  {
   "cell_type": "markdown",
   "id": "8e2493f8",
   "metadata": {},
   "source": [
    "### B - Discussion\n",
    "\n",
    "The analysis shows that LMs often display uneven answer distributions, favoring some answer options over others, and that the conditional accuracy (accuracy given a particular answer) can vary significantly between options. This suggests that models may be relying on learned biases—whether from the structure of the test data or the idiosyncrasies of their training data—instead of solely basing their choices on the actual content of the questions. Such observations underscore the importance of careful dataset design (e.g., shuffling answer options) and model calibration when evaluating performance on multiple-choice tasks."
   ]
  },
  {
   "cell_type": "markdown",
   "id": "2d45a77b",
   "metadata": {},
   "source": [
    "## Task 3 (16 points): What do Questions and Answers look like for a Language Model?\n",
    "\n",
    "While you feel pretty good about the tests you conducted so far, something still bothers you: what if the language models don't see the data like you do? Suddenly, you receive a phone call from a wise AI sage based in Maastricht named Yodata:\n",
    "\n",
    "```\n",
    "\"Hmmm, correct you are, jonge padawan, to question how the wereld is seen by large language models! Simple 'text,' it is not, nee nee nee! Characters and words, the way of gewone humans, this is not, heh heh heh.\n",
    "\n",
    "'Tokens,' they use, ja! Mysterious and powerful, these tokens are. Expand our vocabulary, they do, beyond the simple 'a to Z.' Chunky blocks of text, they become, yes! 'Hello world,' a simple phrase it may seem. But to a language model, '[24912, 2375]' it might appear, hmm? Verwarrend, it is!\n",
    "\n",
    "Wise, it would be, to explore these MMLU data points through the eyes of a language model, you think? Yes, yes! Much to learn, there is. The ways of the tokens, understand you must, if truly comprehend the great LMs, you wish to.\n",
    "\n",
    "Meditate on this, you should. The force of natural language processing, strong it is. But geduld, you must have, my jonge padawan. For only through great study and contemplation, will the mysteries of the tokens reveal themselves to you, they will. Ja, hmmm!\"\n",
    "```\n",
    "\n",
    "Admittingly, Yodata at times speaks in riddles... However, he was explaining a crucial aspect of modern LMs called [Tokenization](https://learn.microsoft.com/en-us/dotnet/ai/conceptual/understanding-tokens):\n",
    "\n",
    "\n",
    "“Tokens are words, character sets, or combinations of words and punctuation that are used by [language models (LMs)] to decompose text into. Tokenization is the first step in training”\n",
    "\n",
    "Instead of characters, LMs process natural language using “tokens”. While this is useful for a number of reasons, it does at times introduce some “unintuitive” behavior…"
   ]
  },
  {
   "cell_type": "code",
   "execution_count": 103,
   "id": "001c4c53",
   "metadata": {},
   "outputs": [
    {
     "name": "stdout",
     "output_type": "stream",
     "text": [
      "humans see: \"hello world\" --> language models see: [24912, 2375]\n"
     ]
    }
   ],
   "source": [
    "# PROVIDED CODE\n",
    "\n",
    "try:\n",
    "    import tiktoken\n",
    "except Exception as e:\n",
    "    print('installing tiktoken package')\n",
    "    \n",
    "    ! pip install tiktoken\n",
    "    \n",
    "    import tiktoken\n",
    "\n",
    "def tokenize_text(s):\n",
    "    enc = tiktoken.encoding_for_model('gpt-4o')\n",
    "    tokens = enc.encode(str(s))\n",
    "    return tokens\n",
    "\n",
    "example_string = 'hello world'\n",
    "print(f'humans see: \"{example_string}\" --> language models see: {tokenize_text(example_string)}')"
   ]
  },
  {
   "cell_type": "markdown",
   "id": "0ab56227",
   "metadata": {},
   "source": [
    "### 3.1 (5 pt)\n",
    "\n",
    "Use the provided code in the cell above to \"see the world through the eyes of a language model\":\n",
    "\n",
    "A. Tokenize the questions of the original MMLU data provided in task 1: `task_1/mmlu_data/test.csv` and plot the token distribution (the frequency of each token).\n",
    "\n",
    "B. Same as (A), but now for the answers in columns (columns \"A\", \"B\", \"C\", and \"D\").\n",
    "\n",
    "C. Isolate the tokens for the strings \"A\", \"B\", \"C\", and \"D\", then, for their occurances in both questions and answers, print their relative distribution to each other.\n",
    "\n",
    "**hint**\n",
    "- There are a _lot_ of tokens, consider using a cutoff point and log scale\n",
    "- For (c), they should sum to 1"
   ]
  },
  {
   "cell_type": "code",
   "execution_count": 104,
   "id": "a00f69cf",
   "metadata": {
    "scrolled": true
   },
   "outputs": [
    {
     "data": {
      "image/png": "[encoded data removed]",
      "text/plain": [
       "<Figure size 1200x600 with 1 Axes>"
      ]
     },
     "metadata": {},
     "output_type": "display_data"
    }
   ],
   "source": [
    "#A\n",
    "\n",
    "from collections import Counter\n",
    "import matplotlib.ticker as ticker\n",
    "\n",
    "\n",
    "df = pd.read_csv(\"data/task_1/mmlu_data/test.csv\")\n",
    "questions = df[\"question\"].dropna().tolist()\n",
    "\n",
    "#tokenize each question and accumulate all tokens\n",
    "all_tokens = []\n",
    "for question in questions:\n",
    "    all_tokens.extend(tokenize_text(question))\n",
    "\n",
    "# count the frequency of each token\n",
    "token_counts = Counter(all_tokens)\n",
    "\n",
    "# get the top 50 tokens by frequency\n",
    "top_tokens = token_counts.most_common(50)\n",
    "tokens, counts = zip(*top_tokens)\n",
    "\n",
    "# plot the token frequency distribution\n",
    "plt.figure(figsize=(12, 6))\n",
    "plt.bar([str(token) for token in tokens], counts)\n",
    "plt.yscale('log')\n",
    "\n",
    "#this locator places ticks at every integer multiple in each decade \n",
    "ax = plt.gca()\n",
    "ax.yaxis.set_major_locator(ticker.LogLocator(base=10, subs=np.arange(1, 10)))\n",
    "ax.yaxis.set_major_formatter(ticker.ScalarFormatter())\n",
    "\n",
    "plt.xlabel(\"Token ID\")\n",
    "plt.ylabel(\"Frequency\")\n",
    "plt.title(\"Top 50 Token Frequencies in Questions\")\n",
    "plt.xticks(rotation=90)\n",
    "plt.tight_layout()\n",
    "plt.show()"
   ]
  },
  {
   "cell_type": "code",
   "execution_count": 105,
   "id": "7f4ce783",
   "metadata": {},
   "outputs": [
    {
     "data": {
      "image/png": "[encoded data removed]",
      "text/plain": [
       "<Figure size 1200x600 with 1 Axes>"
      ]
     },
     "metadata": {},
     "output_type": "display_data"
    }
   ],
   "source": [
    "#B\n",
    "\n",
    "df = pd.read_csv(\"data/task_1/mmlu_data/test.csv\")\n",
    "answer_columns = [\"A\", \"B\", \"C\", \"D\"]\n",
    "all_answer_tokens = []\n",
    "\n",
    "#loop through each answer column and tokenize each answer\n",
    "for col in answer_columns:\n",
    "    answers = df[col].dropna().tolist()\n",
    "    for answer in answers:\n",
    "        all_answer_tokens.extend(tokenize_text(answer))\n",
    "\n",
    "#count the frequency of each token\n",
    "token_counts = Counter(all_answer_tokens)\n",
    "\n",
    "#select the top 50 tokens by frequency\n",
    "top_tokens = token_counts.most_common(50)\n",
    "tokens, counts = zip(*top_tokens)\n",
    "\n",
    "#bar plot for the token frequency distribution\n",
    "plt.figure(figsize=(12, 6))\n",
    "plt.bar([str(token) for token in tokens], counts)\n",
    "plt.yscale('log')\n",
    "\n",
    "#the following will create ticks at every integer multiple between powers of 10 \n",
    "ax = plt.gca()\n",
    "ax.yaxis.set_major_locator(ticker.LogLocator(base=10, subs=np.arange(1, 10)))\n",
    "ax.yaxis.set_major_formatter(ticker.ScalarFormatter())\n",
    "\n",
    "plt.xlabel(\"Token ID\")\n",
    "plt.ylabel(\"Frequency\")\n",
    "plt.title(\"Top 50 Token Frequencies in Answer Options\")\n",
    "plt.xticks(rotation=90)\n",
    "plt.tight_layout()\n",
    "plt.show()"
   ]
  },
  {
   "cell_type": "code",
   "execution_count": 106,
   "id": "8015e92e",
   "metadata": {},
   "outputs": [
    {
     "name": "stdout",
     "output_type": "stream",
     "text": [
      "Relative distribution of tokens for 'A', 'B', 'C', and 'D':\n",
      "  A: 0.7917 (raw count: 3314)\n",
      "  B: 0.0602 (raw count: 252)\n",
      "  C: 0.1015 (raw count: 425)\n",
      "  D: 0.0466 (raw count: 195)\n"
     ]
    }
   ],
   "source": [
    "#C\n",
    "df = pd.read_csv(\"data/task_1/mmlu_data/test.csv\")\n",
    "all_tokens = []\n",
    "\n",
    "questions = df[\"question\"].dropna().tolist()\n",
    "for question in questions:\n",
    "    all_tokens.extend(tokenize_text(question))\n",
    "\n",
    "answer_columns = [\"A\", \"B\", \"C\", \"D\"]\n",
    "for col in answer_columns:\n",
    "    answers = df[col].dropna().tolist()\n",
    "    for answer in answers:\n",
    "        all_tokens.extend(tokenize_text(answer))\n",
    "\n",
    "#count the frequency of each token in the combined list\n",
    "combined_counter = Counter(all_tokens)\n",
    "\n",
    "# for each of the strings \"A\", \"B\", \"C\", and \"D\", find its token representation.\n",
    "# (we assume that tokenizing a single letter returns a list with one token.)\n",
    "letters = [\"A\", \"B\", \"C\", \"D\"]\n",
    "letter_tokens = {letter: tokenize_text(letter)[0] for letter in letters}\n",
    "\n",
    "# extract the raw counts for each letter token from the combined counter.\n",
    "letter_counts = {letter: combined_counter[letter_tokens[letter]] for letter in letters}\n",
    "\n",
    "# compute the total count for these letter tokens.\n",
    "total_letter_count = sum(letter_counts.values())\n",
    "\n",
    "print(\"Relative distribution of tokens for 'A', 'B', 'C', and 'D':\")\n",
    "for letter in letters:\n",
    "    relative_frequency = letter_counts[letter] / total_letter_count if total_letter_count else 0\n",
    "    print(f\"  {letter}: {relative_frequency:.4f} (raw count: {letter_counts[letter]})\")\n"
   ]
  },
  {
   "cell_type": "markdown",
   "id": "2a9d0055",
   "metadata": {},
   "source": [
    "### 3.2 (3 pt)\n",
    "\n",
    "What if the number of \"A\", \"B\", \"C\", and \"D\" tokens in the question and answer pairs could influence a language model's decisions?\n",
    "\n",
    "A. For each question-answer pair, compute: \n",
    "1. the number of \"A\", \"B\", \"C\", and \"D\" tokens that occur in the combined question and answers; \n",
    "2. an the total number of tokens.\n",
    "3. then, group by the \"correct\" answer and compute the mean frequency of A, B, C, and D tokens and the total number of tokens. \n",
    "4. finally, print your results\n",
    "\n",
    "B. /Discuss:/ What do you think of the hypothesis that the frequency of A, B, C, and D tokens could influence answers?\n"
   ]
  },
  {
   "cell_type": "code",
   "execution_count": 107,
   "id": "cf09aaf6",
   "metadata": {},
   "outputs": [
    {
     "name": "stdout",
     "output_type": "stream",
     "text": [
      "\n",
      "Mean token frequencies grouped by correct answer:\n",
      "            A      B      C      D   total\n",
      "answer                                    \n",
      "A       0.217  0.025  0.028  0.015  92.977\n",
      "B       0.212  0.022  0.031  0.018  88.566\n",
      "C       0.202  0.021  0.035  0.014  92.385\n",
      "D       0.218  0.020  0.036  0.018  91.843\n"
     ]
    }
   ],
   "source": [
    "\n",
    "#A\n",
    "def compute_token_statistics():\n",
    "    # ititialize the tokenizer\n",
    "    tokenizer = tiktoken.encoding_for_model(\"gpt-4\")\n",
    "    \n",
    "    # create a mapping from each letter to its token ID\n",
    "    letter_to_id = {letter: tokenizer.encode(letter)[0] for letter in \"ABCD\"}\n",
    "    \n",
    "    # list to store token count details for each data entry\n",
    "    token_info = []\n",
    "    \n",
    "    # iterate over each row in the DataFrame\n",
    "    for _, record in df_test.iterrows():\n",
    "        # concatenate the question and all answer choices into one string\n",
    "        text_blob = (\n",
    "            str(record[\"question\"]) +\n",
    "            str(record[\"A\"]) +\n",
    "            str(record[\"B\"]) +\n",
    "            str(record[\"C\"]) +\n",
    "            str(record[\"D\"])\n",
    "        )\n",
    "        # tokenize the concatenated string\n",
    "        token_list = tokenizer.encode(text_blob)\n",
    "        \n",
    "        # calculate counts for each target token and the total token count\n",
    "        counts = {letter: token_list.count(letter_to_id[letter]) for letter in \"ABCD\"}\n",
    "        counts[\"total\"] = len(token_list)\n",
    "        counts[\"answer\"] = record[\"answer\"]\n",
    "        \n",
    "        token_info.append(counts)\n",
    "    \n",
    "    # convert the list of dictionaries into a DataFrame\n",
    "    token_df = pd.DataFrame(token_info)\n",
    "    \n",
    "    # group by the correct answer and compute the mean counts for A, B, C, D, and total tokens\n",
    "    grouped_means = token_df.groupby(\"answer\")[list(\"ABCD\") + [\"total\"]].mean()\n",
    "    \n",
    "    return grouped_means\n",
    "\n",
    "# execute the function and print the results\n",
    "stats = compute_token_statistics()\n",
    "print(\"\\nMean token frequencies grouped by correct answer:\")\n",
    "print(stats.round(3))"
   ]
  },
  {
   "cell_type": "markdown",
   "id": "020511d4",
   "metadata": {},
   "source": [
    "B. /Discuss:/\n",
    "\n",
    "The results suggest that the frequency of \"A\", \"B\", \"C\", and \"D\" tokens in the combined question and answers varies slightly across correct answers. However, these differences are small, meaning there is no strong evidence that the number of specific tokens directly influences the LM’s choice. If the model were biased toward selecting answers based on token frequency, we would expect a stronger correlation. Nonetheless, subtle biases cannot be ruled out, and further testing would be needed to confirm whether token distribution affects answer selection in a meaningful way."
   ]
  },
  {
   "cell_type": "markdown",
   "id": "c2b42b74",
   "metadata": {},
   "source": [
    "### 3.3 (4 pt)\n",
    "\n",
    "Three of the most important considerations when deciding between language models are:\n",
    "\n",
    "Quality\n",
    "Costs\n",
    "Speed\n",
    "\n",
    "So far, much of your analysis has focused on quality. However, the government has indicated that they are quite concerned about both the total costs and speed as well. Specifically, it has been brought to their attention that a new `turbo` model has been launched! \n",
    "\n",
    "This model is both cheaper and faster than the models you evaluated so far. However, there is a catch: the context length* is much smaller than that of the other LMS. Namely, it can only process **300** tokens during inference. Meanwhile, the other models can process up to 100K tokens! \n",
    "\n",
    "*_The “context length” refers to the number of tokens that can be given to an LM as input._\n",
    "\n",
    "A. Are there subjects where using the cheaper model might be problematic? I.e., where part of the question and answer(s) might not fit completely in the context?\n",
    "\n",
    "B. /Discuss:/ Can you think of a strategy that would balance the needs of the government?\n",
    "\n",
    "**hint**:\n",
    "- An LM needs to have both the question and the different answer options in its context"
   ]
  },
  {
   "cell_type": "code",
   "execution_count": 108,
   "id": "f365f2b6",
   "metadata": {},
   "outputs": [],
   "source": [
    "#A\n",
    "def check_context_length(df):\n",
    "    lengths = []\n",
    "    for idx, row in df.iterrows():\n",
    "        question_tokens = tokenize_text(row['question'])\n",
    "        answers_tokens = []\n",
    "\n",
    "        for ans_col in ['A','B','C','D']:\n",
    "            answers_tokens.extend(tokenize_text(str(row[ans_col])))\n",
    "        total_len = len(question_tokens) + len(answers_tokens)\n",
    "        lengths.append(total_len)\n",
    "    df['context_length'] = lengths\n",
    "    return df"
   ]
  },
  {
   "cell_type": "code",
   "execution_count": 109,
   "id": "0e97e3a9",
   "metadata": {},
   "outputs": [
    {
     "name": "stdout",
     "output_type": "stream",
     "text": [
      "subject\n",
      "abstract algebra                        48.300000\n",
      "anatomy                                 48.148148\n",
      "astronomy                               58.203947\n",
      "business ethics                         57.320000\n",
      "clinical knowledge                      46.290566\n",
      "college biology                         62.395833\n",
      "college chemistry                       61.160000\n",
      "college computer science                91.220000\n",
      "college mathematics                     64.480000\n",
      "college medicine                        92.369942\n",
      "college physics                         64.450980\n",
      "computer security                       49.780000\n",
      "conceptual physics                      30.510638\n",
      "econometrics                            82.929825\n",
      "electrical engineering                  32.117241\n",
      "elementary mathematics                  46.058201\n",
      "formal logic                            92.150794\n",
      "global facts                            37.660000\n",
      "high school biology                     64.412903\n",
      "high school chemistry                   65.458128\n",
      "high school computer science            92.850000\n",
      "high school european history           331.218182\n",
      "high school geography                   35.222222\n",
      "high school government and politics     56.450777\n",
      "high school macroeconomics              52.192308\n",
      "high school mathematics                 54.355556\n",
      "high school microeconomics              56.823529\n",
      "high school physics                     82.357616\n",
      "high school psychology                  49.625688\n",
      "high school statistics                 104.032407\n",
      "high school us history                 290.387255\n",
      "high school world history              328.535865\n",
      "human aging                             33.461883\n",
      "human sexuality                         43.190840\n",
      "international law                       74.975207\n",
      "jurisprudence                           55.527778\n",
      "logical fallacies                       54.441718\n",
      "machine learning                        62.767857\n",
      "management                              29.223301\n",
      "marketing                               44.200855\n",
      "medical genetics                        39.270000\n",
      "miscellaneous                           33.333333\n",
      "moral disputes                          55.167630\n",
      "moral scenarios                         89.027933\n",
      "nutrition                               54.166667\n",
      "philosophy                              47.057878\n",
      "prehistory                              52.169753\n",
      "professional accounting                 84.134752\n",
      "professional law                       238.537810\n",
      "professional medicine                  167.018382\n",
      "professional psychology                 62.524510\n",
      "public relations                        41.881818\n",
      "security studies                       142.779592\n",
      "sociology                               54.507463\n",
      "us foreign policy                       47.010000\n",
      "virology                                41.006024\n",
      "world religions                         27.298246\n",
      "Name: context_length, dtype: float64\n"
     ]
    }
   ],
   "source": [
    "df = pd.read_csv(\"data/task_1/mmlu_data/test.csv\")\n",
    "result = check_context_length(df)\n",
    "#result.head()\n",
    "print(result.groupby('subject')['context_length'].mean())"
   ]
  },
  {
   "cell_type": "code",
   "execution_count": 110,
   "id": "22f0d6b5",
   "metadata": {},
   "outputs": [
    {
     "name": "stdout",
     "output_type": "stream",
     "text": [
      "Subjects with average context length > 300:\n",
      "subject\n",
      "high school european history    331.218182\n",
      "high school world history       328.535865\n",
      "Name: context_length, dtype: float64\n"
     ]
    }
   ],
   "source": [
    "grouped_result = result.groupby('subject')['context_length'].mean()\n",
    "print(\"Subjects with average context length > 300:\")\n",
    "print(grouped_result[grouped_result>300])"
   ]
  },
  {
   "cell_type": "code",
   "execution_count": 111,
   "id": "802e210d",
   "metadata": {},
   "outputs": [
    {
     "name": "stdout",
     "output_type": "stream",
     "text": [
      "Subjects with minimum context length > 300:\n",
      "Series([], Name: context_length, dtype: int64)\n"
     ]
    }
   ],
   "source": [
    "grouped_result = result.groupby('subject')['context_length'].min()\n",
    "print(\"Subjects with minimum context length > 300:\")\n",
    "print(grouped_result[grouped_result>300])"
   ]
  },
  {
   "cell_type": "markdown",
   "id": "4231fdc6",
   "metadata": {},
   "source": [
    "B. /Discuss:/"
   ]
  },
  {
   "cell_type": "markdown",
   "id": "49be322a",
   "metadata": {},
   "source": [
    "### B - Discussion\n",
    "\n",
    "One strategy is to first check the total number of tokens in the question and answer options. If the token count is 300 or less, you can use the turbo model since it is faster and cheaper. However, if the token count exceeds 300, you should switch to a model with a larger context window to ensure that all the information is processed correctly, even if it is more expensive and slower. Additionally, you could consider summarizing or trimming the text to reduce the number of tokens when possible. This way, you optimize cost and speed without compromising the quality of the response."
   ]
  },
  {
   "cell_type": "markdown",
   "id": "44558c5d",
   "metadata": {},
   "source": [
    "### 3.4 (4 pt)\n",
    "\n",
    "/Discuss:/ \n",
    "\n",
    "\n",
    "The time has come to give your final recommendation on the use of LMs in education to the government! Taking into account everything you analyzed in all the preceding tasks (1, 2, and 3), please write a short recommendation consisting of 4 bullet points discussing your concerns."
   ]
  },
  {
   "cell_type": "markdown",
   "id": "61c2e634",
   "metadata": {},
   "source": [
    "### B - Discussion\n",
    "\n",
    "**1. Bias and accuracy issues: The performance of LMs varies significantly across subjects and response types. Analysis has shown that some models struggle with certain questions, or show inconsistent accuracy depending on answer formatting.** Tokenisation effects and answer position biases raise concerns about the fairness and reliability of using LMs for grading or assessment purposes.  \n",
    "\n",
    "**2. Test-retest stability: LMs do not always provide consistent answers to the same questions when answer positions are shuffled, highlighting issues with test-retest reliability.** This variability means that students could receive different scores based on factors unrelated to knowledge, which is problematic for standardised tests.  \n",
    "\n",
    "**3. Cost vs. Context Length Trade-Off: Cheaper, faster LMs (e.g. \"turbo\" models) often have limited context windows, leading to incomplete processing of longer questions and answers.** A hybrid strategy - using cheaper models when the context fits, but switching to more powerful models for more complex tasks - could balance cost and effectiveness.  \n",
    "\n",
    "**4. Potential for misuse and over-reliance: While LMs can enhance learning, over-reliance on them could reduce students' critical thinking and problem-solving skills.** Guidelines need to be established to prevent misuse, such as students relying entirely on AI for tasks (hihi) instead of engaging with the material."
   ]
  }
 ],
 "metadata": {
  "kernelspec": {
   "display_name": "data_analysis_cours",
   "language": "python",
   "name": "python3"
  },
  "language_info": {
   "codemirror_mode": {
    "name": "ipython",
    "version": 3
   },
   "file_extension": ".py",
   "mimetype": "text/x-python",
   "name": "python",
   "nbconvert_exporter": "python",
   "pygments_lexer": "ipython3",
   "version": "3.11.11"
  }
 },
 "nbformat": 4,
 "nbformat_minor": 5
}
